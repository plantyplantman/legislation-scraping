{
 "cells": [
  {
   "cell_type": "code",
   "execution_count": 2,
   "metadata": {},
   "outputs": [
    {
     "data": {
      "text/plain": [
       "336"
      ]
     },
     "execution_count": 2,
     "metadata": {},
     "output_type": "execute_result"
    }
   ],
   "source": [
    "from glob import glob\n",
    "\n",
    "act_legislations = glob('docs/2023-05-18__ACT-LEGISLATION/*.txt')\n",
    "\n",
    "len(act_legislations)"
   ]
  },
  {
   "cell_type": "code",
   "execution_count": 3,
   "metadata": {},
   "outputs": [
    {
     "data": {
      "text/plain": [
       "['docs/2023-05-18__ACT-LEGISLATION/ENCLOSED LANDS PROTECTION ACT 1943.txt',\n",
       " 'docs/2023-05-18__ACT-LEGISLATION/HUMAN RIGHTS COMMISSION ACT 2005.txt',\n",
       " 'docs/2023-05-18__ACT-LEGISLATION/DUTIES ACT 1999.txt',\n",
       " 'docs/2023-05-18__ACT-LEGISLATION/MERCANTILE LAW ACT 1962.txt',\n",
       " 'docs/2023-05-18__ACT-LEGISLATION/WORKPLACE LEGISLATION AMENDMENT ACT 2022.txt']"
      ]
     },
     "execution_count": 3,
     "metadata": {},
     "output_type": "execute_result"
    }
   ],
   "source": [
    "act_legislations[:5]"
   ]
  },
  {
   "cell_type": "code",
   "execution_count": 17,
   "metadata": {},
   "outputs": [
    {
     "data": {
      "text/plain": [
       "336"
      ]
     },
     "execution_count": 17,
     "metadata": {},
     "output_type": "execute_result"
    }
   ],
   "source": [
    "ACT_LEGISLATION = []\n",
    "for legislation in act_legislations:\n",
    "    with open(legislation, 'r') as f:\n",
    "        ACT_LEGISLATION.append(f.read())\n",
    "\n",
    "len(ACT_LEGISLATION)"
   ]
  },
  {
   "cell_type": "code",
   "execution_count": 18,
   "metadata": {},
   "outputs": [
    {
     "data": {
      "text/plain": [
       "10622614"
      ]
     },
     "execution_count": 18,
     "metadata": {},
     "output_type": "execute_result"
    }
   ],
   "source": [
    "import tiktoken\n",
    "tokens = 0\n",
    "enc = tiktoken.get_encoding(\"cl100k_base\")\n",
    "for legislation in ACT_LEGISLATION:\n",
    "    tokens += len(enc.encode(legislation))\n",
    "tokens"
   ]
  },
  {
   "cell_type": "code",
   "execution_count": 21,
   "metadata": {},
   "outputs": [
    {
     "data": {
      "text/plain": [
       "'ENCLOSED LANDS PROTECTION ACT 1943 \\n\\n- TABLE OF PROVISIONS\\n\\n1. Name of Act   \\n2. Dictionary  \\n3. Notes  \\n4. Penalty for unlawful entry on enclosed lands   \\n5. Penalty for leaving gate open   \\n6. Requirement to give name etc   \\n7. Owner may destroy goats   \\nDICTIONARY\\nENDNOTES\\n\\nENCLOSED LANDS PROTECTION ACT 1943\\n- LONG TITLE\\nAn Act relating to protection of enclosed lands from intrusion and\\ntrespass\\n       \\n       \\n \\n\\nENCLOSED LANDS PROTECTION ACT 1943\\n- SECT 1\\nName of Act \\nThis Act is the Enclosed Lands Protection Act 1943.\\n\\nENCLOSED LANDS PROTECTION ACT 1943\\n- SECT 2\\nDictionary\\nThe dictionary at the end of this Act is part of this Act.\\nNote 1     The dictionary at the end of this Act defines certain terms\\nused in this Act.\\nNote 2     A definition in the dictionary applies to the entire Act\\nunless the definition, or another provision of the Act, provides otherwise or\\nthe contrary intention otherwise appears (see Legislation Act\\n, s 155 and s 156 (1)).\\n\\nENCLOSED LANDS PROTECTION ACT 1943\\n- SECT 3\\nNotes\\nA note included in this Act is explanatory and is not part of this\\nAct.\\nNote     See the Legislation Act \\n, s 127 (1), (4) and (5) for the legal status of notes.\\n\\nENCLOSED LANDS PROTECTION ACT 1943\\n- SECT 4\\nPenalty for unlawful entry on enclosed lands \\n     (1)     Any person who, without lawful excuse (proof of which lies on the\\nperson), enters into the enclosed land of any other person, without the consent\\nof the owner or occupier or the person in charge of those lands, commits an\\noffence.\\nMaximum penalty:  5 penalty units.\\n     (2)     Without limiting the expression lawful excuse in\\nsubsection (1), a drover or person in charge of stock being driven on a road\\nlawfully enclosed with the lands of any person is taken to have lawful excuse\\nfor entering those lands for the purpose of preventing the stock from straying\\nor of regaining control of stock that have strayed from that road.\\n     (3)     If a road is lawfully enclosed with the lands of any person and the\\nroad is not clearly defined and--\\n         (a)     if there is a reasonably defined track commonly used by people passing\\nthrough those lands--the centre of the track is taken, for this Act, to be\\nthe centre of the road; or\\n         (b)     if there is no reasonably defined track through the lands--a\\nperson passing through the lands does not commit an offence against this section\\nunless it is shown that the route taken by the person in so passing was, having\\nregard to the circumstances, unreasonable.\\n\\nENCLOSED LANDS PROTECTION ACT 1943\\n- SECT 5\\nPenalty for leaving gate open \\n     (1)     Any person who enters into or on the enclosed lands of any other\\nperson, and wilfully or negligently leaves any gate open or slip panel down,\\ncommits an offence.\\nMaximum penalty:  5 penalty units.\\n     (2)     Any person who enters into or on any road lawfully enclosed with the\\nlands of any other person through any gate or slip panel, and wilfully or\\nnegligently leaves that gate open or that slip panel down, commits an\\noffence.\\nMaximum penalty:  5 penalty units.\\n\\nENCLOSED LANDS PROTECTION ACT 1943\\n- SECT 6\\nRequirement to give name etc \\n     (1)     If the owner, occupier or person in charge of enclosed lands believes\\non reasonable grounds that another person is committing an offence against this\\nAct, the owner, occupier or person in charge may require the other person to\\ngive the person\\'s full name and home address.\\n     (2)     A person must not fail to comply with a requirement under subsection\\n(1).\\nMaximum penalty:  5 penalty units.\\n\\nENCLOSED LANDS PROTECTION ACT 1943\\n- SECT 7\\nOwner may destroy goats \\nAny owner, occupier, or person in charge of enclosed land may destroy any\\ngoat (other than a goat that is legibly branded or that has around its neck a\\ncollar on which the name and address of its owner is legibly engraved) found\\ntrespassing on the land.\\n\\nENCLOSED LANDS PROTECTION ACT 1943\\n- NOTES Dictionary\\n\\nDictionary\\n(see s 2)\\nNote 1     The Legislation Act \\n\\n contains definitions and other provisions relevant to this Act.\\nNote 2     For example, the Legislation Act\\n\\n, dict, pt 1, defines the following terms:\\n               o      ACT\\n               o      home address\\n               o      land\\n               o      person (see s 160).\\n\"enclosed lands\" means any lands, whether public or private,\\nenclosed or surrounded with any fence, wall or other erection, or partly by a\\nfence, wall or other erection, and partly by a canal or by some natural feature\\n(for example, a river or cliff) by which the boundaries of those lands may be\\nknown or recognised and, if a road is lawfully enclosed with the lands of any\\nperson, those lands, but not the road, shall be deemed, for this Act, the\\nenclosed lands of that person.\\nNote     An example is part of the Act, is not exhaustive and may\\nextend, but does not limit, the meaning of the provision in which it appears\\n(see Legislation Act \\n\\n, s 126 and s 132).\\n\"road\" means any land proclaimed, dedicated, resumed or\\notherwise provided as a public thoroughfare or way and any land defined,\\nreserved or left as a road in any subdivision of lands.\\n\"stock\" includes horses, cattle, sheep, goats and\\npigs.\\n\\nENCLOSED LANDS PROTECTION ACT 1943\\n- NOTES Endnotes\\n\\nEndnotes\\n1     About\\nthe endnotes\\nAmending and modifying laws are annotated in the legislation history and\\nthe amendment history.  Current modifications are not included in the\\nrepublished law but are set out in the endnotes.\\nNot all editorial amendments made under the Legislation Act 2001\\n, part 11.3 are annotated in the amendment history.  Full details of any\\namendments can be obtained from the Parliamentary Counsel\\'s\\nOffice.\\nUncommenced amending laws and expiries are listed in the legislation\\nhistory and the amendment history.  These details are underlined.  Uncommenced\\nprovisions and amendments are not included in the republished law but are set\\nout in the last endnote.\\nIf all the provisions of the law have been renumbered, a table of\\nrenumbered provisions gives details of previous and current numbering. \\n\\nThe endnotes also include a table of earlier republications.\\n2     Abbreviation\\nkey\\n\\n      \\n      \\n\\nA = Act\\n\\nNI = Notifiable instrument\\n\\nAF = Approved form\\n\\no = order\\n\\nam = amended\\n\\nom = omitted/repealed\\n\\namdt = amendment\\n\\nord = ordinance\\n\\nAR = Assembly resolution\\n\\norig = original\\n\\nch = chapter\\n\\npar = paragraph/subparagraph\\n\\nCN = Commencement notice\\n\\npres = present\\n\\ndef = definition\\n\\nprev = previous\\n\\nDI = Disallowable instrument\\n\\n(prev...) = previously\\n\\ndict = dictionary\\n\\npt = part\\n\\ndisallowed = disallowed by the Legislative\\n\\nr = rule/subrule\\n\\nAssembly\\n\\nreloc = relocated\\n\\ndiv = division\\n\\nrenum = renumbered\\n\\nexp = expires/expired\\n\\nR[X] = Republication No\\n\\nGaz = gazette\\n\\nRI = reissue\\n\\nhdg = heading\\n\\ns = section/subsection\\n\\nIA = Interpretation Act 1967\\n\\nsch = schedule\\n\\nins = inserted/added\\n\\nsdiv = subdivision\\n\\nLA = Legislation Act 2001\\n\\nSL = Subordinate law\\n\\nLR = legislation register\\n\\nsub = substituted\\n\\nLRA = Legislation (Republication) Act\\n1996\\n\\nunderlining = whole or part not\\ncommenced\\n\\nmod = modified/modification\\n\\nor to be expired\\n\\n3     Legislation\\nhistory\\nThis Act was originally a Commonwealth ordinance--the Enclosed Lands Protection Ordinance 1943\\n A1943-5 (Cwlth).\\nThe Australian Capital Territory (Self-Government) Act 1988\\n (Cwlth), s 34 (4) converted most former Commonwealth\\nordinances in force in the ACT into ACT enactments. This allowed the ACT\\nLegislative Assembly to amend and repeal the laws. This Act was converted into\\nan ACT enactment on 11 May 1989 (self-government day).\\nAs with most ordinances in force in the ACT, the name was changed from\\nOrdinance to Act by the Self-Government (Citation of Laws) Act 1989 \\n A1989-21, s 5 on 11 May 1989 (self-government day).\\nBefore 11 May 1989, ordinances commenced on their notification day unless\\notherwise stated (see Seat of Government (Administration) Act 1910\\n (Cwlth), s 12).\\nAfter 11 May 1989 and before 10 November 1999, Acts commenced on their\\nnotification day unless otherwise stated (see Australian Capital Territory (Self-Government) Act 1988 \\n (Cwlth) s 25).\\n     Legislation before becoming Territory\\nenactment\\nEnclosed Lands Protection Act 1943 A1943-5\\n\\nnotified 4 February 1943 (Cwlth Gaz 1943 No\\n27)\\ncommenced 4 February 1943 (see Seat of Government (Administration) Act 1910 \\n (Cwlth), s 12)\\nas amended by\\nOrdinances Revision (Decimal Currency) Ordinance 1966\\n Ord1966-19 sch 1\\nnotified 23 December 1966 (Cwlth Gaz 1966 No\\n109)\\ncommenced 23 December 1966 (see Seat of Government (Administration) Act 1910 \\n (Cwlth), s 12)\\nMagistrates Court Ordinance 1985 \\n Ord1985-67 sch pt 1\\nnotified 19 December 1985 (Cwlth Gaz 1985 No\\nS542)\\ncommenced 1 February 1986 (s 2 and Cwlth Gaz 1986 No\\nG3)\\n     Legislation after becoming Territory\\nenactment\\nActs Revision (Arrest Without Warrant) Act 1989\\n A1989-23 s 5\\nnotified 1 December 1989 (Gaz 1989 No S38 \\n)\\ncommenced 1 December 1989 (see Australian Capital Territory (Self Government) Act 1988\\n (Cwlth), s 25)\\nStatute Law Revision (Penalties) Act 1994\\n A1994-81 sch\\nnotified 29 November 1994 (Gaz 1994 No S253 \\n)\\ns 1, s 2 commenced 29 November 1994 (s 2\\n(1))\\nsch commenced 29 November 1994 (s 2 (2) and Gaz 1994 No S269 \\n)\\nLegislation (Consequential Amendments) Act 2001\\n A2001-44 pt 128\\nnotified 26 July 2001 (Gaz 2001 No 30 \\n)\\ns 1, s 2 commenced 26 July 2001 (IA s\\n10B)\\npt 128 commenced 12 September 2001 (s 2 and see Gaz 2001 No S65 \\n)\\nStatute Law Amendment Act 2007 \\n A2007-3 sch 3 pt 3.36\\nnotified LR 22 March 2007\\ns 1, s 2 taken to have commenced 1 July 2006 (LA s 75\\n(2))\\nsch 3 pt 3.36 commenced 12 April 2007 (s 2\\n(1))\\nStatute Law\\nAmendment Act 2009 (No 2)\\n A2009-49 sch 3 pt 3.26\\nnotified LR 26 November 2009\\ns 1, s 2 commenced 26 November 2009 (LA s 75\\n(1))\\nsch 3 pt 3.26 commenced 17 December 2009 (s\\n2)\\nStatute Law Amendment Act 2011 \\n A2011-3 sch 3 pt 3.17\\nnotified LR 22 February 2011\\ns 1, s 2 commenced 22 February 2011 (LA s 75\\n(1))\\nsch 3 pt 3.17 commenced 1 March 2011 (s\\n2)\\nStatute Law Amendment Act 2013 \\n A2013-19 sch 3 pt 3.15\\nnotified LR 24 May 2013\\ns 1, s 2 commenced 24 May 2013 (LA s 75\\n(1))\\nsch 3 pt 3.15 commenced 14 June 2013 (s\\n2)\\n4     Amendment\\nhistory\\nDictionarys\\n2     om A2001-44 \\n amdt\\n1.1468     ins A2007-3 \\n amdt 3.181\\nNotess\\n3     defs reloc to dict A2007-3 \\n amdt\\n3.180     sub A2007-3 \\n amdt 3.181\\nPenalty for unlawful entry on enclosed lands\\ns 4     am Ord1966-19 \\n sch 1; A1994-81 \\n sch; A2011-3 \\n amdts 3.196-3.198; A2013-19 \\n amdt 3.111\\nPenalty for leaving gate\\nopens 5     am Ord1966-19 \\n sch 1; A1994-81 \\n sch; A2013-19 \\n amdt 3.112\\nRequirement to give name\\netcs 6     am Ord1966-19 \\n sch 1; Ord1985-67 \\n sch pt\\n1     sub A1989-23 \\n s 5     am\\nA1994-81 \\n sch; A2009-49 \\n amdt 3.62; A2011-3 \\n amdt 3.199, amdt 3.200\\nDictionarydict     ins\\nA2007-3 \\n amdt\\n3.182     am A2009-49 \\n amdt\\n3.63     def enclosed lands\\nreloc from s 3 A2007-3 \\n amdt\\n3.180     am A2011-3 \\n amdt 3.201, amdt\\n3.202     def road reloc from s\\n3 A2007-3 \\n amdt\\n3.180     def stock reloc from\\ns 3 A2007-3 \\n amdt 3.180\\n5     Earlier\\nrepublications\\nSome earlier republications were not numbered. The number in column 1\\nrefers to the publication order.  \\nSince 12 September 2001 every authorised republication has been published\\nin electronic pdf format on the ACT legislation register.  A selection of\\nauthorised republications have also been published in printed format. These\\nrepublications are marked with an asterisk (*) in column 1.  Electronic and\\nprinted versions of an authorised republication are identical. \\n\\n      \\n      \\n      \\n      \\n\\nRepublication No and date\\n\\nEffective\\n\\nLast amendment made by\\n\\nRepublication for\\n\\nR0A23\\nFeb 1979\\n\\n23 Dec\\n1966-31 Jan 1986\\n\\nOrd1966-19 \\n\\namendments by Ord1966-19 \\n\\nR0A\\n(RI)23 Sept 2013\\n\\n23 Dec\\n1966-31 Jan 1986\\n\\nOrd1966-19 \\n\\nreissue of printed version\\n\\nR0B25\\nSept 2013\\n\\n1 Feb\\n1986-30 Nov 1989\\n\\nOrd1985-67 \\n\\namendments by Ord1985-67 \\n\\nR130\\nJune 1991\\n\\n1 Dec\\n1989-28 Nov 1994\\n\\nA1989-23 \\n\\ninitial republication since\\nself-government\\n\\nR1\\n(RI)23 Sept 2013\\n\\n1 Dec\\n1989-28 Nov 1994\\n\\nA1989-23 \\n\\nreissue of printed version\\n\\nR231 Jan\\n1995\\n\\n29 Nov\\n1994-11 Sept 2001\\n\\nA1994-81 \\n\\namendments by A1994-81 \\n\\nR2\\n(RI)23 Sept 2013\\n\\n29 Nov\\n1994-11 Sept 2001\\n\\nA1994-81 \\n\\nreissue of printed version\\n\\nR317\\nJuly 2002\\n\\n12 Sept\\n2001-11 Apr 2007\\n\\nA2001-44 \\n\\namendments by A2001-44 \\n\\nR412 Apr\\n2007\\n\\n12 Apr\\n2007-16 Dec 2009\\n\\nA2007-3 \\n\\namendments by A2007-3 \\n\\nR517 Dec\\n2009\\n\\n17 Dec\\n2009-28 Feb 2011\\n\\nA2009-49 \\n\\namendments by A2009-49 \\n\\nR61 Mar\\n2011\\n\\n1 Mar\\n2011-13 June 2013\\n\\nA2011-3 \\n\\namendments by A2011-3 \\n(c)  Australian Capital\\nTerritory 2013\\n\\nENCLOSED LANDS PROTECTION ACT 1943\\n- NOTES\\nAustralian Capital\\nTerritory\\n\\n    \\nA1943-5\\nRepublication No 7\\nEffective: 14 June 2013 Republication date: 14 June 2013 Last amendment made by A2013-19\\nUnauthorised version prepared by ACT Parliamentary Counsel\\'s OfficeAbout this\\nrepublication\\nThe republished law\\nThis is a republication of the Enclosed Lands\\nProtection Act 1943\\n (including any amendment made under the Legislation Act 2001\\n, part 11.3 (Editorial changes)) as in force on 14 June 2013 \\n.  It also includes any amendment, repeal or expiry affecting the\\nrepublished law to 14 June\\n2013\\n.  \\nThe legislation history and amendment history of the republished law are\\nset out in endnotes 3 and 4. \\nKinds of republications\\nThe Parliamentary Counsel\\'s Office prepares 2 kinds of republications\\nof ACT laws (see the ACT legislation register at www.legislation.act.gov.au \\n):\\n               o     authorised republications to which the Legislation Act 2001\\n applies\\n               o     unauthorised republications.\\nThe status of this republication appears on the bottom of each\\npage.\\nEditorial changes\\nThe Legislation Act 2001 \\n, part 11.3 authorises the Parliamentary Counsel to make editorial\\namendments and other changes of a formal nature when preparing a law for\\nrepublication.  Editorial changes do not change the effect of the law, but have\\neffect as if they had been made by an Act commencing on the republication date\\n(see Legislation Act 2001 \\n, s 115 and s 117).  The changes are made if the Parliamentary Counsel\\nconsiders they are desirable to bring the law into line, or more closely into\\nline, with current legislative drafting practice.  \\nThis republication includes amendments made under part 11.3 (see endnote\\n1).\\nUncommenced provisions and\\namendments\\nIf a provision of the republished law has not commenced or is affected by\\nan uncommenced amendment, the symbol\\n U  appears immediately before the\\nprovision heading.  The text of the uncommenced provision or amendment appears\\nonly in the last endnote.\\nModifications\\nIf a provision of the republished law is affected by a current\\nmodification, the symbol  M  appears\\nimmediately before the provision heading.  The text of the modifying provision\\nappears in the endnotes.  For the legal status of modifications, see Legislation Act 2001\\n, section 95.\\nPenalties\\nAt the republication date, the value of a penalty unit for an offence\\nagainst this law is $110 for an individual and $550 for a corporation (see Legislation Act 2001\\n, s 133).\\nAustralian Capital\\nTerritory\\n\\nEnclosed\\nLands Protection Act 1943\\n\\n    \\nEndnotes6 \\n\\nAustralian Capital\\nTerritory\\n\\nEnclosed Lands Protection Act 1943 \\n\\n'"
      ]
     },
     "execution_count": 21,
     "metadata": {},
     "output_type": "execute_result"
    }
   ],
   "source": [
    "ACT_LEGISLATION[0]"
   ]
  },
  {
   "cell_type": "code",
   "execution_count": 49,
   "metadata": {},
   "outputs": [],
   "source": [
    "import uuid\n",
    "\n",
    "\n",
    "def process_documents(documents):\n",
    "    result = []\n",
    "    metadata = []\n",
    "\n",
    "    for doc in documents:\n",
    "        lines = doc.split('\\n')\n",
    "        title = lines[0].strip()  # strip leading/trailing whitespace\n",
    "        if not title:  # skip if title is empty\n",
    "            continue\n",
    "\n",
    "        # remove newline characters before the first occurrence of title\n",
    "        first_title_index = doc.find(title)\n",
    "        if first_title_index > 0:\n",
    "            doc = doc[first_title_index:]\n",
    "\n",
    "        second_title_index = doc.find(title, doc.find(title)+1)\n",
    "        if second_title_index == -1:  # skip if title doesn't occur twice\n",
    "            continue\n",
    "\n",
    "        doc = doc[second_title_index:]\n",
    "        chunks = doc.split(title)\n",
    "\n",
    "        for i, chunk in enumerate(chunks):\n",
    "            lines = chunk.split('\\n')\n",
    "            section = next(\n",
    "                (line for line in lines if line.startswith('- SECT')), None)\n",
    "            if section:\n",
    "                section = section.replace('- ', '')  # remove preceding '- '\n",
    "                if len(chunk) > 2000:\n",
    "                    # split chunk into smaller chunks\n",
    "                    sub_chunks = [chunk[i:i+2000]\n",
    "                                  for i in range(0, len(chunk), 2000)]\n",
    "                    for j, sub_chunk in enumerate(sub_chunks):\n",
    "                        sub_chunk = title + '\\n' + sub_chunk  # add title as first line\n",
    "                        result.append(sub_chunk)\n",
    "                        uuid_str = str(uuid.uuid4())\n",
    "                        metadata.append(\n",
    "                            {'id': uuid_str, 'title': title, 'section': f'{section}_{j}'})\n",
    "                else:\n",
    "                    chunk = title + '\\n' + chunk  # add title as first line\n",
    "                    result.append(chunk)\n",
    "                    uuid_str = str(uuid.uuid4())\n",
    "                    metadata.append(\n",
    "                        {'id': uuid_str, 'title': title, 'section': section})\n",
    "\n",
    "    return result, metadata"
   ]
  },
  {
   "cell_type": "code",
   "execution_count": 50,
   "metadata": {},
   "outputs": [],
   "source": [
    "texts, metadata = process_documents(ACT_LEGISLATION)"
   ]
  },
  {
   "cell_type": "code",
   "execution_count": null,
   "metadata": {},
   "outputs": [],
   "source": [
    "documents = [doc for doc in texts]\n",
    "ids = [meta['id'] for meta in metadata]\n",
    "\n",
    "# reformat metadatas to match the format expected by collection.add()\n",
    "metadatas = [{'chapter': meta['title'], 'verse': meta['section']}\n",
    "             for meta in metadata]\n",
    "\n",
    "collection.add(documents=documents, metadatas=metadatas, ids=ids)"
   ]
  },
  {
   "cell_type": "code",
   "execution_count": 2,
   "metadata": {},
   "outputs": [
    {
     "data": {
      "text/plain": [
       "1"
      ]
     },
     "execution_count": 2,
     "metadata": {},
     "output_type": "execute_result"
    }
   ],
   "source": [
    "import csv\n",
    "rows = []\n",
    "with open('/Users/home/projects/selenium/act_legislation.csv', 'r') as file:\n",
    "    reader = csv.reader(file)\n",
    "    for row in reader:\n",
    "        rows.append(row)\n",
    "\n",
    "len(rows)"
   ]
  },
  {
   "cell_type": "code",
   "execution_count": 3,
   "metadata": {},
   "outputs": [
    {
     "name": "stdout",
     "output_type": "stream",
     "text": [
      "load INSTRUCTOR_Transformer\n",
      "max_seq_length  512\n"
     ]
    }
   ],
   "source": [
    "import requests\n",
    "from InstructorEmbedding import INSTRUCTOR\n",
    "from typing import List\n",
    "from bs4 import BeautifulSoup\n",
    "INSTRUCTION = 'This is a sample instruction'\n",
    "model = INSTRUCTOR('/Users/home/gh/instructor-embed-api/instructor-large')\n",
    "\n",
    "\n",
    "def split_text(input_string, overlap=200):\n",
    "    result = []\n",
    "    if len(input_string) > 2000:\n",
    "        mid_point = len(input_string) // 2\n",
    "        # Ensure overlap while splitting\n",
    "        first_part = input_string[:mid_point + overlap]\n",
    "        second_part = input_string[mid_point:]\n",
    "        result += split_text(first_part)\n",
    "        result += split_text(second_part)\n",
    "    else:\n",
    "        result.append(input_string)\n",
    "    return result\n",
    "\n",
    "\n",
    "def download_html(url: str):\n",
    "    html = requests.get(url).text\n",
    "    soup = BeautifulSoup(html, 'html.parser')\n",
    "    return soup.text\n",
    "\n",
    "\n",
    "def embed(payload: List[List[str]]):\n",
    "    embeddings = model.encode(payload)\n",
    "    return embeddings\n",
    "\n",
    "\n",
    "def construct_payload(text: str, instruction: str = INSTRUCTION):\n",
    "    retv = []\n",
    "    if len(text) > 2000:\n",
    "        split_texts = split_text(text)\n",
    "        for text in split_texts:\n",
    "            retv.append([instruction, text])\n",
    "    else:\n",
    "        retv.append([instruction, text])\n",
    "    return retv"
   ]
  },
  {
   "cell_type": "code",
   "execution_count": 4,
   "metadata": {},
   "outputs": [
    {
     "name": "stdout",
     "output_type": "stream",
     "text": [
      "embedding section\n"
     ]
    }
   ],
   "source": [
    "section_text = download_html(\n",
    "    'https://storage.googleapis.com/law-docs/ACT-LEGISLATION_HTML/CEMETERIES%20AND%20CREMATORIA%20ACT%202020/s30.html')\n",
    "payload = construct_payload(section_text)\n",
    "embeddings = []\n",
    "try:\n",
    "    print(\"embedding section\")\n",
    "    embeddings = embed(payload)\n",
    "except Exception as e:\n",
    "    print(\"failed to embed section: \",  e)"
   ]
  },
  {
   "cell_type": "code",
   "execution_count": 8,
   "metadata": {},
   "outputs": [
    {
     "data": {
      "text/plain": [
       "2516"
      ]
     },
     "execution_count": 8,
     "metadata": {},
     "output_type": "execute_result"
    }
   ],
   "source": [
    "len(section_text[0][0])"
   ]
  },
  {
   "cell_type": "code",
   "execution_count": 9,
   "metadata": {},
   "outputs": [
    {
     "data": {
      "text/plain": [
       "1"
      ]
     },
     "execution_count": 9,
     "metadata": {},
     "output_type": "execute_result"
    }
   ],
   "source": [
    "len(payload)"
   ]
  },
  {
   "cell_type": "code",
   "execution_count": 10,
   "metadata": {},
   "outputs": [
    {
     "data": {
      "text/plain": [
       "['This is a sample instruction',\n",
       " ['<html><head></head><body><article class=\"the-document\" id=\"2b033adf-ac5d-4cd1-8746-78b7ac6b8394\">\\n<h2>\\nCEMETERIES AND CREMATORIA ACT 2020 - SECT 70\\nImmediate suspension of licenceâ\\x80\\x94danger to public health\\n</h2>\\n\\n<b>Immediate suspension of licenceâ\\x80\\x94danger to public health</b>\\n<p>&nbsp; &nbsp; (1) &nbsp; &nbsp; The regulator may suspend a licence to operate\\na facility immediately if the regulator believes on reasonable grounds\\nthatâ\\x80\\x94 </p> <p>&nbsp; &nbsp; &nbsp; &nbsp; (a) &nbsp; &nbsp; the licensee has\\nengaged in disciplinary conduct; and </p> <p>&nbsp; &nbsp; &nbsp; &nbsp; (b) &nbsp;\\n&nbsp; there is a danger to public health as a result of the conduct. </p> <p>&nbsp;\\n&nbsp; (2) &nbsp; &nbsp; The regulator must tell the licensee, in writing,\\nthat the regulator is suspending the licence starting immediately and the\\nreasons for the suspension. </p> <p><i>Note &nbsp; &nbsp; </i>For what must be included in a\\nstatement of reasons, see the Legislation Act </p> <p>, s 179. </p> <p>&nbsp; &nbsp; (3)\\n&nbsp; &nbsp; The suspension starts when the regulator tells the licensee\\nabout the suspension. </p> <p>&nbsp; &nbsp; (4) &nbsp; &nbsp; If the regulator takes\\nother disciplinary action under section&nbsp;71 in relation to the\\ndisciplinary conduct, the suspension ends on the earlier ofâ\\x80\\x94 </p> <p>&nbsp;\\n&nbsp; &nbsp; &nbsp; (a) &nbsp; &nbsp; the day when the other disciplinary\\naction starts; and </p> <p>&nbsp; &nbsp; &nbsp; &nbsp; (b) &nbsp; &nbsp; 30 days\\nafter the day the regulator tells the licensee of the suspension. </p> <p>&nbsp;\\n&nbsp; (5) &nbsp; &nbsp; If the regulator does not take other disciplinary\\naction under section&nbsp;71 in relation to the disciplinary conduct, the\\nsuspension ends on the earlier ofâ\\x80\\x94 </p> <p>&nbsp; &nbsp; &nbsp; &nbsp; (a)\\n&nbsp; &nbsp; the day when the licensee is given written notice of the\\nregulator\\'s decision not to take disciplinary action; and </p> <p>&nbsp; &nbsp;\\n&nbsp; &nbsp; (b) &nbsp; &nbsp; 30&nbsp;days after the day the immediate\\nsuspension notice is given to the licensee. </p> <p><i>Note &nbsp; &nbsp; </i>A decision\\nunder this section is a reviewable decision (see s  125). </p> <p>&nbsp; &nbsp; (6)\\n&nbsp; &nbsp; During the suspension the licensee isâ\\x80\\x94 </p> <p>&nbsp; &nbsp;\\n&nbsp; &nbsp; (a) &nbsp; &nbsp; taken not to have a licence to operate the\\nfacility; and </p> <p>&nbsp; &nbsp; &nbsp; &nbsp; (b) &nbsp; &nbsp; disqualified from\\napplying for a licence to operate a facility. </p>\\n<br><br>\\n<!--sino noindex-->\\n</article></body></html>']]"
      ]
     },
     "execution_count": 10,
     "metadata": {},
     "output_type": "execute_result"
    }
   ],
   "source": [
    "payload[0]"
   ]
  },
  {
   "cell_type": "code",
   "execution_count": 7,
   "metadata": {},
   "outputs": [
    {
     "data": {
      "text/plain": [
       "['encode',\n",
       " 'aaaaaaaaaaaaaaaaaaaaaaaaaaaaaaaaaaaaaaaaaaaaaaaaaaaaaaaaaaaaaaaaaaaaaaaaaaaaaaaaaaaaaaaaaaaaaaaaaaaaaaaaaaaaaaaaaaaaaaaaaaaaaaaaaaaaaaaaaaaaaaaaaaaaaaaaaaaaaaaaaaaaaaaaaaaaaaaaaaaaaaaaaaaaaaaaaaaaaaaaaaaaaaaaaaaaaaaaaaaaaaaaaaaaaaaaaaaaaaaaaaaaaaaaaaaaaaaaaaaaaaaaaaaaaaaaaaaaaaaaaaaaaaaaaaaaaaaaaaaaaaaaaaaaaaaaaaaaaaaaaaaaaaaaaaaaaaaaaaaaaaaaaaaaaaaaaaaaaaaaaaaaaaaaaaaaaaaaaaaaaaaaaaaaaaaaaaaaaaaaaaaaaaaaaaaaaaaaaaaaaaaaaaaaaaaaaaaaaaaaaaaaaaaaaaaaaaaaaaaaaaaaaaaaaaaaaaaaaaaaaaaaaaaaaaaaaaaaaaaaaaaaaaaaaaaaaaaaaaaaaaaaaaaaaaaaaaaaaaaaaaaaaaaaaaaaaaaaaaaaaaaaaaaaaaaaaaaaaaaaaaaaaaaaaaaaaaaaaaaaaaaaaaaaaaaaaaaaaaaaaaaaaaaaaaaaaaaaaaaaaaaaaaaaaaaaaaaaaaaaaaaaaaaaaaaaaaaaaaaaaaaaaaaaaaaaaaaaaaaaaaaaaaaaaaaaaaaaaaaaaaaaaaaaaaaaaaaaaaaaaaaaaaaaaaaaaaaaaaaaaaaaaaaaaaaaaaaaaaaaaaaaaaaaaaaaaaaaaaaaaaaaaaaaaaaaaaaaaaaaaaaaaaaaaaaaaaaaaaaaaaaaaaaaaaaaaaaaaaaaaaaaaaaaaaaaaaaaaaaaaaaaaaaaaaaaaaaaaaaaaaaaaaaaaaaaaaaaaaaaaaaaaaaaaaaaaaaaaaaaaaaaaaaaaaaaaaaaaaaaaaaaaaaaaaaaaaaaaaaaaaaaaaaaaaaaaaaaaaaaaaaaaaaaaaaaaaaaaaaaaaaaaaaaaaaaaaaaaaaaaaaaaaaaaaaaaaaaaaaaaaaaaaaaaaaaaaaaaaaaaaaaaaaaaaaaaaaaaaaaaaaaaaaaaaaaaaaaaaaaaaaaaaaaaaaaaaaaaaaaaaaaaaaaaaaaaaaaaaaaaaaaaaaaaaaaaaaaaaaaaaaaaaaaaaaaaaaaaaaaaaaaaaaaaaaaaaaaaaaaaaaaaaaaaaaaaaaaaaaaaaaaaaaaaaaaaaaaaaaaaaaaaaaaaaaaaaaaaaaaaaaaaaaaaaaaaaaaaaaaaaaaaaaaaaaaaaaaaaaaaaaaaaaaaaaaaaaaaaaaaaaaaaaaaa']"
      ]
     },
     "execution_count": 7,
     "metadata": {},
     "output_type": "execute_result"
    }
   ],
   "source": [
    "section_text = [download_html(section_url)]"
   ]
  },
  {
   "cell_type": "code",
   "execution_count": 2,
   "metadata": {},
   "outputs": [
    {
     "name": "stderr",
     "output_type": "stream",
     "text": [
      "/Users/home/.virtualenvs/selenium/lib/python3.11/site-packages/InstructorEmbedding/instructor.py:7: TqdmWarning: IProgress not found. Please update jupyter and ipywidgets. See https://ipywidgets.readthedocs.io/en/stable/user_install.html\n",
      "  from tqdm.autonotebook import trange\n"
     ]
    },
    {
     "name": "stdout",
     "output_type": "stream",
     "text": [
      "load INSTRUCTOR_Transformer\n",
      "max_seq_length  512\n"
     ]
    },
    {
     "ename": "NameError",
     "evalue": "name 'payload' is not defined",
     "output_type": "error",
     "traceback": [
      "\u001b[0;31m---------------------------------------------------------------------------\u001b[0m",
      "\u001b[0;31mNameError\u001b[0m                                 Traceback (most recent call last)",
      "Cell \u001b[0;32mIn[2], line 3\u001b[0m\n\u001b[1;32m      1\u001b[0m \u001b[39mfrom\u001b[39;00m \u001b[39mInstructorEmbedding\u001b[39;00m \u001b[39mimport\u001b[39;00m INSTRUCTOR\n\u001b[1;32m      2\u001b[0m model \u001b[39m=\u001b[39m INSTRUCTOR(\u001b[39m'\u001b[39m\u001b[39m/Users/home/gh/instructor-embed-api/instructor-large\u001b[39m\u001b[39m'\u001b[39m)\n\u001b[0;32m----> 3\u001b[0m vectors \u001b[39m=\u001b[39m model\u001b[39m.\u001b[39mencode(payload)\n",
      "\u001b[0;31mNameError\u001b[0m: name 'payload' is not defined"
     ]
    }
   ],
   "source": [
    "from InstructorEmbedding import INSTRUCTOR\n",
    "model = INSTRUCTOR('/Users/home/gh/instructor-embed-api/instructor-large')\n",
    "vectors = model.encode(payload)"
   ]
  },
  {
   "cell_type": "code",
   "execution_count": null,
   "metadata": {},
   "outputs": [],
   "source": []
  },
  {
   "attachments": {},
   "cell_type": "markdown",
   "metadata": {},
   "source": [
    "# HI\n"
   ]
  },
  {
   "cell_type": "code",
   "execution_count": 6,
   "metadata": {},
   "outputs": [
    {
     "name": "stdout",
     "output_type": "stream",
     "text": [
      "338\n"
     ]
    }
   ],
   "source": [
    "import json\n",
    "with open('/Users/home/projects/selenium-py/ACT-LEGISLATION_HTML copy/legislations.json', 'r') as f:\n",
    "    data = json.load(f)\n",
    "\n",
    "print(len(data))"
   ]
  },
  {
   "cell_type": "code",
   "execution_count": 8,
   "metadata": {},
   "outputs": [
    {
     "name": "stdout",
     "output_type": "stream",
     "text": [
      "legislation name:  ABORIGINAL AND TORRES STRAIT ISLANDER CHILDREN AND YOUNG PEOPLE COMMISSIONER ACT 2022\n"
     ]
    },
    {
     "data": {
      "text/plain": [
       "'<html><head></head><body><article class=\"the-document\" id=\"e6ca4536-5125-4f74-9435-3651786407bc\">\\n<h2>\\nABORIGINAL AND TORRES STRAIT ISLANDER CHILDREN AND YOUNG PEOPLE COMMISSIONER ACT 2022\\n</h2>\\n<h2>Table of Provisions</h2>\\n<ul>\\n<a name=\"longtitle\"></a> <li><a href=\"longtitle.html\">Long Title</a> </li>\\n</ul>\\n<a name=\"p1\"></a> \\n<ul>\\n<a name=\"s1\"></a> <li><a class=\"leg-number\" href=\"s1.html\">1</a> Name of Act &nbsp;</li>\\n<a name=\"s3\"></a> <li><a class=\"leg-number\" href=\"s3.html\">3</a> Dictionary &nbsp;</li>\\n<a name=\"s4\"></a> <li><a class=\"leg-number\" href=\"s4.html\">4</a> Notes &nbsp;</li>\\n<a name=\"s5\"></a> <li><a class=\"leg-number\" href=\"s5.html\">5</a> Offences against Act—application of Criminal Code etc &nbsp;</li>\\n</ul>\\n<a name=\"p2\"></a> \\n<ul>\\n<a name=\"s6\"></a> <li><a class=\"leg-number\" href=\"s6.html\">6</a> Objects of Act &nbsp;</li>\\n<a name=\"s7\"></a> <li><a class=\"leg-number\" href=\"s7.html\">7</a> Aboriginal and Torres Strait Islander cultural principles &nbsp;</li>\\n</ul>\\n<a name=\"p3\"></a> \\n<h4>Division 3.1--Establishment of commissioner\\'s office etc</h4>\\n<ul>\\n<a name=\"s8\"></a> <li><a class=\"leg-number\" href=\"s8.html\">8</a> Establishment of commissioner\\'s office &nbsp;</li>\\n<a name=\"s9\"></a> <li><a class=\"leg-number\" href=\"s9.html\">9</a> Independence of commissioner\\'s office &nbsp;</li>\\n</ul>\\n<h4>Division 3.2--Aboriginal and Torres Strait Islander Children and Young People Commissioner</h4>\\n<ul>\\n<a name=\"s10\"></a> <li><a class=\"leg-number\" href=\"s10.html\">10</a> Appointment of commissioner &nbsp;</li>\\n<a name=\"s11\"></a> <li><a class=\"leg-number\" href=\"s11.html\">11</a> Commissioner\\'s functions &nbsp;</li>\\n<a name=\"s12\"></a> <li><a class=\"leg-number\" href=\"s12.html\">12</a> Annual statement by commissioner &nbsp;</li>\\n<a name=\"s13\"></a> <li><a class=\"leg-number\" href=\"s13.html\">13</a> Ending commissioner\\'s appointment &nbsp;</li>\\n<a name=\"s14\"></a> <li><a class=\"leg-number\" href=\"s14.html\">14</a> Delegation of commissioner\\'s functions &nbsp;</li>\\n<a name=\"s15\"></a> <li><a class=\"leg-number\" href=\"s15.html\">15</a> Cooperation with human rights commission &nbsp;</li>\\n</ul>\\n<h4>Division 3.3--Staff etc of commissioner\\'s office</h4>\\n<ul>\\n<a name=\"s16\"></a> <li><a class=\"leg-number\" href=\"s16.html\">16</a> Advisory committees &nbsp;</li>\\n<a name=\"s17\"></a> <li><a class=\"leg-number\" href=\"s17.html\">17</a> Arrangements for staff and facilities &nbsp;</li>\\n<a name=\"s18\"></a> <li><a class=\"leg-number\" href=\"s18.html\">18</a> Consultants and contractors &nbsp;</li>\\n<a name=\"s19\"></a> <li><a class=\"leg-number\" href=\"s19.html\">19</a> Engagement of lawyer by commissioner &nbsp;</li>\\n</ul>\\n<a name=\"p4\"></a> \\n<h4>Division 4.1--Inquiry by commissioner</h4>\\n<ul>\\n<a name=\"s20\"></a> <li><a class=\"leg-number\" href=\"s20.html\">20</a> Commissioner may <a href=\"s5.html#conduct\">conduct</a> inquiry &nbsp;</li>\\n<a name=\"s21\"></a> <li><a class=\"leg-number\" href=\"s21.html\">21</a> <a href=\"s5.html#conduct\">Conduct</a> of inquiry &nbsp;</li>\\n<a name=\"s22\"></a> <li><a class=\"leg-number\" href=\"s22.html\">22</a> Notice of inquiry &nbsp;</li>\\n<a name=\"s23\"></a> <li><a class=\"leg-number\" href=\"s23.html\">23</a> Recommendation in relation to inquiry &nbsp;</li>\\n</ul>\\n<h4>Division 4.2--Advocacy by commissioner for individuals</h4>\\n<ul>\\n<a name=\"s24\"></a> <li><a class=\"leg-number\" href=\"s24.html\">24</a> Recommendation in relation to advocacy &nbsp;</li>\\n</ul>\\n<h4>Division 4.3--Report in relation to inquiry etc</h4>\\n<ul>\\n<a name=\"s25\"></a> <li><a class=\"leg-number\" href=\"s25.html\">25</a> Report in relation to inquiry or matter of public importance &nbsp;</li>\\n</ul>\\n<a name=\"p5\"></a> \\n<ul>\\n<a name=\"s26\"></a> <li><a class=\"leg-number\" href=\"s26.html\">26</a> Definitions—pt 5 &nbsp;</li>\\n<a name=\"s27\"></a> <li><a class=\"leg-number\" href=\"s27.html\">27</a> Power to require information, documents and other things &nbsp;</li>\\n<a name=\"s28\"></a> <li><a class=\"leg-number\" href=\"s28.html\">28</a> Limit on power to ask for information, documents and other things—identifying &nbsp;</li>\\n<a name=\"s29\"></a> <li><a class=\"leg-number\" href=\"s29.html\">29</a> Limit on power to ask for information, documents and other things—consent for &nbsp;</li>\\n<a name=\"s30\"></a> <li><a class=\"leg-number\" href=\"s30.html\">30</a> Failure to give information, document or other thing &nbsp;</li>\\n<a name=\"s31\"></a> <li><a class=\"leg-number\" href=\"s31.html\">31</a> Power to require attendance &nbsp;</li>\\n<a name=\"s32\"></a> <li><a class=\"leg-number\" href=\"s32.html\">32</a> Failure to attend &nbsp;</li>\\n<a name=\"s33\"></a> <li><a class=\"leg-number\" href=\"s33.html\">33</a> Abrogation of privilege against self-incrimination &nbsp;</li>\\n<a name=\"s34\"></a> <li><a class=\"leg-number\" href=\"s34.html\">34</a> Information sharing—human rights commission &nbsp;</li>\\n<a name=\"s35\"></a> <li><a class=\"leg-number\" href=\"s35.html\">35</a> Secrecy &nbsp;</li>\\n</ul>\\n<a name=\"p6\"></a> \\n<ul>\\n<a name=\"s36\"></a> <li><a class=\"leg-number\" href=\"s36.html\">36</a> Protection of officials from liability &nbsp;</li>\\n<a name=\"s37\"></a> <li><a class=\"leg-number\" href=\"s37.html\">37</a> Protection of others from liability &nbsp;</li>\\n<a name=\"s38\"></a> <li><a class=\"leg-number\" href=\"s38.html\">38</a> Regulation-making power &nbsp;</li>\\n<a href=\"notes.html#dictionary\">DICTIONARY</a>\\n<a href=\"notes.html#endnotes\">ENDNOTES</a>\\n</ul>\\n</article></body></html>'"
      ]
     },
     "execution_count": 8,
     "metadata": {},
     "output_type": "execute_result"
    }
   ],
   "source": [
    "import os\n",
    "\n",
    "\n",
    "path = \"/Users/home/projects/selenium-py/ACT-LEGISLATION_HTML copy/ABORIGINAL AND TORRES STRAIT ISLANDER CHILDREN AND YOUNG PEOPLE COMMISSIONER ACT 2022/\"\n",
    "legislation_name = os.path.basename(os.path.dirname(path))\n",
    "\n",
    "with open(f'{path}index.html', 'r') as f:\n",
    "    index_html = f.read()\n",
    "\n",
    "print(\"legislation name: \", legislation_name)\n",
    "index_html"
   ]
  },
  {
   "cell_type": "code",
   "execution_count": 37,
   "metadata": {},
   "outputs": [],
   "source": [
    "from bs4 import BeautifulSoup\n",
    "import re\n",
    "root = \"/Users/home/projects/selenium-py/ACT-LEGISLATION_HTML copy\"\n",
    "\n",
    "\n",
    "def read_and_parse_html(path):\n",
    "    with open(path, 'r', encoding='utf-8') as f:\n",
    "        contents = f.read()\n",
    "    soup = BeautifulSoup(contents, 'html.parser')\n",
    "    return soup\n",
    "\n",
    "\n",
    "for legislation in data:\n",
    "    path = f'{root}/{legislation[\"name\"]}/index.html'\n",
    "    html = read_and_parse_html(path)\n",
    "    for section in legislation['sections']:\n",
    "        if section['order_value'] == 1:\n",
    "            continue\n",
    "        elif section['order_value'] == 2:\n",
    "            html = re.sub(r'<a href=\"longtitle.html\">',\n",
    "                          f\"<a href='#{section['id']}'>\",\n",
    "                          str(html))\n",
    "        elif section['order_value'] == 5:\n",
    "            html = re.sub(r'(<a href=\")notes.html(.*\">)',\n",
    "                          f\"\\\\1#{section['id']}\\\\2\",\n",
    "                          str(html))\n",
    "\n",
    "        elif section['order_value'] == 3:\n",
    "            html = re.sub(f'<a class=\"leg-number\" href=\"s{section[\"section_order\"]}.html\">',\n",
    "                          f\"<a class='leg-number' href='#{section['id']}'>\",\n",
    "                          str(html))\n",
    "        elif section['order_value'] == 4:\n",
    "            html = re.sub(f'<a href=\"sch{section[\"section_order\"]}.html\">',\n",
    "                          f\"<a href='#{section['id']}'>\",\n",
    "                          str(html))\n",
    "    with open(path, 'w', encoding='utf-8') as f:\n",
    "        f.write(str(html))"
   ]
  },
  {
   "cell_type": "code",
   "execution_count": 45,
   "metadata": {},
   "outputs": [],
   "source": [
    "import glob\n",
    "\n",
    "index_files = glob.glob(f'{root}/*/index.html', recursive=True)\n",
    "for path in index_files:\n",
    "    with open(path, 'r', encoding='utf-8') as f:\n",
    "        contents = f.read()\n",
    "    soup = BeautifulSoup(contents, 'html.parser')\n",
    "    for a in soup.find_all('a', href=True):\n",
    "        if a['href'].startswith('#'):\n",
    "            continue\n",
    "        else:\n",
    "            with open('logs/wrong-hrefs.txt', 'a') as f:\n",
    "                f.write(f'\\n{path}, {a[\"href\"]}')"
   ]
  },
  {
   "cell_type": "code",
   "execution_count": 35,
   "metadata": {},
   "outputs": [
    {
     "data": {
      "text/plain": [
       "1"
      ]
     },
     "execution_count": 35,
     "metadata": {},
     "output_type": "execute_result"
    }
   ],
   "source": [
    "vectors = model.encode([['Represent the query for retrieval', 'ACT']])\n",
    "len(vectors)"
   ]
  },
  {
   "cell_type": "code",
   "execution_count": 38,
   "metadata": {},
   "outputs": [],
   "source": [
    "import requests\n",
    "import json\n",
    "\n",
    "url = 'https://law-docs-c5783da.svc.us-east4-gcp.pinecone.io/query'\n",
    "\n",
    "headers = {\n",
    "    'Content-Type': 'application/json',\n",
    "    'Api-Key': '3172ab22-d119-46f2-acb2-9ab0122441a5',\n",
    "}\n",
    "\n",
    "data = {\n",
    "    \"vector\": vectors[0].tolist(),\n",
    "    \"topK\": 5,\n",
    "    \"includeMetadata\": True,\n",
    "    \"includeValues\": True,\n",
    "    \"namespace\": \"act-legislation\"\n",
    "}\n",
    "\n",
    "response = requests.post(url, headers=headers, data=json.dumps(data))\n",
    "resp_json = response.json()"
   ]
  },
  {
   "cell_type": "code",
   "execution_count": 40,
   "metadata": {},
   "outputs": [
    {
     "name": "stdout",
     "output_type": "stream",
     "text": [
      "{'jurisdiction': 'ACT', 'legislation_combined_url': 'https://storage.googleapis.com/law-docs/ACT-LEGISLATION_HTML/EDUCATION%20AND%20CARE%20SERVICES%20NATIONAL%20LAW%20ACT%20ACT%202011/combined.html', 'legislation_id': '105b205f-2921-49e1-9afe-ad3c867cb5a7', 'legislation_index_url': 'https://storage.googleapis.com/law-docs/ACT-LEGISLATION_HTML/EDUCATION%20AND%20CARE%20SERVICES%20NATIONAL%20LAW%20ACT%20ACT%202011/index.html', 'legislation_name': 'EDUCATION AND CARE SERVICES NATIONAL LAW ACT ACT 2011', 'legislation_year': '2011', 'section_id': '32f1233d-f166-40d3-a01e-ab2cbe722fc7', 'section_name': 'Name of Act', 'section_url': 'https://storage.googleapis.com/law-docs/ACT-LEGISLATION_HTML/EDUCATION%20AND%20CARE%20SERVICES%20NATIONAL%20LAW%20ACT%20ACT%202011/s1.html', 'text': '\\n\\nEDUCATION AND CARE SERVICES NATIONAL LAW (ACT) ACT 2011 - SECT 1\\nName of Act\\n\\nName of Act\\nThis Act is the Education and Care Services National Law (ACT) Act  2011 . \\n\\n\\n'}\n",
      "{'jurisdiction': 'ACT', 'legislation_combined_url': 'https://storage.googleapis.com/law-docs/ACT-LEGISLATION_HTML/HEALTH%20PRACTITIONER%20REGULATION%20NATIONAL%20LAW%20ACT%20ACT%202010/combined.html', 'legislation_id': 'f3e9e76f-e458-4341-a75d-530bfd1d6064', 'legislation_index_url': 'https://storage.googleapis.com/law-docs/ACT-LEGISLATION_HTML/HEALTH%20PRACTITIONER%20REGULATION%20NATIONAL%20LAW%20ACT%20ACT%202010/index.html', 'legislation_name': 'HEALTH PRACTITIONER REGULATION NATIONAL LAW ACT ACT 2010', 'legislation_year': '2010', 'section_id': 'd79f0ac4-bd2e-4ed0-a4c7-39b6aaa8a5a7', 'section_name': 'Name of Act', 'section_url': 'https://storage.googleapis.com/law-docs/ACT-LEGISLATION_HTML/HEALTH%20PRACTITIONER%20REGULATION%20NATIONAL%20LAW%20ACT%20ACT%202010/s1.html', 'text': '\\n\\nHEALTH PRACTITIONER REGULATION NATIONAL LAW (ACT) ACT 2010 - SECT 1\\nName of Act\\n\\nName of Act\\nThis Act is the Health Practitioner Regulation National Law (ACT) Act 2010 . \\n\\n\\n'}\n",
      "{'jurisdiction': 'ACT', 'legislation_combined_url': 'https://storage.googleapis.com/law-docs/ACT-LEGISLATION_HTML/CHILDREN%20AND%20YOUNG%20PEOPLE%20ACT%202008/combined.html', 'legislation_id': 'ab0ab022-c086-4b8e-9eca-4bf544caf003', 'legislation_index_url': 'https://storage.googleapis.com/law-docs/ACT-LEGISLATION_HTML/CHILDREN%20AND%20YOUNG%20PEOPLE%20ACT%202008/index.html', 'legislation_name': 'CHILDREN AND YOUNG PEOPLE ACT 2008', 'legislation_year': '2008', 'section_id': '3c1d2895-0f6c-4937-a760-cf3ad25dba26', 'section_name': 'Transfer of ACT proceedingsapplications', 'section_url': 'https://storage.googleapis.com/law-docs/ACT-LEGISLATION_HTML/CHILDREN%20AND%20YOUNG%20PEOPLE%20ACT%202008/s658.html', 'text': '\\n\\nCHILDREN AND YOUNG PEOPLE ACT 2008 - SECT 658\\nTransfer of ACT proceedingsâ\\x80\\x94applications\\n\\nTransfer of ACT proceedingsâ\\x80\\x94applications\\n\\xa0 \\xa0 (1) \\xa0 \\xa0 The director-general may apply to the\\nChildrens Court for an order transferring a child welfare proceeding pending\\nin the court to the State Childrens Court of a participating State.  \\xa0\\n\\xa0 (2) \\xa0 \\xa0 The director-general must give a copy of the\\napplication toâ\\x80\\x94  \\xa0 \\xa0 \\xa0 \\xa0 (a) \\xa0 \\xa0 if the\\norder relates to a young personâ\\x80\\x94the young person; and  \\xa0 \\xa0\\n\\xa0 \\xa0 (b) \\xa0 \\xa0 the parents of the child or young person; and \\n\\xa0 \\xa0 \\xa0 \\xa0 (c) \\xa0 \\xa0 each other person who has daily\\ncare responsibility, or long-term care responsibility, for the child or\\nyoung person; and  \\xa0 \\xa0 \\xa0 \\xa0 (d) \\xa0 \\xa0 the public\\nadvocate; and  \\xa0 \\xa0 \\xa0 \\xa0 (e) \\xa0 \\xa0 if the order\\nrelates to an Aboriginal or Torres Strait Islander child or\\nyoung personâ\\x80\\x94the Aboriginal and Torres Strait Islander children and\\nyoung people commissioner. \\n\\n\\n'}\n",
      "{'jurisdiction': 'ACT', 'legislation_combined_url': 'https://storage.googleapis.com/law-docs/ACT-LEGISLATION_HTML/AUSTRALIAN%20CAPITAL%20TERRITORY%20MINISTERS%20ACT%202013/combined.html', 'legislation_id': '490bc6b4-35cd-485c-a26a-48f8bf1bee54', 'legislation_index_url': 'https://storage.googleapis.com/law-docs/ACT-LEGISLATION_HTML/AUSTRALIAN%20CAPITAL%20TERRITORY%20MINISTERS%20ACT%202013/index.html', 'legislation_name': 'AUSTRALIAN CAPITAL TERRITORY MINISTERS ACT 2013', 'legislation_year': '2013', 'section_id': '02aa08e7-f379-445b-8164-ad2d1328ba5e', 'section_name': 'Name of Act', 'section_url': 'https://storage.googleapis.com/law-docs/ACT-LEGISLATION_HTML/AUSTRALIAN%20CAPITAL%20TERRITORY%20MINISTERS%20ACT%202013/s1.html', 'text': '\\n\\nAUSTRALIAN CAPITAL TERRITORY (MINISTERS) ACT 2013 - SECT 1\\nName of Act\\n\\nName of Act\\nThis Act is the Australian Capital Territory (Ministers)  Act\\xa02013 . \\n\\n\\n'}\n",
      "{'jurisdiction': 'ACT', 'legislation_combined_url': 'https://storage.googleapis.com/law-docs/ACT-LEGISLATION_HTML/HEALTH%20PRACTITIONER%20REGULATION%20NATIONAL%20LAW%20ACT%20ACT%202010/combined.html', 'legislation_id': 'f3e9e76f-e458-4341-a75d-530bfd1d6064', 'legislation_index_url': 'https://storage.googleapis.com/law-docs/ACT-LEGISLATION_HTML/HEALTH%20PRACTITIONER%20REGULATION%20NATIONAL%20LAW%20ACT%20ACT%202010/index.html', 'legislation_name': 'HEALTH PRACTITIONER REGULATION NATIONAL LAW ACT ACT 2010', 'legislation_year': '2010', 'section_id': '08077620-58a0-4181-b27f-6b90416054bb', 'section_name': 'Exclusion of territory laws', 'section_url': 'https://storage.googleapis.com/law-docs/ACT-LEGISLATION_HTML/HEALTH%20PRACTITIONER%20REGULATION%20NATIONAL%20LAW%20ACT%20ACT%202010/s9.html', 'text': '\\n\\nHEALTH PRACTITIONER REGULATION NATIONAL LAW (ACT) ACT 2010 - SECT 9\\nExclusion of territory laws\\n\\nExclusion of territory laws\\nThe following territory laws do not apply to the Health Practitioner\\nRegulation National Law (ACT)  or to instruments made under that Law:  \\xa0\\n\\xa0 \\xa0 \\xa0 (a) \\xa0 \\xa0 the\\nAnnual Reports (Government Agencies) Act 2004  ;  \\xa0 \\xa0 \\xa0 \\xa0\\n(b) \\xa0 \\xa0 the Auditor-General Act 1996  ;  \\xa0 \\xa0 \\xa0 \\xa0\\n(c) \\xa0 \\xa0 the Criminal Code 2002  ;  \\xa0 \\xa0 \\xa0 \\xa0 (d)\\n\\xa0 \\xa0 the Financial Management Act 1996  ;  \\xa0 \\xa0 \\xa0\\n\\xa0 (e) \\xa0 \\xa0 the Freedom of Information Act 2016  ;  \\xa0 \\xa0\\n\\xa0 \\xa0 (f) \\xa0 \\xa0 the Legislation Act 2001  ;  \\xa0 \\xa0\\n\\xa0 \\xa0 (g) \\xa0 \\xa0 the Ombudsman Act 1989  ;  \\xa0 \\xa0\\n\\xa0 \\xa0 (h) \\xa0 \\xa0 the Public Sector Management Act 1994  .  Note\\n\\xa0 \\xa0 The Health Practitioner Regulation National Law (ACT)  , s 198\\nprovides that the provisions about appeals in the Law apply despite the ACT\\nCivil and Administrative Tribunal Act 2008  , but does not otherwise limit\\nthat Act. \\n\\n\\n'}\n"
     ]
    }
   ],
   "source": [
    "for match in resp_json['matches']:\n",
    "    print(match['metadata'])"
   ]
  },
  {
   "cell_type": "code",
   "execution_count": 3,
   "metadata": {},
   "outputs": [],
   "source": [
    "import requests\n",
    "from bs4 import BeautifulSoup\n",
    "\n",
    "\n",
    "def download_html(url: str):\n",
    "    response = requests.get(url)\n",
    "    # response.encoding = 'utf-8'  # explicitly set encoding to utf-8\n",
    "    html = response.text\n",
    "    soup = BeautifulSoup(html, 'html.parser')\n",
    "    return soup.text"
   ]
  },
  {
   "cell_type": "code",
   "execution_count": 4,
   "metadata": {},
   "outputs": [
    {
     "data": {
      "text/plain": [
       "\"\\n\\nCEMETERIES AND CREMATORIA ACT 2020 - SECT 91\\nOffenceâ\\x80\\x94fail to comply with direction to give name and address\\n\\nOffenceâ\\x80\\x94fail to comply with direction to give name and address\\n\\xa0 \\xa0 (1) \\xa0 \\xa0 A person commits an offence ifâ\\x80\\x94  \\xa0\\n\\xa0 \\xa0 \\xa0 (a) \\xa0 \\xa0 an authorised person directs the person\\nto give their full name and address under section 90; and  \\xa0 \\xa0\\n\\xa0 \\xa0 (b) \\xa0 \\xa0 the authorised person produces the authorised\\nperson's identity card for inspection by the person; and  \\xa0 \\xa0 \\xa0\\n\\xa0 (c) \\xa0 \\xa0 the authorised person warns the person that failure\\nto comply with the direction is an offence; and  \\xa0 \\xa0 \\xa0 \\xa0\\n(d) \\xa0 \\xa0 the person did not give the authorised person their full\\nname and address.  Maximum penalty: 10 penalty units.  Note \\xa0 \\xa0 It\\nis an offence to make a false or misleading statement or give false or\\nmisleading information (see Criminal Code  , pt 3.4).  \\xa0 \\xa0 (2)\\n\\xa0 \\xa0 An offence against this section is a strict liability offence. \\n\\n\\n\""
      ]
     },
     "execution_count": 4,
     "metadata": {},
     "output_type": "execute_result"
    }
   ],
   "source": [
    "download_html(\n",
    "    'https://storage.googleapis.com/law-docs/ACT-LEGISLATION_HTML/CEMETERIES%20AND%20CREMATORIA%20ACT%202020/s91.html')"
   ]
  },
  {
   "cell_type": "code",
   "execution_count": null,
   "metadata": {},
   "outputs": [],
   "source": []
  }
 ],
 "metadata": {
  "kernelspec": {
   "display_name": "selenium",
   "language": "python",
   "name": "python3"
  },
  "language_info": {
   "codemirror_mode": {
    "name": "ipython",
    "version": 3
   },
   "file_extension": ".py",
   "mimetype": "text/x-python",
   "name": "python",
   "nbconvert_exporter": "python",
   "pygments_lexer": "ipython3",
   "version": "3.11.3"
  },
  "orig_nbformat": 4
 },
 "nbformat": 4,
 "nbformat_minor": 2
}
