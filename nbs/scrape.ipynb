{
 "cells": [
  {
   "attachments": {},
   "cell_type": "markdown",
   "metadata": {},
   "source": [
    "# Scrape Federal Register of Legislation\n"
   ]
  },
  {
   "cell_type": "code",
   "execution_count": 62,
   "metadata": {},
   "outputs": [],
   "source": [
    "from selenium import webdriver\n",
    "from selenium.webdriver.common.by import By\n",
    "from selenium.webdriver.support.ui import WebDriverWait\n",
    "from selenium.webdriver.support import expected_conditions as EC\n",
    "from bs4 import BeautifulSoup\n",
    "import time\n",
    "import os"
   ]
  },
  {
   "cell_type": "code",
   "execution_count": 2,
   "metadata": {},
   "outputs": [],
   "source": [
    "if not os.path.exists(\"./docs\"):\n",
    "    os.makedirs(\"./docs\")"
   ]
  },
  {
   "cell_type": "code",
   "execution_count": 107,
   "metadata": {},
   "outputs": [],
   "source": [
    "urls = [\n",
    "    \"https://www.legislation.gov.au/Browse/Results/ByTitle/Acts/InForce/A/0/0/principal\",  # 0\n",
    "    \"https://www.legislation.gov.au/Browse/Results/ByTitle/Acts/InForce/B/0/0/principal\",  # 1\n",
    "    \"https://www.legislation.gov.au/Browse/Results/ByTitle/Acts/InForce/C/0/0/principal\",  # 2\n",
    "    \"https://www.legislation.gov.au/Browse/Results/ByTitle/Acts/InForce/D/0/0/principal\",  # 3\n",
    "    \"https://www.legislation.gov.au/Browse/Results/ByTitle/Acts/InForce/E/0/0/principal\",  # 4\n",
    "    \"https://www.legislation.gov.au/Browse/Results/ByTitle/Acts/InForce/F/0/0/principal\",  # 5\n",
    "    \"https://www.legislation.gov.au/Browse/Results/ByTitle/Acts/InForce/G/0/0/principal\",  # 6\n",
    "    \"https://www.legislation.gov.au/Browse/Results/ByTitle/Acts/InForce/H/0/0/principal\",  # 7\n",
    "    \"https://www.legislation.gov.au/Browse/Results/ByTitle/Acts/InForce/I/0/0/principal\",  # 8\n",
    "    \"https://www.legislation.gov.au/Browse/Results/ByTitle/Acts/InForce/J/0/0/principal\",  # 9\n",
    "    \"https://www.legislation.gov.au/Browse/Results/ByTitle/Acts/InForce/K/0/0/principal\",  # 10\n",
    "    \"https://www.legislation.gov.au/Browse/Results/ByTitle/Acts/InForce/L/0/0/principal\",  # 11\n",
    "    \"https://www.legislation.gov.au/Browse/Results/ByTitle/Acts/InForce/M/0/0/principal\",  # 12\n",
    "    \"https://www.legislation.gov.au/Browse/Results/ByTitle/Acts/InForce/N/0/0/principal\",  # 13\n",
    "    \"https://www.legislation.gov.au/Browse/Results/ByTitle/Acts/InForce/O/0/0/principal\",  # 14\n",
    "    \"https://www.legislation.gov.au/Browse/Results/ByTitle/Acts/InForce/P/0/0/principal\",  # 15\n",
    "    \"https://www.legislation.gov.au/Browse/Results/ByTitle/Acts/InForce/Q/0/0/principal\",  # 16\n",
    "    \"https://www.legislation.gov.au/Browse/Results/ByTitle/Acts/InForce/R/0/0/principal\",  # 17\n",
    "    \"https://www.legislation.gov.au/Browse/Results/ByTitle/Acts/InForce/S/0/0/principal\",  # 18\n",
    "    \"https://www.legislation.gov.au/Browse/Results/ByTitle/Acts/InForce/T/0/0/principal\",  # 19\n",
    "    \"https://www.legislation.gov.au/Browse/Results/ByTitle/Acts/InForce/U/0/0/principal\",  # 20\n",
    "    \"https://www.legislation.gov.au/Browse/Results/ByTitle/Acts/InForce/V/0/0/principal\",  # 21\n",
    "    \"https://www.legislation.gov.au/Browse/Results/ByTitle/Acts/InForce/W/0/0/principal\",  # 22\n",
    "]"
   ]
  },
  {
   "cell_type": "code",
   "execution_count": 21,
   "metadata": {},
   "outputs": [],
   "source": [
    "# Set up the webdriver. This assumes you're using Chrome; adjust as necessary.\n",
    "driver = webdriver.Chrome(\"chromedriver\")"
   ]
  },
  {
   "cell_type": "code",
   "execution_count": 22,
   "metadata": {},
   "outputs": [],
   "source": [
    "# Open the webpage\n",
    "driver.get(urls[0])\n",
    "\n",
    "# Wait until the page has fully loaded\n",
    "wait = WebDriverWait(driver, 10)"
   ]
  },
  {
   "cell_type": "code",
   "execution_count": 25,
   "metadata": {},
   "outputs": [],
   "source": [
    "def download(driver):\n",
    "    # Get all download buttons\n",
    "    download_buttons = WebDriverWait(driver, 10).until(\n",
    "        EC.presence_of_all_elements_located(\n",
    "            (By.XPATH, \"//input[@value='Download']\"))\n",
    "    )\n",
    "\n",
    "    # Iterate over each button\n",
    "    for i in range(len(download_buttons)):\n",
    "        # Need to find the buttons again because the DOM might have changed\n",
    "        download_buttons = WebDriverWait(driver, 10).until(\n",
    "            EC.presence_of_all_elements_located(\n",
    "                (By.XPATH, \"//input[@value='Download']\")\n",
    "            )\n",
    "        )\n",
    "\n",
    "        # Click the button\n",
    "        download_buttons[i].click()\n",
    "\n",
    "        # Find the \"Text\" link and click it\n",
    "        text_link = WebDriverWait(driver, 10).until(\n",
    "            EC.element_to_be_clickable(\n",
    "                (By.XPATH, \"//a[contains(text(), 'Text')]\"))\n",
    "        )\n",
    "        text_link.click()\n",
    "\n",
    "        # Get the page source and parse it with Beautiful Soup\n",
    "        soup = BeautifulSoup(driver.page_source, \"html.parser\")\n",
    "\n",
    "        # Find the div with class \"right\" and print its inner HTML\n",
    "        right_div = soup.find(\"div\", {\"class\": \"right\"})\n",
    "        title = driver.title\n",
    "        url = driver.current_url\n",
    "\n",
    "        # Write the HTML to a file\n",
    "        with open(f\"./docs/{title}\", \"w\") as f:\n",
    "            f.write(f\"{title}\\n{url}\\n{right_div}\")\n",
    "\n",
    "        # Go back to the original page\n",
    "        driver.back()\n",
    "        driver.back()\n",
    "\n",
    "        # Wait for a bit to make sure the page is fully loaded before the next iteration\n",
    "        time.sleep(1)"
   ]
  },
  {
   "cell_type": "code",
   "execution_count": 27,
   "metadata": {},
   "outputs": [],
   "source": [
    "download(driver)"
   ]
  },
  {
   "cell_type": "code",
   "execution_count": 26,
   "metadata": {},
   "outputs": [],
   "source": [
    "def extract_numbers(driver):\n",
    "    # Get the page source and parse it with BeautifulSoup\n",
    "    soup = BeautifulSoup(driver.page_source, \"html.parser\")\n",
    "\n",
    "    # Find the div with the class 'rgWrap rgInfoPart'\n",
    "    div = soup.find(\"div\", class_=\"rgWrap rgInfoPart\")\n",
    "\n",
    "    # If the div isn't found, return an empty list\n",
    "    if div is None:\n",
    "        return []\n",
    "\n",
    "    # Find all the strong tags in the div\n",
    "    strongs = div.find_all(\"strong\")\n",
    "\n",
    "    # Extract the numbers from the strong tags\n",
    "    numbers = []\n",
    "    for strong in strongs:\n",
    "        # Try to convert the string to an integer\n",
    "        try:\n",
    "            number = int(strong.text)\n",
    "        except ValueError:\n",
    "            # If it can't be converted to an integer, skip it\n",
    "            continue\n",
    "\n",
    "        # Append the number to the list\n",
    "        numbers.append(number)\n",
    "    return numbers"
   ]
  },
  {
   "cell_type": "code",
   "execution_count": 24,
   "metadata": {},
   "outputs": [
    {
     "data": {
      "text/plain": [
       "[161, 4]"
      ]
     },
     "execution_count": 24,
     "metadata": {},
     "output_type": "execute_result"
    }
   ],
   "source": [
    "# Get the number of pages\n",
    "num_pages = extract_numbers(driver)\n",
    "num_pages"
   ]
  },
  {
   "cell_type": "code",
   "execution_count": 77,
   "metadata": {},
   "outputs": [],
   "source": [
    "from selenium.common.exceptions import NoSuchElementException\n",
    "\n",
    "\n",
    "def click_next_page(driver):\n",
    "    try:\n",
    "        # Find the input element with title 'Next Page' and class 'rgPageNext'\n",
    "        next_button = driver.find_elements(\n",
    "            By.XPATH,\n",
    "            '//*[@id=\"ctl00_MainContent_gridBrowse_ctl00\"]/thead/tr[1]/td/table/tbody/tr/td/div[3]/input[1]',\n",
    "        )\n",
    "\n",
    "        # Scroll to the element\n",
    "        driver.execute_script(\"arguments[0].scrollIntoView();\", next_button[0])\n",
    "\n",
    "        # Click on the element\n",
    "        driver.execute_script(\"arguments[0].click();\", next_button[0])\n",
    "        return True\n",
    "\n",
    "    except NoSuchElementException:\n",
    "        print(\"Next Page button not found.\")\n",
    "        return False"
   ]
  },
  {
   "cell_type": "code",
   "execution_count": 88,
   "metadata": {},
   "outputs": [],
   "source": [
    "def download_letter(driver, url):\n",
    "    # Open the webpage\n",
    "    driver.get(url)\n",
    "\n",
    "    # Wait until the page has fully loaded\n",
    "    wait = WebDriverWait(driver, 10)\n",
    "\n",
    "    # Get the number of pages\n",
    "    num_pages = extract_numbers(driver)\n",
    "\n",
    "    # Iterate over each page\n",
    "    for i in range(num_pages[1]):\n",
    "        # Download the HTML\n",
    "        download(driver)\n",
    "\n",
    "        # Click the next page button\n",
    "        click_next_page(driver)"
   ]
  },
  {
   "cell_type": "code",
   "execution_count": 105,
   "metadata": {},
   "outputs": [],
   "source": [
    "driver = webdriver.Chrome(\"chromedriver\")"
   ]
  },
  {
   "cell_type": "code",
   "execution_count": 106,
   "metadata": {},
   "outputs": [
    {
     "ename": "TimeoutException",
     "evalue": "Message: \n",
     "output_type": "error",
     "traceback": [
      "\u001b[0;31m---------------------------------------------------------------------------\u001b[0m",
      "\u001b[0;31mTimeoutException\u001b[0m                          Traceback (most recent call last)",
      "Cell \u001b[0;32mIn[106], line 3\u001b[0m\n\u001b[1;32m      1\u001b[0m urls2 \u001b[39m=\u001b[39m urls[\u001b[39m19\u001b[39m:]\n\u001b[1;32m      2\u001b[0m \u001b[39mfor\u001b[39;00m url \u001b[39min\u001b[39;00m urls2:\n\u001b[0;32m----> 3\u001b[0m     download_letter(driver, url)\n",
      "Cell \u001b[0;32mIn[88], line 14\u001b[0m, in \u001b[0;36mdownload_letter\u001b[0;34m(driver, url)\u001b[0m\n\u001b[1;32m     11\u001b[0m \u001b[39m# Iterate over each page\u001b[39;00m\n\u001b[1;32m     12\u001b[0m \u001b[39mfor\u001b[39;00m i \u001b[39min\u001b[39;00m \u001b[39mrange\u001b[39m(num_pages[\u001b[39m1\u001b[39m]):\n\u001b[1;32m     13\u001b[0m     \u001b[39m# Download the HTML\u001b[39;00m\n\u001b[0;32m---> 14\u001b[0m     download(driver)\n\u001b[1;32m     16\u001b[0m     \u001b[39m# Click the next page button\u001b[39;00m\n\u001b[1;32m     17\u001b[0m     click_next_page(driver)\n",
      "Cell \u001b[0;32mIn[25], line 3\u001b[0m, in \u001b[0;36mdownload\u001b[0;34m(driver)\u001b[0m\n\u001b[1;32m      1\u001b[0m \u001b[39mdef\u001b[39;00m \u001b[39mdownload\u001b[39m(driver):\n\u001b[1;32m      2\u001b[0m     \u001b[39m# Get all download buttons\u001b[39;00m\n\u001b[0;32m----> 3\u001b[0m     download_buttons \u001b[39m=\u001b[39m WebDriverWait(driver, \u001b[39m10\u001b[39;49m)\u001b[39m.\u001b[39;49muntil(\n\u001b[1;32m      4\u001b[0m         EC\u001b[39m.\u001b[39;49mpresence_of_all_elements_located((By\u001b[39m.\u001b[39;49mXPATH, \u001b[39m\"\u001b[39;49m\u001b[39m//input[@value=\u001b[39;49m\u001b[39m'\u001b[39;49m\u001b[39mDownload\u001b[39;49m\u001b[39m'\u001b[39;49m\u001b[39m]\u001b[39;49m\u001b[39m\"\u001b[39;49m))\n\u001b[1;32m      5\u001b[0m     )\n\u001b[1;32m      7\u001b[0m     \u001b[39m# Iterate over each button\u001b[39;00m\n\u001b[1;32m      8\u001b[0m     \u001b[39mfor\u001b[39;00m i \u001b[39min\u001b[39;00m \u001b[39mrange\u001b[39m(\u001b[39mlen\u001b[39m(download_buttons)):\n\u001b[1;32m      9\u001b[0m         \u001b[39m# Need to find the buttons again because the DOM might have changed\u001b[39;00m\n",
      "File \u001b[0;32m~/.virtualenvs/selenium/lib/python3.11/site-packages/selenium/webdriver/support/wait.py:95\u001b[0m, in \u001b[0;36mWebDriverWait.until\u001b[0;34m(self, method, message)\u001b[0m\n\u001b[1;32m     93\u001b[0m     \u001b[39mif\u001b[39;00m time\u001b[39m.\u001b[39mmonotonic() \u001b[39m>\u001b[39m end_time:\n\u001b[1;32m     94\u001b[0m         \u001b[39mbreak\u001b[39;00m\n\u001b[0;32m---> 95\u001b[0m \u001b[39mraise\u001b[39;00m TimeoutException(message, screen, stacktrace)\n",
      "\u001b[0;31mTimeoutException\u001b[0m: Message: \n"
     ]
    }
   ],
   "source": [
    "urls2 = urls[19:]\n",
    "for url in urls2:\n",
    "    download_letter(driver, url)"
   ]
  },
  {
   "cell_type": "code",
   "execution_count": 102,
   "metadata": {},
   "outputs": [
    {
     "data": {
      "text/plain": [
       "True"
      ]
     },
     "execution_count": 102,
     "metadata": {},
     "output_type": "execute_result"
    }
   ],
   "source": [
    "driver.get(urls[19])\n",
    "click_next_page(driver)\n",
    "download(driver)"
   ]
  },
  {
   "attachments": {},
   "cell_type": "markdown",
   "metadata": {},
   "source": [
    "# Process downloaded content\n"
   ]
  },
  {
   "cell_type": "code",
   "execution_count": 121,
   "metadata": {},
   "outputs": [],
   "source": [
    "import re\n",
    "\n",
    "\n",
    "class Document:\n",
    "    def __init__(self, path):\n",
    "        with open(path, \"r\") as f:\n",
    "            lines = f.readlines()\n",
    "            self.title = lines[0].strip()\n",
    "            self.url = lines[1].strip()\n",
    "            self.metadata = {\"title\": self.title, \"url\": self.url}\n",
    "            html = \"\".join(lines[2:])\n",
    "        self.text = self._get_text(html)\n",
    "\n",
    "    @staticmethod\n",
    "    def _get_text(html):\n",
    "        soup = BeautifulSoup(html, \"html.parser\")\n",
    "        text = soup.get_text()\n",
    "        text = re.sub(r\"\\n+\", \"\\n\", text)\n",
    "        text = re.sub(r\"\\xa0\", \"\", text)\n",
    "        return text"
   ]
  },
  {
   "cell_type": "code",
   "execution_count": 123,
   "metadata": {},
   "outputs": [
    {
     "data": {
      "text/plain": [
       "1208"
      ]
     },
     "execution_count": 123,
     "metadata": {},
     "output_type": "execute_result"
    }
   ],
   "source": [
    "from glob import glob\n",
    "\n",
    "files = glob(\"./docs/*\")\n",
    "len(files)"
   ]
  },
  {
   "cell_type": "code",
   "execution_count": 125,
   "metadata": {},
   "outputs": [],
   "source": [
    "docs = [Document(f) for f in files]"
   ]
  },
  {
   "cell_type": "code",
   "execution_count": 140,
   "metadata": {},
   "outputs": [
    {
     "data": {
      "text/html": [
       "<div>\n",
       "<style scoped>\n",
       "    .dataframe tbody tr th:only-of-type {\n",
       "        vertical-align: middle;\n",
       "    }\n",
       "\n",
       "    .dataframe tbody tr th {\n",
       "        vertical-align: top;\n",
       "    }\n",
       "\n",
       "    .dataframe thead th {\n",
       "        text-align: right;\n",
       "    }\n",
       "</style>\n",
       "<table border=\"1\" class=\"dataframe\">\n",
       "  <thead>\n",
       "    <tr style=\"text-align: right;\">\n",
       "      <th></th>\n",
       "      <th>0</th>\n",
       "    </tr>\n",
       "  </thead>\n",
       "  <tbody>\n",
       "    <tr>\n",
       "      <th>0</th>\n",
       "      <td>\\n   Cocos (Keeling) Islands Act 1955 No.34, 1...</td>\n",
       "    </tr>\n",
       "    <tr>\n",
       "      <th>1</th>\n",
       "      <td>\\n   CSL Sale Act 1993 No.88, 1993 Compilation...</td>\n",
       "    </tr>\n",
       "    <tr>\n",
       "      <th>2</th>\n",
       "      <td>\\n   Immigration (Guardianship of Children) Ac...</td>\n",
       "    </tr>\n",
       "    <tr>\n",
       "      <th>3</th>\n",
       "      <td>\\n   Air Navigation Act 1920 No.50, 1920 Compi...</td>\n",
       "    </tr>\n",
       "    <tr>\n",
       "      <th>4</th>\n",
       "      <td>\\n   Telstra Corporation Act 1991 No.79, 1991 ...</td>\n",
       "    </tr>\n",
       "  </tbody>\n",
       "</table>\n",
       "</div>"
      ],
      "text/plain": [
       "                                                   0\n",
       "0  \\n   Cocos (Keeling) Islands Act 1955 No.34, 1...\n",
       "1  \\n   CSL Sale Act 1993 No.88, 1993 Compilation...\n",
       "2  \\n   Immigration (Guardianship of Children) Ac...\n",
       "3  \\n   Air Navigation Act 1920 No.50, 1920 Compi...\n",
       "4  \\n   Telstra Corporation Act 1991 No.79, 1991 ..."
      ]
     },
     "execution_count": 140,
     "metadata": {},
     "output_type": "execute_result"
    }
   ],
   "source": [
    "import pandas as pd\n",
    "\n",
    "df = pd.DataFrame([doc.text for doc in docs])\n",
    "df.head()"
   ]
  },
  {
   "cell_type": "code",
   "execution_count": 141,
   "metadata": {},
   "outputs": [
    {
     "data": {
      "text/html": [
       "<div>\n",
       "<style scoped>\n",
       "    .dataframe tbody tr th:only-of-type {\n",
       "        vertical-align: middle;\n",
       "    }\n",
       "\n",
       "    .dataframe tbody tr th {\n",
       "        vertical-align: top;\n",
       "    }\n",
       "\n",
       "    .dataframe thead th {\n",
       "        text-align: right;\n",
       "    }\n",
       "</style>\n",
       "<table border=\"1\" class=\"dataframe\">\n",
       "  <thead>\n",
       "    <tr style=\"text-align: right;\">\n",
       "      <th></th>\n",
       "      <th>title</th>\n",
       "      <th>url</th>\n",
       "    </tr>\n",
       "  </thead>\n",
       "  <tbody>\n",
       "    <tr>\n",
       "      <th>0</th>\n",
       "      <td>Cocos (Keeling) Islands Act 1955</td>\n",
       "      <td>https://www.legislation.gov.au/Details/C2021C0...</td>\n",
       "    </tr>\n",
       "    <tr>\n",
       "      <th>1</th>\n",
       "      <td>CSL Sale Act 1993</td>\n",
       "      <td>https://www.legislation.gov.au/Details/C2018C0...</td>\n",
       "    </tr>\n",
       "    <tr>\n",
       "      <th>2</th>\n",
       "      <td>Immigration (Guardianship of Children) Act 1946</td>\n",
       "      <td>https://www.legislation.gov.au/Details/C2016C0...</td>\n",
       "    </tr>\n",
       "    <tr>\n",
       "      <th>3</th>\n",
       "      <td>Air Navigation Act 1920</td>\n",
       "      <td>https://www.legislation.gov.au/Details/C2016C0...</td>\n",
       "    </tr>\n",
       "    <tr>\n",
       "      <th>4</th>\n",
       "      <td>Telstra Corporation Act 1991</td>\n",
       "      <td>https://www.legislation.gov.au/Details/C2022C0...</td>\n",
       "    </tr>\n",
       "  </tbody>\n",
       "</table>\n",
       "</div>"
      ],
      "text/plain": [
       "                                             title   \n",
       "0                 Cocos (Keeling) Islands Act 1955  \\\n",
       "1                                CSL Sale Act 1993   \n",
       "2  Immigration (Guardianship of Children) Act 1946   \n",
       "3                          Air Navigation Act 1920   \n",
       "4                     Telstra Corporation Act 1991   \n",
       "\n",
       "                                                 url  \n",
       "0  https://www.legislation.gov.au/Details/C2021C0...  \n",
       "1  https://www.legislation.gov.au/Details/C2018C0...  \n",
       "2  https://www.legislation.gov.au/Details/C2016C0...  \n",
       "3  https://www.legislation.gov.au/Details/C2016C0...  \n",
       "4  https://www.legislation.gov.au/Details/C2022C0...  "
      ]
     },
     "execution_count": 141,
     "metadata": {},
     "output_type": "execute_result"
    }
   ],
   "source": [
    "df2 = pd.DataFrame([d.metadata for d in docs])\n",
    "df2.head()"
   ]
  },
  {
   "cell_type": "code",
   "execution_count": 145,
   "metadata": {},
   "outputs": [
    {
     "data": {
      "text/html": [
       "<div>\n",
       "<style scoped>\n",
       "    .dataframe tbody tr th:only-of-type {\n",
       "        vertical-align: middle;\n",
       "    }\n",
       "\n",
       "    .dataframe tbody tr th {\n",
       "        vertical-align: top;\n",
       "    }\n",
       "\n",
       "    .dataframe thead th {\n",
       "        text-align: right;\n",
       "    }\n",
       "</style>\n",
       "<table border=\"1\" class=\"dataframe\">\n",
       "  <thead>\n",
       "    <tr style=\"text-align: right;\">\n",
       "      <th></th>\n",
       "      <th>0</th>\n",
       "      <th>title</th>\n",
       "      <th>url</th>\n",
       "    </tr>\n",
       "  </thead>\n",
       "  <tbody>\n",
       "    <tr>\n",
       "      <th>0</th>\n",
       "      <td>\\n   Cocos (Keeling) Islands Act 1955 No.34, 1...</td>\n",
       "      <td>Cocos (Keeling) Islands Act 1955</td>\n",
       "      <td>https://www.legislation.gov.au/Details/C2021C0...</td>\n",
       "    </tr>\n",
       "    <tr>\n",
       "      <th>1</th>\n",
       "      <td>\\n   CSL Sale Act 1993 No.88, 1993 Compilation...</td>\n",
       "      <td>CSL Sale Act 1993</td>\n",
       "      <td>https://www.legislation.gov.au/Details/C2018C0...</td>\n",
       "    </tr>\n",
       "    <tr>\n",
       "      <th>2</th>\n",
       "      <td>\\n   Immigration (Guardianship of Children) Ac...</td>\n",
       "      <td>Immigration (Guardianship of Children) Act 1946</td>\n",
       "      <td>https://www.legislation.gov.au/Details/C2016C0...</td>\n",
       "    </tr>\n",
       "    <tr>\n",
       "      <th>3</th>\n",
       "      <td>\\n   Air Navigation Act 1920 No.50, 1920 Compi...</td>\n",
       "      <td>Air Navigation Act 1920</td>\n",
       "      <td>https://www.legislation.gov.au/Details/C2016C0...</td>\n",
       "    </tr>\n",
       "    <tr>\n",
       "      <th>4</th>\n",
       "      <td>\\n   Telstra Corporation Act 1991 No.79, 1991 ...</td>\n",
       "      <td>Telstra Corporation Act 1991</td>\n",
       "      <td>https://www.legislation.gov.au/Details/C2022C0...</td>\n",
       "    </tr>\n",
       "  </tbody>\n",
       "</table>\n",
       "</div>"
      ],
      "text/plain": [
       "                                                   0   \n",
       "0  \\n   Cocos (Keeling) Islands Act 1955 No.34, 1...  \\\n",
       "1  \\n   CSL Sale Act 1993 No.88, 1993 Compilation...   \n",
       "2  \\n   Immigration (Guardianship of Children) Ac...   \n",
       "3  \\n   Air Navigation Act 1920 No.50, 1920 Compi...   \n",
       "4  \\n   Telstra Corporation Act 1991 No.79, 1991 ...   \n",
       "\n",
       "                                             title   \n",
       "0                 Cocos (Keeling) Islands Act 1955  \\\n",
       "1                                CSL Sale Act 1993   \n",
       "2  Immigration (Guardianship of Children) Act 1946   \n",
       "3                          Air Navigation Act 1920   \n",
       "4                     Telstra Corporation Act 1991   \n",
       "\n",
       "                                                 url  \n",
       "0  https://www.legislation.gov.au/Details/C2021C0...  \n",
       "1  https://www.legislation.gov.au/Details/C2018C0...  \n",
       "2  https://www.legislation.gov.au/Details/C2016C0...  \n",
       "3  https://www.legislation.gov.au/Details/C2016C0...  \n",
       "4  https://www.legislation.gov.au/Details/C2022C0...  "
      ]
     },
     "execution_count": 145,
     "metadata": {},
     "output_type": "execute_result"
    }
   ],
   "source": [
    "df_combined = pd.concat([df, df2], axis=1)\n",
    "df_combined.head()"
   ]
  },
  {
   "cell_type": "code",
   "execution_count": 148,
   "metadata": {},
   "outputs": [],
   "source": [
    "df_combined = df_combined.rename(columns={0: \"text\"})"
   ]
  },
  {
   "cell_type": "code",
   "execution_count": 149,
   "metadata": {},
   "outputs": [
    {
     "data": {
      "text/html": [
       "<div>\n",
       "<style scoped>\n",
       "    .dataframe tbody tr th:only-of-type {\n",
       "        vertical-align: middle;\n",
       "    }\n",
       "\n",
       "    .dataframe tbody tr th {\n",
       "        vertical-align: top;\n",
       "    }\n",
       "\n",
       "    .dataframe thead th {\n",
       "        text-align: right;\n",
       "    }\n",
       "</style>\n",
       "<table border=\"1\" class=\"dataframe\">\n",
       "  <thead>\n",
       "    <tr style=\"text-align: right;\">\n",
       "      <th></th>\n",
       "      <th>text</th>\n",
       "      <th>title</th>\n",
       "      <th>url</th>\n",
       "    </tr>\n",
       "  </thead>\n",
       "  <tbody>\n",
       "    <tr>\n",
       "      <th>0</th>\n",
       "      <td>\\n   Cocos (Keeling) Islands Act 1955 No.34, 1...</td>\n",
       "      <td>Cocos (Keeling) Islands Act 1955</td>\n",
       "      <td>https://www.legislation.gov.au/Details/C2021C0...</td>\n",
       "    </tr>\n",
       "    <tr>\n",
       "      <th>1</th>\n",
       "      <td>\\n   CSL Sale Act 1993 No.88, 1993 Compilation...</td>\n",
       "      <td>CSL Sale Act 1993</td>\n",
       "      <td>https://www.legislation.gov.au/Details/C2018C0...</td>\n",
       "    </tr>\n",
       "    <tr>\n",
       "      <th>2</th>\n",
       "      <td>\\n   Immigration (Guardianship of Children) Ac...</td>\n",
       "      <td>Immigration (Guardianship of Children) Act 1946</td>\n",
       "      <td>https://www.legislation.gov.au/Details/C2016C0...</td>\n",
       "    </tr>\n",
       "    <tr>\n",
       "      <th>3</th>\n",
       "      <td>\\n   Air Navigation Act 1920 No.50, 1920 Compi...</td>\n",
       "      <td>Air Navigation Act 1920</td>\n",
       "      <td>https://www.legislation.gov.au/Details/C2016C0...</td>\n",
       "    </tr>\n",
       "    <tr>\n",
       "      <th>4</th>\n",
       "      <td>\\n   Telstra Corporation Act 1991 No.79, 1991 ...</td>\n",
       "      <td>Telstra Corporation Act 1991</td>\n",
       "      <td>https://www.legislation.gov.au/Details/C2022C0...</td>\n",
       "    </tr>\n",
       "  </tbody>\n",
       "</table>\n",
       "</div>"
      ],
      "text/plain": [
       "                                                text   \n",
       "0  \\n   Cocos (Keeling) Islands Act 1955 No.34, 1...  \\\n",
       "1  \\n   CSL Sale Act 1993 No.88, 1993 Compilation...   \n",
       "2  \\n   Immigration (Guardianship of Children) Ac...   \n",
       "3  \\n   Air Navigation Act 1920 No.50, 1920 Compi...   \n",
       "4  \\n   Telstra Corporation Act 1991 No.79, 1991 ...   \n",
       "\n",
       "                                             title   \n",
       "0                 Cocos (Keeling) Islands Act 1955  \\\n",
       "1                                CSL Sale Act 1993   \n",
       "2  Immigration (Guardianship of Children) Act 1946   \n",
       "3                          Air Navigation Act 1920   \n",
       "4                     Telstra Corporation Act 1991   \n",
       "\n",
       "                                                 url  \n",
       "0  https://www.legislation.gov.au/Details/C2021C0...  \n",
       "1  https://www.legislation.gov.au/Details/C2018C0...  \n",
       "2  https://www.legislation.gov.au/Details/C2016C0...  \n",
       "3  https://www.legislation.gov.au/Details/C2016C0...  \n",
       "4  https://www.legislation.gov.au/Details/C2022C0...  "
      ]
     },
     "execution_count": 149,
     "metadata": {},
     "output_type": "execute_result"
    }
   ],
   "source": [
    "df_combined.head()"
   ]
  },
  {
   "cell_type": "code",
   "execution_count": 150,
   "metadata": {},
   "outputs": [],
   "source": [
    "df_combined.to_csv(\"legislation.csv\", index=False)"
   ]
  },
  {
   "cell_type": "code",
   "execution_count": 1,
   "metadata": {},
   "outputs": [],
   "source": [
    "import pandas as pd\n",
    "\n",
    "\n",
    "def load_legislation():\n",
    "    df = pd.read_csv(\"legislation.csv\")\n",
    "    return df"
   ]
  },
  {
   "cell_type": "code",
   "execution_count": 2,
   "metadata": {},
   "outputs": [
    {
     "data": {
      "text/html": [
       "<div>\n",
       "<style scoped>\n",
       "    .dataframe tbody tr th:only-of-type {\n",
       "        vertical-align: middle;\n",
       "    }\n",
       "\n",
       "    .dataframe tbody tr th {\n",
       "        vertical-align: top;\n",
       "    }\n",
       "\n",
       "    .dataframe thead th {\n",
       "        text-align: right;\n",
       "    }\n",
       "</style>\n",
       "<table border=\"1\" class=\"dataframe\">\n",
       "  <thead>\n",
       "    <tr style=\"text-align: right;\">\n",
       "      <th></th>\n",
       "      <th>text</th>\n",
       "      <th>title</th>\n",
       "      <th>url</th>\n",
       "    </tr>\n",
       "  </thead>\n",
       "  <tbody>\n",
       "    <tr>\n",
       "      <th>0</th>\n",
       "      <td>\\n   Cocos (Keeling) Islands Act 1955 No.34, 1...</td>\n",
       "      <td>Cocos (Keeling) Islands Act 1955</td>\n",
       "      <td>https://www.legislation.gov.au/Details/C2021C0...</td>\n",
       "    </tr>\n",
       "    <tr>\n",
       "      <th>1</th>\n",
       "      <td>\\n   CSL Sale Act 1993 No.88, 1993 Compilation...</td>\n",
       "      <td>CSL Sale Act 1993</td>\n",
       "      <td>https://www.legislation.gov.au/Details/C2018C0...</td>\n",
       "    </tr>\n",
       "    <tr>\n",
       "      <th>2</th>\n",
       "      <td>\\n   Immigration (Guardianship of Children) Ac...</td>\n",
       "      <td>Immigration (Guardianship of Children) Act 1946</td>\n",
       "      <td>https://www.legislation.gov.au/Details/C2016C0...</td>\n",
       "    </tr>\n",
       "    <tr>\n",
       "      <th>3</th>\n",
       "      <td>\\n   Air Navigation Act 1920 No.50, 1920 Compi...</td>\n",
       "      <td>Air Navigation Act 1920</td>\n",
       "      <td>https://www.legislation.gov.au/Details/C2016C0...</td>\n",
       "    </tr>\n",
       "    <tr>\n",
       "      <th>4</th>\n",
       "      <td>\\n   Telstra Corporation Act 1991 No.79, 1991 ...</td>\n",
       "      <td>Telstra Corporation Act 1991</td>\n",
       "      <td>https://www.legislation.gov.au/Details/C2022C0...</td>\n",
       "    </tr>\n",
       "  </tbody>\n",
       "</table>\n",
       "</div>"
      ],
      "text/plain": [
       "                                                text   \n",
       "0  \\n   Cocos (Keeling) Islands Act 1955 No.34, 1...  \\\n",
       "1  \\n   CSL Sale Act 1993 No.88, 1993 Compilation...   \n",
       "2  \\n   Immigration (Guardianship of Children) Ac...   \n",
       "3  \\n   Air Navigation Act 1920 No.50, 1920 Compi...   \n",
       "4  \\n   Telstra Corporation Act 1991 No.79, 1991 ...   \n",
       "\n",
       "                                             title   \n",
       "0                 Cocos (Keeling) Islands Act 1955  \\\n",
       "1                                CSL Sale Act 1993   \n",
       "2  Immigration (Guardianship of Children) Act 1946   \n",
       "3                          Air Navigation Act 1920   \n",
       "4                     Telstra Corporation Act 1991   \n",
       "\n",
       "                                                 url  \n",
       "0  https://www.legislation.gov.au/Details/C2021C0...  \n",
       "1  https://www.legislation.gov.au/Details/C2018C0...  \n",
       "2  https://www.legislation.gov.au/Details/C2016C0...  \n",
       "3  https://www.legislation.gov.au/Details/C2016C0...  \n",
       "4  https://www.legislation.gov.au/Details/C2022C0...  "
      ]
     },
     "execution_count": 2,
     "metadata": {},
     "output_type": "execute_result"
    }
   ],
   "source": [
    "df = load_legislation()\n",
    "df.head()"
   ]
  },
  {
   "cell_type": "code",
   "execution_count": 10,
   "metadata": {},
   "outputs": [
    {
     "data": {
      "text/html": [
       "<div>\n",
       "<style scoped>\n",
       "    .dataframe tbody tr th:only-of-type {\n",
       "        vertical-align: middle;\n",
       "    }\n",
       "\n",
       "    .dataframe tbody tr th {\n",
       "        vertical-align: top;\n",
       "    }\n",
       "\n",
       "    .dataframe thead th {\n",
       "        text-align: right;\n",
       "    }\n",
       "</style>\n",
       "<table border=\"1\" class=\"dataframe\">\n",
       "  <thead>\n",
       "    <tr style=\"text-align: right;\">\n",
       "      <th></th>\n",
       "      <th>text</th>\n",
       "      <th>title</th>\n",
       "      <th>url</th>\n",
       "      <th>char_count</th>\n",
       "    </tr>\n",
       "  </thead>\n",
       "  <tbody>\n",
       "    <tr>\n",
       "      <th>0</th>\n",
       "      <td>Cocos (Keeling) Islands Act 1955 No.34, 1955 C...</td>\n",
       "      <td>Cocos (Keeling) Islands Act 1955</td>\n",
       "      <td>https://www.legislation.gov.au/Details/C2021C0...</td>\n",
       "      <td>85149</td>\n",
       "    </tr>\n",
       "    <tr>\n",
       "      <th>1</th>\n",
       "      <td>CSL Sale Act 1993 No.88, 1993 Compilation No.7...</td>\n",
       "      <td>CSL Sale Act 1993</td>\n",
       "      <td>https://www.legislation.gov.au/Details/C2018C0...</td>\n",
       "      <td>44602</td>\n",
       "    </tr>\n",
       "    <tr>\n",
       "      <th>2</th>\n",
       "      <td>Immigration (Guardianship of Children) Act 194...</td>\n",
       "      <td>Immigration (Guardianship of Children) Act 1946</td>\n",
       "      <td>https://www.legislation.gov.au/Details/C2016C0...</td>\n",
       "      <td>27553</td>\n",
       "    </tr>\n",
       "    <tr>\n",
       "      <th>3</th>\n",
       "      <td>Air Navigation Act 1920 No.50, 1920 Compilatio...</td>\n",
       "      <td>Air Navigation Act 1920</td>\n",
       "      <td>https://www.legislation.gov.au/Details/C2016C0...</td>\n",
       "      <td>208660</td>\n",
       "    </tr>\n",
       "    <tr>\n",
       "      <th>4</th>\n",
       "      <td>Telstra Corporation Act 1991 No.79, 1991 Compi...</td>\n",
       "      <td>Telstra Corporation Act 1991</td>\n",
       "      <td>https://www.legislation.gov.au/Details/C2022C0...</td>\n",
       "      <td>167989</td>\n",
       "    </tr>\n",
       "  </tbody>\n",
       "</table>\n",
       "</div>"
      ],
      "text/plain": [
       "                                                text   \n",
       "0  Cocos (Keeling) Islands Act 1955 No.34, 1955 C...  \\\n",
       "1  CSL Sale Act 1993 No.88, 1993 Compilation No.7...   \n",
       "2  Immigration (Guardianship of Children) Act 194...   \n",
       "3  Air Navigation Act 1920 No.50, 1920 Compilatio...   \n",
       "4  Telstra Corporation Act 1991 No.79, 1991 Compi...   \n",
       "\n",
       "                                             title   \n",
       "0                 Cocos (Keeling) Islands Act 1955  \\\n",
       "1                                CSL Sale Act 1993   \n",
       "2  Immigration (Guardianship of Children) Act 1946   \n",
       "3                          Air Navigation Act 1920   \n",
       "4                     Telstra Corporation Act 1991   \n",
       "\n",
       "                                                 url  char_count  \n",
       "0  https://www.legislation.gov.au/Details/C2021C0...       85149  \n",
       "1  https://www.legislation.gov.au/Details/C2018C0...       44602  \n",
       "2  https://www.legislation.gov.au/Details/C2016C0...       27553  \n",
       "3  https://www.legislation.gov.au/Details/C2016C0...      208660  \n",
       "4  https://www.legislation.gov.au/Details/C2022C0...      167989  "
      ]
     },
     "execution_count": 10,
     "metadata": {},
     "output_type": "execute_result"
    }
   ],
   "source": [
    "# Remove the initial ‘\\n ‘ at the start of each value in the ‘text’ column\n",
    "df[\"text\"] = df[\"text\"].str.lstrip(\"\\n \")\n",
    "df.head()"
   ]
  },
  {
   "cell_type": "code",
   "execution_count": 4,
   "metadata": {},
   "outputs": [],
   "source": [
    "df.to_csv(\"legislation.csv\", index=False)"
   ]
  },
  {
   "cell_type": "code",
   "execution_count": 5,
   "metadata": {},
   "outputs": [
    {
     "name": "stdout",
     "output_type": "stream",
     "text": [
      "Average character count:  100893.05049668874\n"
     ]
    }
   ],
   "source": [
    "# Calculate the average number of characters for each value in the ‘text’ column\n",
    "df[\"char_count\"] = df[\"text\"].apply(lambda x: len(x))\n",
    "average_char_count = df[\"char_count\"].mean()\n",
    "print(\"Average character count: \", average_char_count)"
   ]
  },
  {
   "cell_type": "code",
   "execution_count": 8,
   "metadata": {},
   "outputs": [
    {
     "data": {
      "text/plain": [
       "75669.78787251655"
      ]
     },
     "execution_count": 8,
     "metadata": {},
     "output_type": "execute_result"
    }
   ],
   "source": [
    "average_token_count = average_char_count / 4 * 3\n",
    "average_token_count"
   ]
  },
  {
   "cell_type": "code",
   "execution_count": 9,
   "metadata": {},
   "outputs": [
    {
     "data": {
      "text/plain": [
       "91409103.75"
      ]
     },
     "execution_count": 9,
     "metadata": {},
     "output_type": "execute_result"
    }
   ],
   "source": [
    "total_char_count = df[\"char_count\"].sum() / 4 * 3\n",
    "\n",
    "total_char_count"
   ]
  },
  {
   "cell_type": "code",
   "execution_count": 11,
   "metadata": {},
   "outputs": [],
   "source": [
    "# Define the function to split text into chunks with overlap\n",
    "def split_text(text, limit, overlap):\n",
    "    return [text[i: i + limit] for i in range(0, len(text), limit - overlap)]"
   ]
  },
  {
   "cell_type": "code",
   "execution_count": 12,
   "metadata": {},
   "outputs": [],
   "source": [
    "# Create a copy of original dataframe\n",
    "df_new = df.copy()\n",
    "\n",
    "# Apply this function to the text column\n",
    "df_new['text_chunks'] = df_new['text'].apply(lambda x: split_text(x, 96, 20))\n",
    "\n",
    "# Explode the new column to create a new row for each chunk\n",
    "df_new = df_new.explode('text_chunks')\n",
    "\n",
    "# Replace 'text' column with the chunks\n",
    "df_new['text'] = df_new['text_chunks']\n",
    "\n",
    "# Drop the unnecessary 'text_chunks' column\n",
    "df_new = df_new.drop(columns=['text_chunks'])\n",
    "\n",
    "# Add new 'char_count' column for each chunk\n",
    "df_new['char_count'] = df_new['text'].apply(len)"
   ]
  },
  {
   "cell_type": "code",
   "execution_count": 13,
   "metadata": {},
   "outputs": [
    {
     "data": {
      "text/html": [
       "<div>\n",
       "<style scoped>\n",
       "    .dataframe tbody tr th:only-of-type {\n",
       "        vertical-align: middle;\n",
       "    }\n",
       "\n",
       "    .dataframe tbody tr th {\n",
       "        vertical-align: top;\n",
       "    }\n",
       "\n",
       "    .dataframe thead th {\n",
       "        text-align: right;\n",
       "    }\n",
       "</style>\n",
       "<table border=\"1\" class=\"dataframe\">\n",
       "  <thead>\n",
       "    <tr style=\"text-align: right;\">\n",
       "      <th></th>\n",
       "      <th>text</th>\n",
       "      <th>title</th>\n",
       "      <th>url</th>\n",
       "      <th>char_count</th>\n",
       "    </tr>\n",
       "  </thead>\n",
       "  <tbody>\n",
       "    <tr>\n",
       "      <th>0</th>\n",
       "      <td>Cocos (Keeling) Islands Act 1955 No.34, 1955 C...</td>\n",
       "      <td>Cocos (Keeling) Islands Act 1955</td>\n",
       "      <td>https://www.legislation.gov.au/Details/C2021C0...</td>\n",
       "      <td>96</td>\n",
       "    </tr>\n",
       "    <tr>\n",
       "      <th>0</th>\n",
       "      <td>ate: 18 December 2020 Includes amendments up t...</td>\n",
       "      <td>Cocos (Keeling) Islands Act 1955</td>\n",
       "      <td>https://www.legislation.gov.au/Details/C2021C0...</td>\n",
       "      <td>96</td>\n",
       "    </tr>\n",
       "    <tr>\n",
       "      <th>0</th>\n",
       "      <td>d: 9 February 2021 About this compilation This...</td>\n",
       "      <td>Cocos (Keeling) Islands Act 1955</td>\n",
       "      <td>https://www.legislation.gov.au/Details/C2021C0...</td>\n",
       "      <td>96</td>\n",
       "    </tr>\n",
       "    <tr>\n",
       "      <th>0</th>\n",
       "      <td>tion of the Cocos (Keeling) Islands Act 1955 t...</td>\n",
       "      <td>Cocos (Keeling) Islands Act 1955</td>\n",
       "      <td>https://www.legislation.gov.au/Details/C2021C0...</td>\n",
       "      <td>96</td>\n",
       "    </tr>\n",
       "    <tr>\n",
       "      <th>0</th>\n",
       "      <td>as amended and in force on 18 December 2020 (t...</td>\n",
       "      <td>Cocos (Keeling) Islands Act 1955</td>\n",
       "      <td>https://www.legislation.gov.au/Details/C2021C0...</td>\n",
       "      <td>96</td>\n",
       "    </tr>\n",
       "  </tbody>\n",
       "</table>\n",
       "</div>"
      ],
      "text/plain": [
       "                                                text   \n",
       "0  Cocos (Keeling) Islands Act 1955 No.34, 1955 C...  \\\n",
       "0  ate: 18 December 2020 Includes amendments up t...   \n",
       "0  d: 9 February 2021 About this compilation This...   \n",
       "0  tion of the Cocos (Keeling) Islands Act 1955 t...   \n",
       "0  as amended and in force on 18 December 2020 (t...   \n",
       "\n",
       "                              title   \n",
       "0  Cocos (Keeling) Islands Act 1955  \\\n",
       "0  Cocos (Keeling) Islands Act 1955   \n",
       "0  Cocos (Keeling) Islands Act 1955   \n",
       "0  Cocos (Keeling) Islands Act 1955   \n",
       "0  Cocos (Keeling) Islands Act 1955   \n",
       "\n",
       "                                                 url  char_count  \n",
       "0  https://www.legislation.gov.au/Details/C2021C0...          96  \n",
       "0  https://www.legislation.gov.au/Details/C2021C0...          96  \n",
       "0  https://www.legislation.gov.au/Details/C2021C0...          96  \n",
       "0  https://www.legislation.gov.au/Details/C2021C0...          96  \n",
       "0  https://www.legislation.gov.au/Details/C2021C0...          96  "
      ]
     },
     "execution_count": 13,
     "metadata": {},
     "output_type": "execute_result"
    }
   ],
   "source": [
    "df_new.head()"
   ]
  },
  {
   "cell_type": "code",
   "execution_count": 14,
   "metadata": {},
   "outputs": [
    {
     "data": {
      "text/plain": [
       "(1604255, 4)"
      ]
     },
     "execution_count": 14,
     "metadata": {},
     "output_type": "execute_result"
    }
   ],
   "source": [
    "df_new.shape"
   ]
  },
  {
   "cell_type": "code",
   "execution_count": 15,
   "metadata": {},
   "outputs": [],
   "source": [
    "df_new.to_csv(\"legislation_96char_chunks.csv\", index=False)"
   ]
  },
  {
   "cell_type": "code",
   "execution_count": null,
   "metadata": {},
   "outputs": [],
   "source": [
    "from langchain.schema import Document\n",
    "\n",
    "\n",
    "def create_document(row):\n",
    "    page_content = row['text']\n",
    "    metadata = {\n",
    "        'source': row['url'],\n",
    "        'title': row['title'],\n",
    "    }\n",
    "    return Document(page_content=page_content, metadata=metadata)\n",
    "\n",
    "\n",
    "documents = df_new.apply(create_document, axis=1).tolist()\n",
    "len(documents)"
   ]
  },
  {
   "cell_type": "code",
   "execution_count": 1,
   "metadata": {},
   "outputs": [],
   "source": [
    "from bs4 import BeautifulSoup\n",
    "import pandas as pd\n",
    "\n",
    "df = pd.read_csv(\"legislation.csv\")"
   ]
  },
  {
   "cell_type": "code",
   "execution_count": 2,
   "metadata": {},
   "outputs": [
    {
     "data": {
      "text/html": [
       "<div>\n",
       "<style scoped>\n",
       "    .dataframe tbody tr th:only-of-type {\n",
       "        vertical-align: middle;\n",
       "    }\n",
       "\n",
       "    .dataframe tbody tr th {\n",
       "        vertical-align: top;\n",
       "    }\n",
       "\n",
       "    .dataframe thead th {\n",
       "        text-align: right;\n",
       "    }\n",
       "</style>\n",
       "<table border=\"1\" class=\"dataframe\">\n",
       "  <thead>\n",
       "    <tr style=\"text-align: right;\">\n",
       "      <th></th>\n",
       "      <th>text</th>\n",
       "      <th>title</th>\n",
       "      <th>url</th>\n",
       "    </tr>\n",
       "  </thead>\n",
       "  <tbody>\n",
       "    <tr>\n",
       "      <th>0</th>\n",
       "      <td>Cocos (Keeling) Islands Act 1955 No.34, 1955 C...</td>\n",
       "      <td>Cocos (Keeling) Islands Act 1955</td>\n",
       "      <td>https://www.legislation.gov.au/Details/C2021C0...</td>\n",
       "    </tr>\n",
       "    <tr>\n",
       "      <th>1</th>\n",
       "      <td>CSL Sale Act 1993 No.88, 1993 Compilation No.7...</td>\n",
       "      <td>CSL Sale Act 1993</td>\n",
       "      <td>https://www.legislation.gov.au/Details/C2018C0...</td>\n",
       "    </tr>\n",
       "    <tr>\n",
       "      <th>2</th>\n",
       "      <td>Immigration (Guardianship of Children) Act 194...</td>\n",
       "      <td>Immigration (Guardianship of Children) Act 1946</td>\n",
       "      <td>https://www.legislation.gov.au/Details/C2016C0...</td>\n",
       "    </tr>\n",
       "    <tr>\n",
       "      <th>3</th>\n",
       "      <td>Air Navigation Act 1920 No.50, 1920 Compilatio...</td>\n",
       "      <td>Air Navigation Act 1920</td>\n",
       "      <td>https://www.legislation.gov.au/Details/C2016C0...</td>\n",
       "    </tr>\n",
       "    <tr>\n",
       "      <th>4</th>\n",
       "      <td>Telstra Corporation Act 1991 No.79, 1991 Compi...</td>\n",
       "      <td>Telstra Corporation Act 1991</td>\n",
       "      <td>https://www.legislation.gov.au/Details/C2022C0...</td>\n",
       "    </tr>\n",
       "  </tbody>\n",
       "</table>\n",
       "</div>"
      ],
      "text/plain": [
       "                                                text   \n",
       "0  Cocos (Keeling) Islands Act 1955 No.34, 1955 C...  \\\n",
       "1  CSL Sale Act 1993 No.88, 1993 Compilation No.7...   \n",
       "2  Immigration (Guardianship of Children) Act 194...   \n",
       "3  Air Navigation Act 1920 No.50, 1920 Compilatio...   \n",
       "4  Telstra Corporation Act 1991 No.79, 1991 Compi...   \n",
       "\n",
       "                                             title   \n",
       "0                 Cocos (Keeling) Islands Act 1955  \\\n",
       "1                                CSL Sale Act 1993   \n",
       "2  Immigration (Guardianship of Children) Act 1946   \n",
       "3                          Air Navigation Act 1920   \n",
       "4                     Telstra Corporation Act 1991   \n",
       "\n",
       "                                                 url  \n",
       "0  https://www.legislation.gov.au/Details/C2021C0...  \n",
       "1  https://www.legislation.gov.au/Details/C2018C0...  \n",
       "2  https://www.legislation.gov.au/Details/C2016C0...  \n",
       "3  https://www.legislation.gov.au/Details/C2016C0...  \n",
       "4  https://www.legislation.gov.au/Details/C2022C0...  "
      ]
     },
     "execution_count": 2,
     "metadata": {},
     "output_type": "execute_result"
    }
   ],
   "source": [
    "df.head()"
   ]
  },
  {
   "cell_type": "code",
   "execution_count": 46,
   "metadata": {},
   "outputs": [],
   "source": [
    "with open ('output.txt') as f:\n",
    "    text = f.read()"
   ]
  },
  {
   "cell_type": "code",
   "execution_count": 47,
   "metadata": {},
   "outputs": [
    {
     "data": {
      "text/plain": [
       "24"
      ]
     },
     "execution_count": 47,
     "metadata": {},
     "output_type": "execute_result"
    }
   ],
   "source": [
    "from langchain.text_splitter import RecursiveCharacterTextSplitter\n",
    "\n",
    "texts = RecursiveCharacterTextSplitter().split_text(text)\n",
    "len(texts)"
   ]
  },
  {
   "cell_type": "code",
   "execution_count": 48,
   "metadata": {},
   "outputs": [
    {
     "data": {
      "text/plain": [
       "24"
      ]
     },
     "execution_count": 48,
     "metadata": {},
     "output_type": "execute_result"
    }
   ],
   "source": [
    "from langchain.docstore.document import Document\n",
    "\n",
    "docs = [Document(page_content=t) for t in texts]\n",
    "len(docs)"
   ]
  },
  {
   "cell_type": "code",
   "execution_count": 49,
   "metadata": {},
   "outputs": [
    {
     "data": {
      "text/plain": [
       "' This case examines the complexities of the concept of \"break and entry\" as established in historical circumstances, and how it applies to contemporary society. The appellant was charged with breaking and entering a dwelling house and committing a serious indictable offence. The Court of Criminal Appeal found that an entry into a dwelling-house effected pursuant to a contractual right will involve a \"break\" if made without the consent of the \"actual occupant\". The Crown argued that the appellant\\'s conduct did not constitute a trespass, as he had a right of exclusive possession from a residential tenancy agreement. The Court of Criminal Appeal expressed concern that the lesser offences to which the appellant entered pleas of guilty did not take into account the fact that the conduct took place in the complainant\\'s home, which is the rationale of the offence in s.112. The appeal was allowed and the appellant was found not guilty.'"
      ]
     },
     "execution_count": 49,
     "metadata": {},
     "output_type": "execute_result"
    }
   ],
   "source": [
    "from langchain.chains.summarize import load_summarize_chain\n",
    "from langchain.llms import OpenAI\n",
    "\n",
    "\n",
    "llm = OpenAI(temperature=0)\n",
    "chain = load_summarize_chain(llm, chain_type=\"map_reduce\")\n",
    "chain.run(docs)"
   ]
  },
  {
   "cell_type": "code",
   "execution_count": 50,
   "metadata": {},
   "outputs": [],
   "source": [
    "from langchain.vectorstores import FAISS\n",
    "from langchain.embeddings import HuggingFaceEmbeddings\n",
    "\n",
    "embeddings = HuggingFaceEmbeddings(model_name=\"sentence-transformers/all-MiniLM-L6-v2\")\n",
    "\n",
    "vectorstore = FAISS.from_documents(docs, embedding=embeddings)"
   ]
  },
  {
   "cell_type": "code",
   "execution_count": 51,
   "metadata": {},
   "outputs": [
    {
     "data": {
      "text/plain": [
       "[Document(page_content='4.  The trial was conducted in the District Court of New South Wales by\\n    Williams\\xa0SC\\xa0DCJ without a jury. Williams\\xa0SC\\xa0DCJ found that the Crown\\n    had not established an essential precondition to liability for the\\n    offence under s\\xa0112 and directed a verdict of not guilty.\\n    Williams\\xa0SC\\xa0DCJ made no finding (as his Honour was not required to\\n    do so) as to the appellant\\\\\\'s intent or purpose at the time of entry\\n    into the apartment. His Honour accepted the appellant\\\\\\'s argument\\n    that, because he was a tenant of the apartment at the time of the\\n    alleged offence, he had a right to enter and could not be guilty of\\n    breaking into his own premises. His Honour found that there was \\\\\"no\\n    doubt that the tenancy agreement granted to the complainant and the\\n    accused a right of occupation at the relevant time\\\\\". As appears\\n    below, the Crown sought to contest the scope of the appellant\\\\\\'s\\n    right of occupation for the first time at the hearing of the appeal\\n    to this Court.\\n\\n5.  The Crown\\\\\\'s case was neutral as to whether or not, as a matter of\\n    fact, the appellant could be said to have been in occupation of the\\n    apartment on 8 July 2019. The appellant\\\\\\'s application for a verdict\\n    by direction was made on the basis that the Crown had failed to\\n    prove the absence of a right to enter the Queanbeyan apartment as an\\n    essential precondition of the offence. The Crown opposed the\\n    application upon the basis that it was irrelevant to the offence\\n    whether the appellant had permission to enter the apartment. The\\n    Crown never alleged that the appellant, as a matter of fact, was not\\n    in occupation of the apartment. That allegation, even if raised in\\n    this Court (which it properly was not), could not be entertained for\\n    the first time on a final appeal in a criminal case.\\n\\n```{=html}\\n<!-- -->\\n```\\n1.  **Reasons of the Court of Criminal Appeal and the appeal to this\\n    Court**\\n\\n```{=html}\\n<!-- -->\\n```\\n1.  The Crown appealed to the Court of Criminal Appeal of the Supreme\\n    Court of New South Wales pursuant to s\\xa0107 of the *Crimes (Appeal\\n    and Review) Act 2001 *(NSW), which permitted an appeal against the\\n    appellant\\\\\\'s acquittal by the trial judge on any ground that\\n    involved a question of law alone. The relevant question of law was:\\n\\n\\\\\"Whether his Honour erred in determining that, as a pre-condition of\\nthe element of \\\\\\'breaking\\\\\\' in an offence pursuant to s\\xa0112(2) *Crimes\\nAct 1900*, the prosecution was required to establish that an accused\\nperson did not have a pre-existing right to enter the subject dwelling\\nhouse, notwithstanding that entry was effected by an actual breaking\\ninvolving force.\\\\\"\\n\\n1.  The Crown did not contest the trial judge\\\\\\'s finding that the\\n    complainant and the appellant had a right of occupation of the\\n    Queanbeyan apartment at the time of the alleged offence. The appeal\\n    proceeded upon the basis that the appellant had a right of\\n    occupation or a right of possession of the Queanbeyan apartment at\\n    the time of the alleged offence[^36], although the Crown argued that\\n    the relevant right was qualified by s\\xa051(1)(d) of the RT Act[^37].\\n\\n2.  Brereton\\xa0JA concluded that an entry into a dwelling‑house effected\\n    pursuant to a contractual right (such as a right of occupation\\n    granted by a residential tenancy agreement) will nonetheless involve\\n    a \\\\\"break\\\\\" if made without the consent of the \\\\\"actual\\n    occupant\\\\\"[^38]. Fullerton\\xa0J held that such an entry involves a\\n    \\\\\"break\\\\\" if made without the permission of \\\\\"those either in\\n    occupation of the premises or those entitled to occupy those\\n    premises\\\\\"[^39]. Adamson\\xa0J found that the entry was in breach of\\n    s\\xa051(1)(d) of the RT Act and involved a \\\\\"break\\\\\"[^40].', metadata={}),\n",
       " Document(page_content='2.  The Crown accepted that the residential tenancy agreement to which\\n    the appellant was a party conferred a right of exclusive possession\\n    upon the appellant and, accordingly, was a lease under the general\\n    law. Subject to the terms of the RT\\xa0Act, this concession by the\\n    Crown necessarily means that the appellant was not a trespasser when\\n    he entered the premises. No person had a superior right to immediate\\n    possession of the premises. Neither the complainant, as\\n    co‑tenant[^88], nor the landlord, could exclude the appellant from\\n    the premises or bring an action for trespass against the appellant\\n    upon his exercising his liberty to enter the premises.\\n\\n3.  There is no doubt that the acts of the appellant, if done by a\\n    person who did not have a liberty or authority to enter the\\n    Queanbeyan apartment, would have involved conduct amounting to the\\n    offence in s\\xa0112 of the *Crimes Act*. Another person without liberty\\n    to enter the apartment, who engaged in the appellant\\\\\\'s acts of\\n    breaking the front door and entering the apartment, would be found\\n    to be a person \\\\\"who breaks and enters any dwelling‑house\\\\\". In\\n    light of the conclusion that the appellant had a liberty to enter\\n    the apartment and was not, therefore, a trespasser, the central\\n    question on this appeal is whether that liberty was sufficient to\\n    save the appellant from a conviction for that offence.\\n\\n4.  These legal rules concerning trespass have been developed and\\n    refined over hundreds of years based upon the concept of possession.\\n    Possession is a different legal concept from occupation or\\n    habitation.\\n\\n5.  Whether a person does or does not occupy or inhabit premises are not\\n    necessarily straightforward questions. \\\\\"Occupation\\\\\" is a word with\\n    different meanings in different contexts[^89]. In ordinary usage, a\\n    person would not be described as \\\\\"occupying\\\\\" a holiday property\\n    that they own but are not inhabiting. A furnished apartment rented\\n    to tourists but intermittently empty would not be described as\\n    \\\\\"occupied\\\\\". But, in law, \\\\\"occupation\\\\\" is a term of art used to\\n    mean the exercise of \\\\\"physical control over land\\\\\"[^90]. Even then,\\n    the legal relevance of occupation, or \\\\\"physical possession\\\\\", has\\n    only been as an element which, combined with an intention, can\\n    establish a legal right to possession[^91]. Hence, as Lord\\n    Browne-Wilkinson said in the leading speech in *J A Pye (Oxford) Ltd\\n    v Graham*[^92]:\\n\\n\\\\\"there has always, both in Roman law and in common law, been a\\nrequirement to show an intention to possess in addition to objective\\nacts of physical possession \\\\... Suppose a case where A is found to be\\nin occupation of a locked house. He may be there as a squatter, as an\\novernight trespasser, or as a friend looking after the house of the\\npaper owner during his absence on holiday. The acts done by A in any\\ngiven period do not tell you whether there is legal possession. If A is\\nthere as a squatter he intends to stay as long as he can for his own\\nbenefit: his intention is an intention to possess. But if he only\\nintends to trespass for the night or has expressly agreed to look after\\nthe house for his friend he does not have possession. It is not the\\nnature of the acts which A does but the intention with which he does\\nthem which determines whether or not he is in possession.\\\\\"', metadata={}),\n",
       " Document(page_content='\\\\(a\\\\) breaks and enters any dwelling‑house or other building and commits\\nany serious indictable offence therein \\\\...\\n\\nis guilty of an offence and liable to imprisonment for 14 years.\\n\\n\\\\(2\\\\) **Aggravated offence** A person is guilty of an offence under this\\nsubsection if the person commits an offence under subsection (1) in\\ncircumstances of aggravation. A person convicted of an offence under\\nthis subsection is liable to imprisonment for 20 years.\\\\\"\\n\\n1.  The appellant and the complainant, his former partner, were\\n    co‑tenants of an apartment in Queanbeyan subject to a residential\\n    tenancy agreement under the *Residential Tenancies Act* *2010* (NSW)\\n    (\\\\\"the\\xa0RT Act\\\\\"). They separated and the appellant moved out. While\\n    still a co‑tenant at law, the appellant attended the apartment and\\n    demanded to be let in. The complainant refused him access. The\\n    appellant kicked in the door, damaging the doorframe, and\\n    intimidated and assaulted the complainant. Having been acquitted of\\n    the offence under s\\xa0112(2), the appellant eventually pleaded guilty\\n    to common assault, intimidation and destruction of property.\\n\\n2.  The question raised by this appeal is: for the purposes of s\\xa0112 of\\n    the *Crimes Act*, did the appellant commit a \\\\\"break\\\\[\\\\] and\\n    enter\\\\[\\\\]\\\\\"? The answer is \\\\\"no\\\\\", and the appeal should be allowed.\\n\\n3.  The case is to be decided by an analysis of the common law and\\n    legislative history, and their interactions with long‑standing\\n    concepts in property law and the relevant residential tenancy law.\\n    The appeal presents four interrelated issues. The first and central\\n    issue is whether, for the purposes of s\\xa0112 of the *Crimes Act*, a\\n    person \\\\\"who breaks and enters any dwelling‑house\\\\\" must be a\\n    trespasser, that is, whether the offence may only be committed by a\\n    person who enters a premises without lawful authority[^34]. The\\n    second, third and fourth issues are all, in effect, alternative\\n    contentions focused upon rights conferred and obligations imposed on\\n    a tenant under the RT Act.\\n\\n4.  The second issue, related to the first, is whether such lawful\\n    authority to enter a premises is removed where the entry is made\\n    without the consent of the present occupant. The third and fourth\\n    issues concern whether certain provisions of the RT Act somehow\\n    condition a tenant\\\\\\'s lawful authority to enter a premises. The\\n    third issue, raised by the Crown in oral argument, is whether entry\\n    into a residential premises under a \\\\\"right of occupation\\\\\" granted\\n    under a residential tenancy agreement is conditional upon the\\n    tenant\\\\\\'s purpose being to use the premises as a residence. That\\n    issue was framed as whether, where a tenant\\\\\\'s purpose of entry is\\n    other than to use the premises as a residence -- such as a purpose\\n    of assaulting an occupant inside the premises -- the tenant no\\n    longer has any legal entitlement to be on those premises. The fourth\\n    issue, raised by the Crown\\\\\\'s notice of contention, is whether a\\n    tenant\\\\\\'s right to enter a premises is qualified by the operation of\\n    s\\xa051(1)(d) of the RT Act, which prohibits a tenant from\\n    \\\\\"intentionally or negligently caus\\\\[ing\\\\] or permit\\\\[ting\\\\] any\\n    damage to the residential premises\\\\\".', metadata={}),\n",
       " Document(page_content='3.  Brereton\\xa0JA and Adamson\\xa0J expressed concern that the lesser offences\\n    to which the appellant entered pleas of guilty did not represent the\\n    total criminality of the alleged offending[^41]. Brereton\\xa0JA\\n    observed that those offences did not take into account that the\\n    appellant\\\\\\'s conduct took place in the complainant\\\\\\'s home, \\\\\"in\\n    which she was entitled to feel secure, the assurance of that sense\\n    of security being the very rationale of the offence in s\\xa0112\\\\\"[^42].\\n    His Honour cited[^43] Leeming\\xa0JA\\\\\\'s statement in *Ghamrawi v The\\n    Queen *that the principle underlying the offences in Div\\xa04 of Pt\\xa04\\n    of the *Crimes Act*, including s\\xa0112, \\\\\"is that criminality is more\\n    serious if it takes place in a victim\\\\\\'s home into which the\\n    offender has broken without permission\\\\\"[^44].\\n\\n4.  On the appeal to this Court, the appellant\\\\\\'s case was that in the\\n    absence of any trespass by him the Crown could not prove the element\\n    of \\\\\"breaks\\\\\" for the purpose of the s\\xa0112 offence. The appellant\\n    argued that irrespective of the consent of his co‑tenant, of any\\n    purpose he had in seeking to enter the premises, and of any force\\n    used by him, he was not capable of committing a trespass because he\\n    had a liberty to enter the Queanbeyan apartment associated with his\\n    right of exclusive possession arising from the residential tenancy\\n    agreement which granted a \\\\\"right of occupation\\\\\"[^45].\\n\\n5.  The Crown ultimately did not seek to defend the totality of the\\n    reasons of any of the judges of the Court of Criminal Appeal. As\\n    explained below, the Crown was correct not to attempt that task.\\n    Instead, the Crown put different arguments but ones which must also\\n    fail.\\n\\n```{=html}\\n<!-- -->\\n```\\n1.  **First issue: \\\\\"breaking and entering\\\\\" in s\\xa0112 of the Crimes Act\\n    requires trespass **\\n\\n```{=html}\\n<!-- -->\\n```\\n1.  Section\\xa0112 is one of seven offences contained in Div\\xa04 of Pt\\xa04 of\\n    the *Crimes Act*, entitled \\\\\"Sacrilege and housebreaking\\\\\". The\\n    offence in s\\xa0112(2) has three elements, requiring a person: to\\n    \\\\\"break\\\\[\\\\] and enter\\\\[\\\\] any dwelling‑house or other building\\\\\"; to\\n    commit a \\\\\"serious indictable offence therein\\\\\"; and in\\n    circumstances of aggravation. \\\\\"Dwelling‑house\\\\\" is defined to\\n    include any building or other structure \\\\\"intended for occupation as\\n    a dwelling and capable of being so occupied, although it has never\\n    been so occupied\\\\\"[^46] and is also further defined such that it\\n    does \\\\\"not cease to be a dwelling‑house by reason only of being\\n    temporarily unoccupied\\\\\"[^47].\\n\\n2.  There was no dispute that the apartment was a \\\\\"dwelling‑house\\\\\".\\n    There was also no dispute that the appellant committed a \\\\\"serious\\n    indictable offence therein\\\\\" in circumstances of aggravation. The\\n    focus of this appeal was upon the word \\\\\"break\\\\\". That word is not\\n    defined in the *Crimes Act*, but it was, properly, common ground on\\n    this appeal that the provisions of Div\\xa04 of Pt\\xa04 of the *Crimes\\n    Act*, including the word \\\\\"break\\\\\",* *were to be interpreted in\\n    light of their lengthy legislative histories and judicial\\n    interpretation of the predecessor provisions[^48].\\n\\n```{=html}\\n<!-- -->\\n```\\n1.  ***The meaning of \\\\\"breaks and enters\\\\\" in s**\\xa0**112***\\n\\n```{=html}\\n<!-- -->\\n```\\n1.  Section\\xa0112 has a long legislative history, recorded by Leeming\\xa0JA\\n    in *Ghamrawi*[^49], and commencing in New South Wales with the\\n    incorporation into New South Wales law by the *Imperial Criminal\\n    Acts Adoption Act 1828 *(NSW) (9 Geo 4 No 1)* *of the *Larceny\\n    (England) Act 1827 *(7 & 8 Geo 4 c 29) (\\\\\"the 1827 UK Act\\\\\").* *In\\n    England, the precursor statutory \\\\\"breaking and entering\\\\\" offences\\n    go back at least as far as 1547[^50].', metadata={})]"
      ]
     },
     "execution_count": 51,
     "metadata": {},
     "output_type": "execute_result"
    }
   ],
   "source": [
    "vectorstore.similarity_search(query='What was the appellant charged with?', top_k=5)"
   ]
  },
  {
   "cell_type": "code",
   "execution_count": 56,
   "metadata": {},
   "outputs": [],
   "source": [
    "from langchain import OpenAI\n",
    "from langchain.chains import RetrievalQA\n",
    "\n",
    "chain = RetrievalQA.from_chain_type(OpenAI(temperature=0), chain_type=\"stuff\", retriever=vectorstore.as_retriever())"
   ]
  },
  {
   "cell_type": "code",
   "execution_count": 58,
   "metadata": {},
   "outputs": [
    {
     "data": {
      "text/plain": [
       "{'query': 'What was the appellant charged with?',\n",
       " 'result': ' The appellant was charged with an offence under s 112(2) of the Crimes Act.'}"
      ]
     },
     "execution_count": 58,
     "metadata": {},
     "output_type": "execute_result"
    }
   ],
   "source": [
    "chain({\"query\": \"What was the appellant charged with?\"})"
   ]
  },
  {
   "cell_type": "code",
   "execution_count": 63,
   "metadata": {},
   "outputs": [
    {
     "name": "stdout",
     "output_type": "stream",
     "text": [
      "huggingface/tokenizers: The current process just got forked, after parallelism has already been used. Disabling parallelism to avoid deadlocks...\n",
      "To disable this warning, you can either:\n",
      "\t- Avoid using `tokenizers` before the fork if possible\n",
      "\t- Explicitly set the environment variable TOKENIZERS_PARALLELISM=(true | false)\n",
      "huggingface/tokenizers: The current process just got forked, after parallelism has already been used. Disabling parallelism to avoid deadlocks...\n",
      "To disable this warning, you can either:\n",
      "\t- Avoid using `tokenizers` before the fork if possible\n",
      "\t- Explicitly set the environment variable TOKENIZERS_PARALLELISM=(true | false)\n"
     ]
    }
   ],
   "source": [
    "driver = webdriver.Chrome(\"chromedriver\")\n",
    "# Open the webpage\n",
    "driver.get(\"https://www.austlii.edu.au/cgi-bin/viewdoc/au/cases/cth/HCA/1989/62.html\")\n",
    "\n",
    "# Wait until the page has fully loaded\n",
    "wait = WebDriverWait(driver, 10)"
   ]
  },
  {
   "cell_type": "code",
   "execution_count": 65,
   "metadata": {},
   "outputs": [],
   "source": [
    "html_content = driver.page_source"
   ]
  },
  {
   "cell_type": "code",
   "execution_count": 67,
   "metadata": {},
   "outputs": [],
   "source": [
    "driver.quit()"
   ]
  },
  {
   "cell_type": "code",
   "execution_count": null,
   "metadata": {},
   "outputs": [],
   "source": [
    "\n",
    "# Create a BeautifulSoup object and parse the HTML content\n",
    "soup = BeautifulSoup(html_content, 'html.parser')\n",
    "\n",
    "# Find the <article> element with class=\"the-document\"\n",
    "article_element = soup.find('article', class_='the-document')\n",
    "\n",
    "# Extract the inner HTML of the <article> element using the prettify() method\n",
    "inner_html = article_element.prettify()\n",
    "\n",
    "print(inner_html)"
   ]
  },
  {
   "cell_type": "code",
   "execution_count": 73,
   "metadata": {},
   "outputs": [
    {
     "data": {
      "text/plain": [
       "[Document(page_content='<article class=\"the-document\">\\n <h1>\\n  Chan Yee Kin v Minister for Immigration &amp; Ethnic Affairs [1989] HCA 62; (1989) 169 CLR 379 (9 December 1989)\\n </h1>\\n <!--make_database: source=/home/philip/austlii/db/HCA/data/1989_62.html-->\\n <!--sino date 9 December 1989-->\\n <center>\\n  <h2>\\n   <b>\\n    HIGH COURT OF AUSTRALIA\\n   </b>\\n  </h2>\\n  <p>\\n   CHAN v. MINISTER FOR IMMIGRATION AND ETHNIC AFFAIRS\\n   <a class=\"autolink_findcases_inserted\" href=\"/cgi-bin/viewdoc/au/cases/cth/FCA/1990/364.html\" title=\"View Case\">\\n    [1989] HCA 62\\n   </a>\\n   ; (1989) 169 CLR 379\\n   <br/>\\n   <br/>\\n   F.C. 89/034\\n  </p>\\n  <p>\\n   Immigration - Administrative Law (Cth)\\n  </p>\\n  <p>\\n   High Court of Australia\\n   <br/>\\n   <br/>\\n   Mason C.J.(1), Dawson(2), Toohey(3), Gaudron(4) and McHugh(5) JJ.\\n  </p>\\n  <p>\\n  </p>\\n </center>\\n <p>\\n  <b>\\n   CATCHWORDS\\n  </b>\\n </p>\\n Immigration - Refusal by Minister\\'s delegate of refugee status - Act\\nreferring to status under international Convention and Protocol\\n- Well-founded\\nfear of being persecuted - Persecution - Relevant time for determination -\\n <a class=\"autolink_findacts\" href=\"/cgi-bin/viewdoc/au/legis/cth/consol_act/ma1958118/\">\\n  Migration Act 1958\\n </a>\\n (Cth),s. 6A(1)(c).\\n <p>\\n  Administrative Law (Cth) - Judicial review - Decision under an enactment -\\nConduct engaged in for purpose of making decision -\\nDetermination of status of\\nrefugee - Applicant not holding temporary entry permit - Administration\\nDecisions (Judicial Review) Act\\n1977 (Cth),ss. 3, 6, 13(1) -\\n  <a class=\"autolink_findacts\" href=\"/cgi-bin/viewdoc/au/legis/cth/consol_act/ma1958118/\">\\n   Migration Act\\n1958\\n  </a>\\n  (Cth),s. 6A(1)(c).\\n </p>\\n <p>\\n </p>\\n <p>\\n </p>\\n <p>\\n </p>\\n <p>\\n </p>\\n <p>\\n </p>\\n <p>\\n </p>\\n <p>\\n </p>\\n <p>\\n  <b>\\n   HEARING\\n  </b>\\n </p>\\n 1989, April 6; December 9. 9:12:1989\\n <br/>\\n <br/>\\n APPEAL from the Federal Court of Australia.\\n <p>\\n  <b>\\n   DECISION\\n  </b>\\n </p>\\n MASON C.J.    Subject to the comments which follow, I am in agreement with the\\norders proposed by McHugh J. and with his reasons for\\njudgment.\\n <p>\\n  2.  In the Federal Court the Minister conceded that the delegate\\'s decision\\nwas a decision \"under an enactment\" within the meaning\\nof that expression in\\n  <a class=\"autolink_findacts\" href=\"/cgi-bin/viewdoc/au/legis/cth/consol_act/adra1977396/s5.html\">\\n   s.5\\n  </a>\\n  of the\\n  <a class=\"autolink_findacts\" href=\"/cgi-bin/viewdoc/au/legis/cth/consol_act/adra1977396/\">\\n   Administrative Decisions (Judicial Review) Act 1977\\n  </a>\\n  (Cth) (\"the\\n  <a class=\"autolink_findacts\" href=\"/cgi-bin/viewdoc/au/legis/cth/consol_act/adra1977396/\">\\n   ADJR Act\\n  </a>\\n  \") and that the Federal Court had jurisdiction to entertain an\\napplication for judicial review.  In this Court,\\nMr Callaway Q.C.,\\nfor the\\nMinister, though not attempting to resile from that concession, suggested that\\nbecause Mr Chan was not\\nthe holder of a temporary\\nentry permit there was some\\ndoubt whether the decision was made under s.6A(1)(c) of the\\n  <a class=\"autolink_findacts\" href=\"/cgi-bin/viewdoc/au/legis/cth/consol_act/ma1958118/\">\\n   Migration Act 1958\\n  </a>\\n  (Cth) (\"the\\n  <a class=\"autolink_findacts\" href=\"/cgi-bin/viewdoc/au/legis/cth/consol_act/ma1958118/\">\\n   Act\\n  </a>\\n  \").\\n </p>\\n <p>\\n  3.  Minister for Immigration and Ethnic Affairs v. Mayer\\n  <a class=\"autolink_findcases_inserted\" href=\"/cgi-bin/viewdoc/au/cases/cth/HCA/1985/70.html\" title=\"View Case\">\\n   [1985] HCA 70\\n  </a>\\n  ; (1985) 157 CLR 290\\ndecided that s.6A(1)(c) impliedly confers\\non the Minister\\nthe function of\\ndetermining whether an applicant under\\ns.6A(1)(c) has refugee status and,\\naccordingly, that the Minister\\'s\\ndecision\\nis made \"under an enactment\" so as\\nto be susceptible\\nof review under the\\n  <a class=\"autolink_findacts\" href=\"/cgi-bin/viewdoc/au/legis/cth/consol_act/adra1977396/\">\\n   ADJR Act\\n  </a>\\n  .  In Mayer the respondent held\\na temporary\\nentry\\npermit and his application was for a determination that he\\nhad refugee status. \\nIf he obtained such a determination, he would\\nhave', metadata={}),\n",
       " Document(page_content='v. Peko-Wallsend Ltd.\\n  <a class=\"autolink_findcases_inserted\" href=\"/cgi-bin/viewdoc/au/cases/cth/HCA/1986/40.html\" title=\"View Case\">\\n   [1986] HCA 40\\n  </a>\\n  ; (1986) 162 CLR 24, at p 41.\\n </p>\\n <p>\\n  10.  In deciding that Mr Chan\\'s fear of persecution was not \"well-founded\",\\nthe delegate did not make a finding that since Mr Chan\\nescaped from China the\\nconditions there had so changed or improved that there was little or no\\nlikelihood of persecution on political\\ngrounds.  The delegate appears to have\\naccepted Mr Chan\\'s account of the measures taken and threatened against him by\\nthe authorities\\nand to have regarded as the critical issue the question\\nwhether those measures amounted to persecution or persecution for reasons\\nof\\npolitical opinion or gave rise to a well-founded fear of persecution.\\nAccordingly, the Federal Court was not confronted with the\\nproblem of\\nreviewing a finding of the delegate concerning the state of affairs prevailing\\nin China at the time of Mr Chan\\'s application\\nfor refugee status.\\n </p>\\n <p>\\n  11.  The Convention and the Protocol do not define the words \"being\\npersecuted\" in Art.1A(2).  The delegate was no doubt right in\\nthinking that\\nsome forms of selective or discriminatory treatment by a State of its citizens\\ndo not amount to persecution.  When\\nthe Convention makes provision for the\\nrecognition of the refugee status of a person who is, owing to a well-founded\\nfear of being\\npersecuted for a Convention reason, unwilling to return to the\\ncountry of his nationality, the Convention necessarily contemplates\\nthat there\\nis a real chance that the applicant will suffer some serious punishment or\\npenalty or some significant detriment or disadvantage\\nif he returns.\\nObviously harm or the threat of harm as part of a course of selective\\nharassment of a person, whether individually\\nor as a member of a group\\nsubjected to such harassment by reason of membership of the group, amounts to\\npersecution if done for a\\nConvention reason. The denial of fundamental rights\\nor freedoms otherwise enjoyed by nationals of the country concerned may\\nconstitute\\nsuch harm, although I would not wish to express an opinion on the\\nquestion whether any deprivation of a freedom traditionally guaranteed\\nin a\\ndemocratic society would constitute persecution if undertaken for a Convention\\nreason.\\n </p>\\n <p>\\n  12.  I agree with the conclusion reached by McHugh J. that a fear of\\npersecution is \"well-founded\" if there is a real chance that\\nthe refugee will\\nbe persecuted if he returns to his country of nationality.  This\\ninterpretation accords with the decision of the\\nHouse of Lords in Reg. v. Home\\nSecretary; Ex parte Sivakumaran\\n  <a class=\"autolink_findcases\" href=\"http://www.bailii.org/uk/cases/UKHL/1987/1.html\" title=\"View Case\">\\n   [1987] UKHL 1\\n  </a>\\n  ;  (1988) AC 958.  There Lord Keith of Kinkel\\nspoke (at\\np 994) of the\\nneed for an applicant to demonstrate \"a reasonable\\ndegree of\\nlikelihood that he will be persecuted for a Convention\\nreason if\\nreturned\\nto his own country\" and Lord Goff of Chieveley spoke (at\\np 1000) of\\n\"a real and substantial risk of persecution\".\\n Lord Bridge of\\nHarwich, Lord\\nTempleman and Lord Griffiths agreed with Lord\\nKeith and Lord Goff.  A similar\\nopinion was expressed\\nby the Supreme\\nCourt of the United States in Immigration\\nand Naturalization\\nService v. Cardoza-Fonseca\\n  <a class=\"autolink_findcases_inserted\" href=\"http://www.worldlii.org/us/cases/federal/USSC/1987/32.html\" title=\"View Case\">\\n   [1987] USSC 32\\n  </a>\\n  ; (1987) 94 L Ed 2d 434 where\\nStevens J., with\\nreference to a statutory provision (which reflected the\\nlanguage of Art.1(A)(2) of\\nthe Convention), in delivering\\nthe majority\\nopinion,\\nand citing Immigration and Naturalization Service v. Stevic\\n  <a class=\"autolink_findcases_inserted\" href=\"http://www.worldlii.org/us/cases/federal/USSC/1984/124.html\" title=\"View Case\">\\n   [1984] USSC 124\\n  </a>\\n  ; (1984)\\n467 US 407, at p 425, observed (at p 453)\\nthat the interpretation\\nfavoured by', metadata={}),\n",
       " Document(page_content='a temporary entry\\npermit.  However, in other proceedings, Keely J. set aside the refusal of the\\nrespondent to grant \"further temporary\\nentry permits and permanent resident\\nentry permits\" to the appellant and Soo Cheng Lee.\\n <p>\\n  7.  The respondent appealed against both sets of orders made by Keely J.  On\\n18 July 1988 the Full Court of the Federal Court upheld\\nboth appeals and\\ndismissed all applications made under the A.D.(J.R.)\\n  <a class=\"autolink_findacts\" href=\"/cgi-bin/viewdoc/au/legis/cth/consol_act/ma1958118/\">\\n   Act\\n  </a>\\n  .  The three appeals\\nnow before this Court relate only to\\nthe refusal to grant the appellant\\nrefugee status.  If the appeals or any\\nof them succeed, the implications will\\nhave to be considered.\\n </p>\\n <p>\\n  8.  The jurisdiction of the Federal Court to entertain the applications under\\nthe A.D.(J.R.)\\n  <a class=\"autolink_findacts\" href=\"/cgi-bin/viewdoc/au/legis/cth/consol_act/ma1958118/\">\\n   Act\\n  </a>\\n  depended, under\\n  <a class=\"autolink_findacts\" href=\"/cgi-bin/viewdoc/au/legis/cth/consol_act/ma1958118/s5.html\">\\n   s.5\\n  </a>\\n  , upon the existence\\nof a decision or\\ndecisions \"of an administrative character made ... under an enactment\" (see\\ndefinition of \"decision\\nto which this\\n  <a class=\"autolink_findacts\" href=\"/cgi-bin/viewdoc/au/legis/cth/consol_act/ma1958118/\">\\n   Act\\n  </a>\\n  applies\" in s.3(1) of the A.D.(J.R.)\\n  <a class=\"autolink_findacts\" href=\"/cgi-bin/viewdoc/au/legis/cth/consol_act/ma1958118/\">\\n   Act\\n  </a>\\n  ), alternatively, under\\n  <a class=\"autolink_findacts\" href=\"/cgi-bin/viewdoc/au/legis/cth/consol_act/ma1958118/s6.html\">\\n   s.6\\n  </a>\\n  , upon the existence of conduct in which \"a\\nperson has engaged,\\nis engaging, or proposes to engage, ... for the purpose of\\nmaking\\na decision to which this\\n  <a class=\"autolink_findacts\" href=\"/cgi-bin/viewdoc/au/legis/cth/consol_act/ma1958118/\">\\n   Act\\n  </a>\\n  applies\".\\n </p>\\n <p>\\n  9.  In the Federal Court the respondent conceded that there had been a\\ndecision of an administrative character made under an enactment\\nto which the\\nA.D.(J.R.)\\n  <a class=\"autolink_findacts\" href=\"/cgi-bin/viewdoc/au/legis/cth/consol_act/ma1958118/\">\\n   Act\\n  </a>\\n  applied. Before us counsel for the respondent did not seek to\\nresile from this conclusion.  Nevertheless,\\ncounsel raised with the\\nCourt the\\nfact that the appellant was not the holder of a temporary entry permit and\\nthat therefore a determination\\nrelating to the\\nappellant\\'s refugee status\\nmight not be a decision under an enactment since, in terms of s.6A(1)(c) of\\nthe\\n  <a class=\"autolink_findacts\" href=\"/cgi-bin/viewdoc/au/legis/cth/consol_act/ma1958118/\">\\n   Migration\\nAct\\n  </a>\\n  , no entry permit could in any event be granted.\\n </p>\\n <p>\\n  10.  Since the point goes to the jurisdiction of the Federal Court to\\nentertain the applications, it cannot be ignored. At the same\\ntime this Court\\nhas not had the benefit of full argument.  Where a non-citizen is the holder\\nof a temporary entry permit which is\\nin force, a determination by the Minister\\nthat the person does not have the status of refugee is a decision made under\\nan enactment\\nfor the purposes of the A.D.(J.R.)\\n  <a class=\"autolink_findacts\" href=\"/cgi-bin/viewdoc/au/legis/cth/consol_act/ma1958118/\">\\n   Act\\n  </a>\\n  :  Minister for Immigration\\nand Ethnic Affairs v. Mayer\\n  <a class=\"autolink_findcases_inserted\" href=\"/cgi-bin/viewdoc/au/cases/cth/HCA/1985/70.html\" title=\"View Case\">\\n   [1985] HCA 70\\n  </a>\\n  ; (1985) 157 CLR 290.\\n In Gunaleela v.\\nMinister for\\nImmigration and Ethnic Affairs\\n  <a class=\"autolink_findcases_inserted\" href=\"/cgi-bin/viewdoc/au/cases/cth/FCA/1987/277.html\" title=\"View Case\">\\n   [1987] FCA 277\\n  </a>\\n  ; (1987) 15 FC.R. 543 the Full Court of the\\nFederal Court held that where\\nnon-citizens\\narrived in Australia without\\ntemporary entry\\npermits, but had not entered Australia in terms of the\\n  <a class=\"autolink_findacts\" href=\"/cgi-bin/viewdoc/au/legis/cth/consol_act/ma1958118/\">\\n   Migration Act\\n  </a>\\n  , decisions\\nmade', metadata={}),\n",
       " Document(page_content='[1988] USCA4 1686\\n  </a>\\n  ; (1988) 858 F 2d 210 (4th\\nCir.), at p 214; Gunaleela\\nv. Minister for Immigration and Ethnic Affairs\\n  <a class=\"autolink_findcases_inserted\" href=\"/cgi-bin/viewdoc/au/cases/cth/FCA/1987/277.html\" title=\"View Case\">\\n   [1987] FCA 277\\n  </a>\\n  ; (1987) 15 FCR 543, at pp 563-564; Periannan Murugasu v. Minister for\\nImmigration and\\nEthnic Affairs (unreported, Federal Court,\\n28 July 1987, at p\\n13).   Nor is it a necessary element of \"persecution\" that the individual\\nshould be the victim of a series of\\nacts.  A single act of oppression may\\nsuffice.  As long as the person is threatened with harm\\nand that harm can be\\nseen as part of\\na course of systematic conduct directed for a Convention\\nreason against that person as an individual\\nor as a member of a class, she\\nis\\n\"being persecuted\" for the purposes of the Convention. The threat need not be\\nthe product of any\\npolicy of the government of the\\nperson\\'s country of\\nnationality.  It may be enough, depending on the circumstances, that the\\ngovernment\\nhas failed or is unable to\\nprotect the person in question from\\npersecution:  Goodwin-Gill, op. cit., at p 38; Hyndman, \"The 1951\\nConvention\\nDefinition of Refugee:\\n An Appraisal with Particular Reference to the Case of\\nSri Lankan Tamil Applicants\", Human Rights\\nQuarterly, vol.9 (1987), 49, at\\np\\n67; U.N.H.C.R. Handbook, par.62; McMullen v. Immigration and Naturalization\\nService\\n  <a class=\"autolink_findcases_inserted\" href=\"http://www.worldlii.org/us/cases/federal/USCA9/1981/1562.html\" title=\"View Case\">\\n   [1981] USCA9 1562\\n  </a>\\n  ; (1981) 658\\nF 2d 1312 (9th Cir.), at p 1315; M.A A26851062, at p 218;\\nRajudeen v. Minister of Employment and Immigration (1984) 55\\nNR 129, at\\np 134.\\nMoreover, to constitute \"persecution\" the harm threatened need not be that of\\nloss of life or liberty.  Other forms\\nof harm\\nshort of interference with life\\nor liberty may constitute \"persecution\" for the purposes of the Convention and\\nProtocol.\\n Measures\\n\"in disregard\" of human dignity may, in appropriate cases,\\nconstitute persecution:  Weis, \"The Concept of the Refugee in\\nInternational\\nLaw\", Journal du Droit International, (1960), 928, at p 970. Thus the\\nU.N.H.C.R. Handbook asserts that serious violations\\nof human\\nrights for one of\\nthe reasons enumerated in the definition of refugee would constitute\\npersecution:  par.151.  In Oyarzo\\nv. Minister\\nof Employment and Immigration\\n  <a class=\"autolink_findcases\" href=\"http://www.canlii.org/en/ca/fc/doc/1982/1982fca779/1982fc779.html\" title=\"View Case\">\\n   (1982) 2 FC 779\\n  </a>\\n  the Federal Court of Appeal of Canada held (p 783) that on the\\nfacts of that case loss\\nof employment because of political activities\\nconstituted persecution for the purpose of the definition of \"Convention\\nrefugee\" in\\nthe Immigration Act 1976 (Can.), s.2(1).  The\\nCourt rejected (p\\n782) the proposition that persecution required deprivation of liberty.\\n It was\\ncorrect in doing so, for persecution\\non account of race, religion and\\npolitical opinion has historically taken many forms\\nof social, political and\\neconomic discrimination.\\n Hence, the denial of access to employment, to the\\nprofessions and to education\\nor the imposition of restrictions on the freedoms\\ntraditionally guaranteed in a democratic society such as freedom of speech,\\nassembly,\\nworship or movement may constitute persecution\\nif imposed for a\\nConvention reason: Goodwin-Gill, pp 38 et seq.  In Reg. v. Immigration\\nAppeal\\nTribunal; Ex parte Jonah (1985) Imm\\nAR 7 Nolan J., sitting in the Queen\\'s\\nBench Division, held as a matter of law that there\\nwas a well-founded fear of\\npersecution when\\nthe adjudicator had found \"that if the appellant on his\\nreturn to Ghana sought to involve\\nhimself once again in union affairs, he\\ncould be in some jeopardy, but there is no acceptable evidence to indicate\\nthat he would\\nbe at any material risk if he was to resume\\nhis residence in his\\nremote family village where he spent a year and a half immediately\\nprior to', metadata={})]"
      ]
     },
     "execution_count": 73,
     "metadata": {},
     "output_type": "execute_result"
    }
   ],
   "source": [
    "texts = RecursiveCharacterTextSplitter().split_text(inner_html)\n",
    "vectorstore = FAISS.from_texts(texts, embedding=embeddings)\n",
    "vectorstore.similarity_search(query='What was the outcome of the case?', top_k=5)"
   ]
  },
  {
   "cell_type": "code",
   "execution_count": 80,
   "metadata": {},
   "outputs": [
    {
     "ename": "KeyboardInterrupt",
     "evalue": "",
     "output_type": "error",
     "traceback": [
      "\u001b[0;31m---------------------------------------------------------------------------\u001b[0m",
      "\u001b[0;31mKeyboardInterrupt\u001b[0m                         Traceback (most recent call last)",
      "Cell \u001b[0;32mIn[80], line 4\u001b[0m\n\u001b[1;32m      2\u001b[0m docs \u001b[39m=\u001b[39m [Document(page_content\u001b[39m=\u001b[39mt) \u001b[39mfor\u001b[39;00m t \u001b[39min\u001b[39;00m texts]\n\u001b[1;32m      3\u001b[0m chain \u001b[39m=\u001b[39m load_summarize_chain(ChatOpenAI(), chain_type\u001b[39m=\u001b[39m\u001b[39m\"\u001b[39m\u001b[39mmap_reduce\u001b[39m\u001b[39m\"\u001b[39m)\n\u001b[0;32m----> 4\u001b[0m chain\u001b[39m.\u001b[39;49mrun(docs)\n",
      "File \u001b[0;32m~/.virtualenvs/selenium/lib/python3.11/site-packages/langchain/chains/base.py:236\u001b[0m, in \u001b[0;36mChain.run\u001b[0;34m(self, callbacks, *args, **kwargs)\u001b[0m\n\u001b[1;32m    234\u001b[0m     \u001b[39mif\u001b[39;00m \u001b[39mlen\u001b[39m(args) \u001b[39m!=\u001b[39m \u001b[39m1\u001b[39m:\n\u001b[1;32m    235\u001b[0m         \u001b[39mraise\u001b[39;00m \u001b[39mValueError\u001b[39;00m(\u001b[39m\"\u001b[39m\u001b[39m`run` supports only one positional argument.\u001b[39m\u001b[39m\"\u001b[39m)\n\u001b[0;32m--> 236\u001b[0m     \u001b[39mreturn\u001b[39;00m \u001b[39mself\u001b[39;49m(args[\u001b[39m0\u001b[39;49m], callbacks\u001b[39m=\u001b[39;49mcallbacks)[\u001b[39mself\u001b[39m\u001b[39m.\u001b[39moutput_keys[\u001b[39m0\u001b[39m]]\n\u001b[1;32m    238\u001b[0m \u001b[39mif\u001b[39;00m kwargs \u001b[39mand\u001b[39;00m \u001b[39mnot\u001b[39;00m args:\n\u001b[1;32m    239\u001b[0m     \u001b[39mreturn\u001b[39;00m \u001b[39mself\u001b[39m(kwargs, callbacks\u001b[39m=\u001b[39mcallbacks)[\u001b[39mself\u001b[39m\u001b[39m.\u001b[39moutput_keys[\u001b[39m0\u001b[39m]]\n",
      "File \u001b[0;32m~/.virtualenvs/selenium/lib/python3.11/site-packages/langchain/chains/base.py:140\u001b[0m, in \u001b[0;36mChain.__call__\u001b[0;34m(self, inputs, return_only_outputs, callbacks)\u001b[0m\n\u001b[1;32m    138\u001b[0m \u001b[39mexcept\u001b[39;00m (\u001b[39mKeyboardInterrupt\u001b[39;00m, \u001b[39mException\u001b[39;00m) \u001b[39mas\u001b[39;00m e:\n\u001b[1;32m    139\u001b[0m     run_manager\u001b[39m.\u001b[39mon_chain_error(e)\n\u001b[0;32m--> 140\u001b[0m     \u001b[39mraise\u001b[39;00m e\n\u001b[1;32m    141\u001b[0m run_manager\u001b[39m.\u001b[39mon_chain_end(outputs)\n\u001b[1;32m    142\u001b[0m \u001b[39mreturn\u001b[39;00m \u001b[39mself\u001b[39m\u001b[39m.\u001b[39mprep_outputs(inputs, outputs, return_only_outputs)\n",
      "File \u001b[0;32m~/.virtualenvs/selenium/lib/python3.11/site-packages/langchain/chains/base.py:134\u001b[0m, in \u001b[0;36mChain.__call__\u001b[0;34m(self, inputs, return_only_outputs, callbacks)\u001b[0m\n\u001b[1;32m    128\u001b[0m run_manager \u001b[39m=\u001b[39m callback_manager\u001b[39m.\u001b[39mon_chain_start(\n\u001b[1;32m    129\u001b[0m     {\u001b[39m\"\u001b[39m\u001b[39mname\u001b[39m\u001b[39m\"\u001b[39m: \u001b[39mself\u001b[39m\u001b[39m.\u001b[39m\u001b[39m__class__\u001b[39m\u001b[39m.\u001b[39m\u001b[39m__name__\u001b[39m},\n\u001b[1;32m    130\u001b[0m     inputs,\n\u001b[1;32m    131\u001b[0m )\n\u001b[1;32m    132\u001b[0m \u001b[39mtry\u001b[39;00m:\n\u001b[1;32m    133\u001b[0m     outputs \u001b[39m=\u001b[39m (\n\u001b[0;32m--> 134\u001b[0m         \u001b[39mself\u001b[39;49m\u001b[39m.\u001b[39;49m_call(inputs, run_manager\u001b[39m=\u001b[39;49mrun_manager)\n\u001b[1;32m    135\u001b[0m         \u001b[39mif\u001b[39;00m new_arg_supported\n\u001b[1;32m    136\u001b[0m         \u001b[39melse\u001b[39;00m \u001b[39mself\u001b[39m\u001b[39m.\u001b[39m_call(inputs)\n\u001b[1;32m    137\u001b[0m     )\n\u001b[1;32m    138\u001b[0m \u001b[39mexcept\u001b[39;00m (\u001b[39mKeyboardInterrupt\u001b[39;00m, \u001b[39mException\u001b[39;00m) \u001b[39mas\u001b[39;00m e:\n\u001b[1;32m    139\u001b[0m     run_manager\u001b[39m.\u001b[39mon_chain_error(e)\n",
      "File \u001b[0;32m~/.virtualenvs/selenium/lib/python3.11/site-packages/langchain/chains/combine_documents/base.py:84\u001b[0m, in \u001b[0;36mBaseCombineDocumentsChain._call\u001b[0;34m(self, inputs, run_manager)\u001b[0m\n\u001b[1;32m     82\u001b[0m \u001b[39m# Other keys are assumed to be needed for LLM prediction\u001b[39;00m\n\u001b[1;32m     83\u001b[0m other_keys \u001b[39m=\u001b[39m {k: v \u001b[39mfor\u001b[39;00m k, v \u001b[39min\u001b[39;00m inputs\u001b[39m.\u001b[39mitems() \u001b[39mif\u001b[39;00m k \u001b[39m!=\u001b[39m \u001b[39mself\u001b[39m\u001b[39m.\u001b[39minput_key}\n\u001b[0;32m---> 84\u001b[0m output, extra_return_dict \u001b[39m=\u001b[39m \u001b[39mself\u001b[39;49m\u001b[39m.\u001b[39;49mcombine_docs(\n\u001b[1;32m     85\u001b[0m     docs, callbacks\u001b[39m=\u001b[39;49m_run_manager\u001b[39m.\u001b[39;49mget_child(), \u001b[39m*\u001b[39;49m\u001b[39m*\u001b[39;49mother_keys\n\u001b[1;32m     86\u001b[0m )\n\u001b[1;32m     87\u001b[0m extra_return_dict[\u001b[39mself\u001b[39m\u001b[39m.\u001b[39moutput_key] \u001b[39m=\u001b[39m output\n\u001b[1;32m     88\u001b[0m \u001b[39mreturn\u001b[39;00m extra_return_dict\n",
      "File \u001b[0;32m~/.virtualenvs/selenium/lib/python3.11/site-packages/langchain/chains/combine_documents/map_reduce.py:144\u001b[0m, in \u001b[0;36mMapReduceDocumentsChain.combine_docs\u001b[0;34m(self, docs, token_max, callbacks, **kwargs)\u001b[0m\n\u001b[1;32m    132\u001b[0m \u001b[39mdef\u001b[39;00m \u001b[39mcombine_docs\u001b[39m(\n\u001b[1;32m    133\u001b[0m     \u001b[39mself\u001b[39m,\n\u001b[1;32m    134\u001b[0m     docs: List[Document],\n\u001b[0;32m   (...)\u001b[0m\n\u001b[1;32m    137\u001b[0m     \u001b[39m*\u001b[39m\u001b[39m*\u001b[39mkwargs: Any,\n\u001b[1;32m    138\u001b[0m ) \u001b[39m-\u001b[39m\u001b[39m>\u001b[39m Tuple[\u001b[39mstr\u001b[39m, \u001b[39mdict\u001b[39m]:\n\u001b[1;32m    139\u001b[0m \u001b[39m    \u001b[39m\u001b[39m\"\"\"Combine documents in a map reduce manner.\u001b[39;00m\n\u001b[1;32m    140\u001b[0m \n\u001b[1;32m    141\u001b[0m \u001b[39m    Combine by mapping first chain over all documents, then reducing the results.\u001b[39;00m\n\u001b[1;32m    142\u001b[0m \u001b[39m    This reducing can be done recursively if needed (if there are many documents).\u001b[39;00m\n\u001b[1;32m    143\u001b[0m \u001b[39m    \"\"\"\u001b[39;00m\n\u001b[0;32m--> 144\u001b[0m     results \u001b[39m=\u001b[39m \u001b[39mself\u001b[39;49m\u001b[39m.\u001b[39;49mllm_chain\u001b[39m.\u001b[39;49mapply(\n\u001b[1;32m    145\u001b[0m         \u001b[39m# FYI - this is parallelized and so it is fast.\u001b[39;49;00m\n\u001b[1;32m    146\u001b[0m         [{\u001b[39mself\u001b[39;49m\u001b[39m.\u001b[39;49mdocument_variable_name: d\u001b[39m.\u001b[39;49mpage_content, \u001b[39m*\u001b[39;49m\u001b[39m*\u001b[39;49mkwargs} \u001b[39mfor\u001b[39;49;00m d \u001b[39min\u001b[39;49;00m docs],\n\u001b[1;32m    147\u001b[0m         callbacks\u001b[39m=\u001b[39;49mcallbacks,\n\u001b[1;32m    148\u001b[0m     )\n\u001b[1;32m    149\u001b[0m     \u001b[39mreturn\u001b[39;00m \u001b[39mself\u001b[39m\u001b[39m.\u001b[39m_process_results(\n\u001b[1;32m    150\u001b[0m         results, docs, token_max, callbacks\u001b[39m=\u001b[39mcallbacks, \u001b[39m*\u001b[39m\u001b[39m*\u001b[39mkwargs\n\u001b[1;32m    151\u001b[0m     )\n",
      "File \u001b[0;32m~/.virtualenvs/selenium/lib/python3.11/site-packages/langchain/chains/llm.py:157\u001b[0m, in \u001b[0;36mLLMChain.apply\u001b[0;34m(self, input_list, callbacks)\u001b[0m\n\u001b[1;32m    155\u001b[0m \u001b[39mexcept\u001b[39;00m (\u001b[39mKeyboardInterrupt\u001b[39;00m, \u001b[39mException\u001b[39;00m) \u001b[39mas\u001b[39;00m e:\n\u001b[1;32m    156\u001b[0m     run_manager\u001b[39m.\u001b[39mon_chain_error(e)\n\u001b[0;32m--> 157\u001b[0m     \u001b[39mraise\u001b[39;00m e\n\u001b[1;32m    158\u001b[0m outputs \u001b[39m=\u001b[39m \u001b[39mself\u001b[39m\u001b[39m.\u001b[39mcreate_outputs(response)\n\u001b[1;32m    159\u001b[0m run_manager\u001b[39m.\u001b[39mon_chain_end({\u001b[39m\"\u001b[39m\u001b[39moutputs\u001b[39m\u001b[39m\"\u001b[39m: outputs})\n",
      "File \u001b[0;32m~/.virtualenvs/selenium/lib/python3.11/site-packages/langchain/chains/llm.py:154\u001b[0m, in \u001b[0;36mLLMChain.apply\u001b[0;34m(self, input_list, callbacks)\u001b[0m\n\u001b[1;32m    149\u001b[0m run_manager \u001b[39m=\u001b[39m callback_manager\u001b[39m.\u001b[39mon_chain_start(\n\u001b[1;32m    150\u001b[0m     {\u001b[39m\"\u001b[39m\u001b[39mname\u001b[39m\u001b[39m\"\u001b[39m: \u001b[39mself\u001b[39m\u001b[39m.\u001b[39m\u001b[39m__class__\u001b[39m\u001b[39m.\u001b[39m\u001b[39m__name__\u001b[39m},\n\u001b[1;32m    151\u001b[0m     {\u001b[39m\"\u001b[39m\u001b[39minput_list\u001b[39m\u001b[39m\"\u001b[39m: input_list},\n\u001b[1;32m    152\u001b[0m )\n\u001b[1;32m    153\u001b[0m \u001b[39mtry\u001b[39;00m:\n\u001b[0;32m--> 154\u001b[0m     response \u001b[39m=\u001b[39m \u001b[39mself\u001b[39;49m\u001b[39m.\u001b[39;49mgenerate(input_list, run_manager\u001b[39m=\u001b[39;49mrun_manager)\n\u001b[1;32m    155\u001b[0m \u001b[39mexcept\u001b[39;00m (\u001b[39mKeyboardInterrupt\u001b[39;00m, \u001b[39mException\u001b[39;00m) \u001b[39mas\u001b[39;00m e:\n\u001b[1;32m    156\u001b[0m     run_manager\u001b[39m.\u001b[39mon_chain_error(e)\n",
      "File \u001b[0;32m~/.virtualenvs/selenium/lib/python3.11/site-packages/langchain/chains/llm.py:79\u001b[0m, in \u001b[0;36mLLMChain.generate\u001b[0;34m(self, input_list, run_manager)\u001b[0m\n\u001b[1;32m     77\u001b[0m \u001b[39m\u001b[39m\u001b[39m\"\"\"Generate LLM result from inputs.\"\"\"\u001b[39;00m\n\u001b[1;32m     78\u001b[0m prompts, stop \u001b[39m=\u001b[39m \u001b[39mself\u001b[39m\u001b[39m.\u001b[39mprep_prompts(input_list, run_manager\u001b[39m=\u001b[39mrun_manager)\n\u001b[0;32m---> 79\u001b[0m \u001b[39mreturn\u001b[39;00m \u001b[39mself\u001b[39;49m\u001b[39m.\u001b[39;49mllm\u001b[39m.\u001b[39;49mgenerate_prompt(\n\u001b[1;32m     80\u001b[0m     prompts, stop, callbacks\u001b[39m=\u001b[39;49mrun_manager\u001b[39m.\u001b[39;49mget_child() \u001b[39mif\u001b[39;49;00m run_manager \u001b[39melse\u001b[39;49;00m \u001b[39mNone\u001b[39;49;00m\n\u001b[1;32m     81\u001b[0m )\n",
      "File \u001b[0;32m~/.virtualenvs/selenium/lib/python3.11/site-packages/langchain/chat_models/base.py:142\u001b[0m, in \u001b[0;36mBaseChatModel.generate_prompt\u001b[0;34m(self, prompts, stop, callbacks)\u001b[0m\n\u001b[1;32m    135\u001b[0m \u001b[39mdef\u001b[39;00m \u001b[39mgenerate_prompt\u001b[39m(\n\u001b[1;32m    136\u001b[0m     \u001b[39mself\u001b[39m,\n\u001b[1;32m    137\u001b[0m     prompts: List[PromptValue],\n\u001b[1;32m    138\u001b[0m     stop: Optional[List[\u001b[39mstr\u001b[39m]] \u001b[39m=\u001b[39m \u001b[39mNone\u001b[39;00m,\n\u001b[1;32m    139\u001b[0m     callbacks: Callbacks \u001b[39m=\u001b[39m \u001b[39mNone\u001b[39;00m,\n\u001b[1;32m    140\u001b[0m ) \u001b[39m-\u001b[39m\u001b[39m>\u001b[39m LLMResult:\n\u001b[1;32m    141\u001b[0m     prompt_messages \u001b[39m=\u001b[39m [p\u001b[39m.\u001b[39mto_messages() \u001b[39mfor\u001b[39;00m p \u001b[39min\u001b[39;00m prompts]\n\u001b[0;32m--> 142\u001b[0m     \u001b[39mreturn\u001b[39;00m \u001b[39mself\u001b[39;49m\u001b[39m.\u001b[39;49mgenerate(prompt_messages, stop\u001b[39m=\u001b[39;49mstop, callbacks\u001b[39m=\u001b[39;49mcallbacks)\n",
      "File \u001b[0;32m~/.virtualenvs/selenium/lib/python3.11/site-packages/langchain/chat_models/base.py:90\u001b[0m, in \u001b[0;36mBaseChatModel.generate\u001b[0;34m(self, messages, stop, callbacks)\u001b[0m\n\u001b[1;32m     88\u001b[0m \u001b[39mexcept\u001b[39;00m (\u001b[39mKeyboardInterrupt\u001b[39;00m, \u001b[39mException\u001b[39;00m) \u001b[39mas\u001b[39;00m e:\n\u001b[1;32m     89\u001b[0m     run_manager\u001b[39m.\u001b[39mon_llm_error(e)\n\u001b[0;32m---> 90\u001b[0m     \u001b[39mraise\u001b[39;00m e\n\u001b[1;32m     91\u001b[0m llm_output \u001b[39m=\u001b[39m \u001b[39mself\u001b[39m\u001b[39m.\u001b[39m_combine_llm_outputs([res\u001b[39m.\u001b[39mllm_output \u001b[39mfor\u001b[39;00m res \u001b[39min\u001b[39;00m results])\n\u001b[1;32m     92\u001b[0m generations \u001b[39m=\u001b[39m [res\u001b[39m.\u001b[39mgenerations \u001b[39mfor\u001b[39;00m res \u001b[39min\u001b[39;00m results]\n",
      "File \u001b[0;32m~/.virtualenvs/selenium/lib/python3.11/site-packages/langchain/chat_models/base.py:82\u001b[0m, in \u001b[0;36mBaseChatModel.generate\u001b[0;34m(self, messages, stop, callbacks)\u001b[0m\n\u001b[1;32m     78\u001b[0m new_arg_supported \u001b[39m=\u001b[39m inspect\u001b[39m.\u001b[39msignature(\u001b[39mself\u001b[39m\u001b[39m.\u001b[39m_generate)\u001b[39m.\u001b[39mparameters\u001b[39m.\u001b[39mget(\n\u001b[1;32m     79\u001b[0m     \u001b[39m\"\u001b[39m\u001b[39mrun_manager\u001b[39m\u001b[39m\"\u001b[39m\n\u001b[1;32m     80\u001b[0m )\n\u001b[1;32m     81\u001b[0m \u001b[39mtry\u001b[39;00m:\n\u001b[0;32m---> 82\u001b[0m     results \u001b[39m=\u001b[39m [\n\u001b[1;32m     83\u001b[0m         \u001b[39mself\u001b[39;49m\u001b[39m.\u001b[39;49m_generate(m, stop\u001b[39m=\u001b[39;49mstop, run_manager\u001b[39m=\u001b[39;49mrun_manager)\n\u001b[1;32m     84\u001b[0m         \u001b[39mif\u001b[39;49;00m new_arg_supported\n\u001b[1;32m     85\u001b[0m         \u001b[39melse\u001b[39;49;00m \u001b[39mself\u001b[39;49m\u001b[39m.\u001b[39;49m_generate(m, stop\u001b[39m=\u001b[39;49mstop)\n\u001b[1;32m     86\u001b[0m         \u001b[39mfor\u001b[39;49;00m m \u001b[39min\u001b[39;49;00m messages\n\u001b[1;32m     87\u001b[0m     ]\n\u001b[1;32m     88\u001b[0m \u001b[39mexcept\u001b[39;00m (\u001b[39mKeyboardInterrupt\u001b[39;00m, \u001b[39mException\u001b[39;00m) \u001b[39mas\u001b[39;00m e:\n\u001b[1;32m     89\u001b[0m     run_manager\u001b[39m.\u001b[39mon_llm_error(e)\n",
      "File \u001b[0;32m~/.virtualenvs/selenium/lib/python3.11/site-packages/langchain/chat_models/base.py:83\u001b[0m, in \u001b[0;36m<listcomp>\u001b[0;34m(.0)\u001b[0m\n\u001b[1;32m     78\u001b[0m new_arg_supported \u001b[39m=\u001b[39m inspect\u001b[39m.\u001b[39msignature(\u001b[39mself\u001b[39m\u001b[39m.\u001b[39m_generate)\u001b[39m.\u001b[39mparameters\u001b[39m.\u001b[39mget(\n\u001b[1;32m     79\u001b[0m     \u001b[39m\"\u001b[39m\u001b[39mrun_manager\u001b[39m\u001b[39m\"\u001b[39m\n\u001b[1;32m     80\u001b[0m )\n\u001b[1;32m     81\u001b[0m \u001b[39mtry\u001b[39;00m:\n\u001b[1;32m     82\u001b[0m     results \u001b[39m=\u001b[39m [\n\u001b[0;32m---> 83\u001b[0m         \u001b[39mself\u001b[39;49m\u001b[39m.\u001b[39;49m_generate(m, stop\u001b[39m=\u001b[39;49mstop, run_manager\u001b[39m=\u001b[39;49mrun_manager)\n\u001b[1;32m     84\u001b[0m         \u001b[39mif\u001b[39;00m new_arg_supported\n\u001b[1;32m     85\u001b[0m         \u001b[39melse\u001b[39;00m \u001b[39mself\u001b[39m\u001b[39m.\u001b[39m_generate(m, stop\u001b[39m=\u001b[39mstop)\n\u001b[1;32m     86\u001b[0m         \u001b[39mfor\u001b[39;00m m \u001b[39min\u001b[39;00m messages\n\u001b[1;32m     87\u001b[0m     ]\n\u001b[1;32m     88\u001b[0m \u001b[39mexcept\u001b[39;00m (\u001b[39mKeyboardInterrupt\u001b[39;00m, \u001b[39mException\u001b[39;00m) \u001b[39mas\u001b[39;00m e:\n\u001b[1;32m     89\u001b[0m     run_manager\u001b[39m.\u001b[39mon_llm_error(e)\n",
      "File \u001b[0;32m~/.virtualenvs/selenium/lib/python3.11/site-packages/langchain/chat_models/openai.py:296\u001b[0m, in \u001b[0;36mChatOpenAI._generate\u001b[0;34m(self, messages, stop, run_manager)\u001b[0m\n\u001b[1;32m    292\u001b[0m     message \u001b[39m=\u001b[39m _convert_dict_to_message(\n\u001b[1;32m    293\u001b[0m         {\u001b[39m\"\u001b[39m\u001b[39mcontent\u001b[39m\u001b[39m\"\u001b[39m: inner_completion, \u001b[39m\"\u001b[39m\u001b[39mrole\u001b[39m\u001b[39m\"\u001b[39m: role}\n\u001b[1;32m    294\u001b[0m     )\n\u001b[1;32m    295\u001b[0m     \u001b[39mreturn\u001b[39;00m ChatResult(generations\u001b[39m=\u001b[39m[ChatGeneration(message\u001b[39m=\u001b[39mmessage)])\n\u001b[0;32m--> 296\u001b[0m response \u001b[39m=\u001b[39m \u001b[39mself\u001b[39;49m\u001b[39m.\u001b[39;49mcompletion_with_retry(messages\u001b[39m=\u001b[39;49mmessage_dicts, \u001b[39m*\u001b[39;49m\u001b[39m*\u001b[39;49mparams)\n\u001b[1;32m    297\u001b[0m \u001b[39mreturn\u001b[39;00m \u001b[39mself\u001b[39m\u001b[39m.\u001b[39m_create_chat_result(response)\n",
      "File \u001b[0;32m~/.virtualenvs/selenium/lib/python3.11/site-packages/langchain/chat_models/openai.py:257\u001b[0m, in \u001b[0;36mChatOpenAI.completion_with_retry\u001b[0;34m(self, **kwargs)\u001b[0m\n\u001b[1;32m    253\u001b[0m \u001b[39m@retry_decorator\u001b[39m\n\u001b[1;32m    254\u001b[0m \u001b[39mdef\u001b[39;00m \u001b[39m_completion_with_retry\u001b[39m(\u001b[39m*\u001b[39m\u001b[39m*\u001b[39mkwargs: Any) \u001b[39m-\u001b[39m\u001b[39m>\u001b[39m Any:\n\u001b[1;32m    255\u001b[0m     \u001b[39mreturn\u001b[39;00m \u001b[39mself\u001b[39m\u001b[39m.\u001b[39mclient\u001b[39m.\u001b[39mcreate(\u001b[39m*\u001b[39m\u001b[39m*\u001b[39mkwargs)\n\u001b[0;32m--> 257\u001b[0m \u001b[39mreturn\u001b[39;00m _completion_with_retry(\u001b[39m*\u001b[39;49m\u001b[39m*\u001b[39;49mkwargs)\n",
      "File \u001b[0;32m~/.virtualenvs/selenium/lib/python3.11/site-packages/tenacity/__init__.py:289\u001b[0m, in \u001b[0;36mBaseRetrying.wraps.<locals>.wrapped_f\u001b[0;34m(*args, **kw)\u001b[0m\n\u001b[1;32m    287\u001b[0m \u001b[39m@functools\u001b[39m\u001b[39m.\u001b[39mwraps(f)\n\u001b[1;32m    288\u001b[0m \u001b[39mdef\u001b[39;00m \u001b[39mwrapped_f\u001b[39m(\u001b[39m*\u001b[39margs: t\u001b[39m.\u001b[39mAny, \u001b[39m*\u001b[39m\u001b[39m*\u001b[39mkw: t\u001b[39m.\u001b[39mAny) \u001b[39m-\u001b[39m\u001b[39m>\u001b[39m t\u001b[39m.\u001b[39mAny:\n\u001b[0;32m--> 289\u001b[0m     \u001b[39mreturn\u001b[39;00m \u001b[39mself\u001b[39;49m(f, \u001b[39m*\u001b[39;49margs, \u001b[39m*\u001b[39;49m\u001b[39m*\u001b[39;49mkw)\n",
      "File \u001b[0;32m~/.virtualenvs/selenium/lib/python3.11/site-packages/tenacity/__init__.py:379\u001b[0m, in \u001b[0;36mRetrying.__call__\u001b[0;34m(self, fn, *args, **kwargs)\u001b[0m\n\u001b[1;32m    377\u001b[0m retry_state \u001b[39m=\u001b[39m RetryCallState(retry_object\u001b[39m=\u001b[39m\u001b[39mself\u001b[39m, fn\u001b[39m=\u001b[39mfn, args\u001b[39m=\u001b[39margs, kwargs\u001b[39m=\u001b[39mkwargs)\n\u001b[1;32m    378\u001b[0m \u001b[39mwhile\u001b[39;00m \u001b[39mTrue\u001b[39;00m:\n\u001b[0;32m--> 379\u001b[0m     do \u001b[39m=\u001b[39m \u001b[39mself\u001b[39;49m\u001b[39m.\u001b[39;49miter(retry_state\u001b[39m=\u001b[39;49mretry_state)\n\u001b[1;32m    380\u001b[0m     \u001b[39mif\u001b[39;00m \u001b[39misinstance\u001b[39m(do, DoAttempt):\n\u001b[1;32m    381\u001b[0m         \u001b[39mtry\u001b[39;00m:\n",
      "File \u001b[0;32m~/.virtualenvs/selenium/lib/python3.11/site-packages/tenacity/__init__.py:314\u001b[0m, in \u001b[0;36mBaseRetrying.iter\u001b[0;34m(self, retry_state)\u001b[0m\n\u001b[1;32m    312\u001b[0m is_explicit_retry \u001b[39m=\u001b[39m fut\u001b[39m.\u001b[39mfailed \u001b[39mand\u001b[39;00m \u001b[39misinstance\u001b[39m(fut\u001b[39m.\u001b[39mexception(), TryAgain)\n\u001b[1;32m    313\u001b[0m \u001b[39mif\u001b[39;00m \u001b[39mnot\u001b[39;00m (is_explicit_retry \u001b[39mor\u001b[39;00m \u001b[39mself\u001b[39m\u001b[39m.\u001b[39mretry(retry_state)):\n\u001b[0;32m--> 314\u001b[0m     \u001b[39mreturn\u001b[39;00m fut\u001b[39m.\u001b[39;49mresult()\n\u001b[1;32m    316\u001b[0m \u001b[39mif\u001b[39;00m \u001b[39mself\u001b[39m\u001b[39m.\u001b[39mafter \u001b[39mis\u001b[39;00m \u001b[39mnot\u001b[39;00m \u001b[39mNone\u001b[39;00m:\n\u001b[1;32m    317\u001b[0m     \u001b[39mself\u001b[39m\u001b[39m.\u001b[39mafter(retry_state)\n",
      "File \u001b[0;32m/opt/homebrew/Cellar/python@3.11/3.11.3/Frameworks/Python.framework/Versions/3.11/lib/python3.11/concurrent/futures/_base.py:449\u001b[0m, in \u001b[0;36mFuture.result\u001b[0;34m(self, timeout)\u001b[0m\n\u001b[1;32m    447\u001b[0m     \u001b[39mraise\u001b[39;00m CancelledError()\n\u001b[1;32m    448\u001b[0m \u001b[39melif\u001b[39;00m \u001b[39mself\u001b[39m\u001b[39m.\u001b[39m_state \u001b[39m==\u001b[39m FINISHED:\n\u001b[0;32m--> 449\u001b[0m     \u001b[39mreturn\u001b[39;00m \u001b[39mself\u001b[39;49m\u001b[39m.\u001b[39;49m__get_result()\n\u001b[1;32m    451\u001b[0m \u001b[39mself\u001b[39m\u001b[39m.\u001b[39m_condition\u001b[39m.\u001b[39mwait(timeout)\n\u001b[1;32m    453\u001b[0m \u001b[39mif\u001b[39;00m \u001b[39mself\u001b[39m\u001b[39m.\u001b[39m_state \u001b[39min\u001b[39;00m [CANCELLED, CANCELLED_AND_NOTIFIED]:\n",
      "File \u001b[0;32m/opt/homebrew/Cellar/python@3.11/3.11.3/Frameworks/Python.framework/Versions/3.11/lib/python3.11/concurrent/futures/_base.py:401\u001b[0m, in \u001b[0;36mFuture.__get_result\u001b[0;34m(self)\u001b[0m\n\u001b[1;32m    399\u001b[0m \u001b[39mif\u001b[39;00m \u001b[39mself\u001b[39m\u001b[39m.\u001b[39m_exception:\n\u001b[1;32m    400\u001b[0m     \u001b[39mtry\u001b[39;00m:\n\u001b[0;32m--> 401\u001b[0m         \u001b[39mraise\u001b[39;00m \u001b[39mself\u001b[39m\u001b[39m.\u001b[39m_exception\n\u001b[1;32m    402\u001b[0m     \u001b[39mfinally\u001b[39;00m:\n\u001b[1;32m    403\u001b[0m         \u001b[39m# Break a reference cycle with the exception in self._exception\u001b[39;00m\n\u001b[1;32m    404\u001b[0m         \u001b[39mself\u001b[39m \u001b[39m=\u001b[39m \u001b[39mNone\u001b[39;00m\n",
      "File \u001b[0;32m~/.virtualenvs/selenium/lib/python3.11/site-packages/tenacity/__init__.py:382\u001b[0m, in \u001b[0;36mRetrying.__call__\u001b[0;34m(self, fn, *args, **kwargs)\u001b[0m\n\u001b[1;32m    380\u001b[0m \u001b[39mif\u001b[39;00m \u001b[39misinstance\u001b[39m(do, DoAttempt):\n\u001b[1;32m    381\u001b[0m     \u001b[39mtry\u001b[39;00m:\n\u001b[0;32m--> 382\u001b[0m         result \u001b[39m=\u001b[39m fn(\u001b[39m*\u001b[39;49margs, \u001b[39m*\u001b[39;49m\u001b[39m*\u001b[39;49mkwargs)\n\u001b[1;32m    383\u001b[0m     \u001b[39mexcept\u001b[39;00m \u001b[39mBaseException\u001b[39;00m:  \u001b[39m# noqa: B902\u001b[39;00m\n\u001b[1;32m    384\u001b[0m         retry_state\u001b[39m.\u001b[39mset_exception(sys\u001b[39m.\u001b[39mexc_info())  \u001b[39m# type: ignore[arg-type]\u001b[39;00m\n",
      "File \u001b[0;32m~/.virtualenvs/selenium/lib/python3.11/site-packages/langchain/chat_models/openai.py:255\u001b[0m, in \u001b[0;36mChatOpenAI.completion_with_retry.<locals>._completion_with_retry\u001b[0;34m(**kwargs)\u001b[0m\n\u001b[1;32m    253\u001b[0m \u001b[39m@retry_decorator\u001b[39m\n\u001b[1;32m    254\u001b[0m \u001b[39mdef\u001b[39;00m \u001b[39m_completion_with_retry\u001b[39m(\u001b[39m*\u001b[39m\u001b[39m*\u001b[39mkwargs: Any) \u001b[39m-\u001b[39m\u001b[39m>\u001b[39m Any:\n\u001b[0;32m--> 255\u001b[0m     \u001b[39mreturn\u001b[39;00m \u001b[39mself\u001b[39;49m\u001b[39m.\u001b[39;49mclient\u001b[39m.\u001b[39;49mcreate(\u001b[39m*\u001b[39;49m\u001b[39m*\u001b[39;49mkwargs)\n",
      "File \u001b[0;32m~/.virtualenvs/selenium/lib/python3.11/site-packages/openai/api_resources/chat_completion.py:25\u001b[0m, in \u001b[0;36mChatCompletion.create\u001b[0;34m(cls, *args, **kwargs)\u001b[0m\n\u001b[1;32m     23\u001b[0m \u001b[39mwhile\u001b[39;00m \u001b[39mTrue\u001b[39;00m:\n\u001b[1;32m     24\u001b[0m     \u001b[39mtry\u001b[39;00m:\n\u001b[0;32m---> 25\u001b[0m         \u001b[39mreturn\u001b[39;00m \u001b[39msuper\u001b[39;49m()\u001b[39m.\u001b[39;49mcreate(\u001b[39m*\u001b[39;49margs, \u001b[39m*\u001b[39;49m\u001b[39m*\u001b[39;49mkwargs)\n\u001b[1;32m     26\u001b[0m     \u001b[39mexcept\u001b[39;00m TryAgain \u001b[39mas\u001b[39;00m e:\n\u001b[1;32m     27\u001b[0m         \u001b[39mif\u001b[39;00m timeout \u001b[39mis\u001b[39;00m \u001b[39mnot\u001b[39;00m \u001b[39mNone\u001b[39;00m \u001b[39mand\u001b[39;00m time\u001b[39m.\u001b[39mtime() \u001b[39m>\u001b[39m start \u001b[39m+\u001b[39m timeout:\n",
      "File \u001b[0;32m~/.virtualenvs/selenium/lib/python3.11/site-packages/openai/api_resources/abstract/engine_api_resource.py:153\u001b[0m, in \u001b[0;36mEngineAPIResource.create\u001b[0;34m(cls, api_key, api_base, api_type, request_id, api_version, organization, **params)\u001b[0m\n\u001b[1;32m    127\u001b[0m \u001b[39m@classmethod\u001b[39m\n\u001b[1;32m    128\u001b[0m \u001b[39mdef\u001b[39;00m \u001b[39mcreate\u001b[39m(\n\u001b[1;32m    129\u001b[0m     \u001b[39mcls\u001b[39m,\n\u001b[0;32m   (...)\u001b[0m\n\u001b[1;32m    136\u001b[0m     \u001b[39m*\u001b[39m\u001b[39m*\u001b[39mparams,\n\u001b[1;32m    137\u001b[0m ):\n\u001b[1;32m    138\u001b[0m     (\n\u001b[1;32m    139\u001b[0m         deployment_id,\n\u001b[1;32m    140\u001b[0m         engine,\n\u001b[0;32m   (...)\u001b[0m\n\u001b[1;32m    150\u001b[0m         api_key, api_base, api_type, api_version, organization, \u001b[39m*\u001b[39m\u001b[39m*\u001b[39mparams\n\u001b[1;32m    151\u001b[0m     )\n\u001b[0;32m--> 153\u001b[0m     response, _, api_key \u001b[39m=\u001b[39m requestor\u001b[39m.\u001b[39;49mrequest(\n\u001b[1;32m    154\u001b[0m         \u001b[39m\"\u001b[39;49m\u001b[39mpost\u001b[39;49m\u001b[39m\"\u001b[39;49m,\n\u001b[1;32m    155\u001b[0m         url,\n\u001b[1;32m    156\u001b[0m         params\u001b[39m=\u001b[39;49mparams,\n\u001b[1;32m    157\u001b[0m         headers\u001b[39m=\u001b[39;49mheaders,\n\u001b[1;32m    158\u001b[0m         stream\u001b[39m=\u001b[39;49mstream,\n\u001b[1;32m    159\u001b[0m         request_id\u001b[39m=\u001b[39;49mrequest_id,\n\u001b[1;32m    160\u001b[0m         request_timeout\u001b[39m=\u001b[39;49mrequest_timeout,\n\u001b[1;32m    161\u001b[0m     )\n\u001b[1;32m    163\u001b[0m     \u001b[39mif\u001b[39;00m stream:\n\u001b[1;32m    164\u001b[0m         \u001b[39m# must be an iterator\u001b[39;00m\n\u001b[1;32m    165\u001b[0m         \u001b[39massert\u001b[39;00m \u001b[39mnot\u001b[39;00m \u001b[39misinstance\u001b[39m(response, OpenAIResponse)\n",
      "File \u001b[0;32m~/.virtualenvs/selenium/lib/python3.11/site-packages/openai/api_requestor.py:220\u001b[0m, in \u001b[0;36mAPIRequestor.request\u001b[0;34m(self, method, url, params, headers, files, stream, request_id, request_timeout)\u001b[0m\n\u001b[1;32m    209\u001b[0m \u001b[39mdef\u001b[39;00m \u001b[39mrequest\u001b[39m(\n\u001b[1;32m    210\u001b[0m     \u001b[39mself\u001b[39m,\n\u001b[1;32m    211\u001b[0m     method,\n\u001b[0;32m   (...)\u001b[0m\n\u001b[1;32m    218\u001b[0m     request_timeout: Optional[Union[\u001b[39mfloat\u001b[39m, Tuple[\u001b[39mfloat\u001b[39m, \u001b[39mfloat\u001b[39m]]] \u001b[39m=\u001b[39m \u001b[39mNone\u001b[39;00m,\n\u001b[1;32m    219\u001b[0m ) \u001b[39m-\u001b[39m\u001b[39m>\u001b[39m Tuple[Union[OpenAIResponse, Iterator[OpenAIResponse]], \u001b[39mbool\u001b[39m, \u001b[39mstr\u001b[39m]:\n\u001b[0;32m--> 220\u001b[0m     result \u001b[39m=\u001b[39m \u001b[39mself\u001b[39;49m\u001b[39m.\u001b[39;49mrequest_raw(\n\u001b[1;32m    221\u001b[0m         method\u001b[39m.\u001b[39;49mlower(),\n\u001b[1;32m    222\u001b[0m         url,\n\u001b[1;32m    223\u001b[0m         params\u001b[39m=\u001b[39;49mparams,\n\u001b[1;32m    224\u001b[0m         supplied_headers\u001b[39m=\u001b[39;49mheaders,\n\u001b[1;32m    225\u001b[0m         files\u001b[39m=\u001b[39;49mfiles,\n\u001b[1;32m    226\u001b[0m         stream\u001b[39m=\u001b[39;49mstream,\n\u001b[1;32m    227\u001b[0m         request_id\u001b[39m=\u001b[39;49mrequest_id,\n\u001b[1;32m    228\u001b[0m         request_timeout\u001b[39m=\u001b[39;49mrequest_timeout,\n\u001b[1;32m    229\u001b[0m     )\n\u001b[1;32m    230\u001b[0m     resp, got_stream \u001b[39m=\u001b[39m \u001b[39mself\u001b[39m\u001b[39m.\u001b[39m_interpret_response(result, stream)\n\u001b[1;32m    231\u001b[0m     \u001b[39mreturn\u001b[39;00m resp, got_stream, \u001b[39mself\u001b[39m\u001b[39m.\u001b[39mapi_key\n",
      "File \u001b[0;32m~/.virtualenvs/selenium/lib/python3.11/site-packages/openai/api_requestor.py:520\u001b[0m, in \u001b[0;36mAPIRequestor.request_raw\u001b[0;34m(self, method, url, params, supplied_headers, files, stream, request_id, request_timeout)\u001b[0m\n\u001b[1;32m    518\u001b[0m     _thread_context\u001b[39m.\u001b[39msession \u001b[39m=\u001b[39m _make_session()\n\u001b[1;32m    519\u001b[0m \u001b[39mtry\u001b[39;00m:\n\u001b[0;32m--> 520\u001b[0m     result \u001b[39m=\u001b[39m _thread_context\u001b[39m.\u001b[39;49msession\u001b[39m.\u001b[39;49mrequest(\n\u001b[1;32m    521\u001b[0m         method,\n\u001b[1;32m    522\u001b[0m         abs_url,\n\u001b[1;32m    523\u001b[0m         headers\u001b[39m=\u001b[39;49mheaders,\n\u001b[1;32m    524\u001b[0m         data\u001b[39m=\u001b[39;49mdata,\n\u001b[1;32m    525\u001b[0m         files\u001b[39m=\u001b[39;49mfiles,\n\u001b[1;32m    526\u001b[0m         stream\u001b[39m=\u001b[39;49mstream,\n\u001b[1;32m    527\u001b[0m         timeout\u001b[39m=\u001b[39;49mrequest_timeout \u001b[39mif\u001b[39;49;00m request_timeout \u001b[39melse\u001b[39;49;00m TIMEOUT_SECS,\n\u001b[1;32m    528\u001b[0m         proxies\u001b[39m=\u001b[39;49m_thread_context\u001b[39m.\u001b[39;49msession\u001b[39m.\u001b[39;49mproxies,\n\u001b[1;32m    529\u001b[0m     )\n\u001b[1;32m    530\u001b[0m \u001b[39mexcept\u001b[39;00m requests\u001b[39m.\u001b[39mexceptions\u001b[39m.\u001b[39mTimeout \u001b[39mas\u001b[39;00m e:\n\u001b[1;32m    531\u001b[0m     \u001b[39mraise\u001b[39;00m error\u001b[39m.\u001b[39mTimeout(\u001b[39m\"\u001b[39m\u001b[39mRequest timed out: \u001b[39m\u001b[39m{}\u001b[39;00m\u001b[39m\"\u001b[39m\u001b[39m.\u001b[39mformat(e)) \u001b[39mfrom\u001b[39;00m \u001b[39me\u001b[39;00m\n",
      "File \u001b[0;32m~/.virtualenvs/selenium/lib/python3.11/site-packages/requests/sessions.py:587\u001b[0m, in \u001b[0;36mSession.request\u001b[0;34m(self, method, url, params, data, headers, cookies, files, auth, timeout, allow_redirects, proxies, hooks, stream, verify, cert, json)\u001b[0m\n\u001b[1;32m    582\u001b[0m send_kwargs \u001b[39m=\u001b[39m {\n\u001b[1;32m    583\u001b[0m     \u001b[39m\"\u001b[39m\u001b[39mtimeout\u001b[39m\u001b[39m\"\u001b[39m: timeout,\n\u001b[1;32m    584\u001b[0m     \u001b[39m\"\u001b[39m\u001b[39mallow_redirects\u001b[39m\u001b[39m\"\u001b[39m: allow_redirects,\n\u001b[1;32m    585\u001b[0m }\n\u001b[1;32m    586\u001b[0m send_kwargs\u001b[39m.\u001b[39mupdate(settings)\n\u001b[0;32m--> 587\u001b[0m resp \u001b[39m=\u001b[39m \u001b[39mself\u001b[39;49m\u001b[39m.\u001b[39;49msend(prep, \u001b[39m*\u001b[39;49m\u001b[39m*\u001b[39;49msend_kwargs)\n\u001b[1;32m    589\u001b[0m \u001b[39mreturn\u001b[39;00m resp\n",
      "File \u001b[0;32m~/.virtualenvs/selenium/lib/python3.11/site-packages/requests/sessions.py:701\u001b[0m, in \u001b[0;36mSession.send\u001b[0;34m(self, request, **kwargs)\u001b[0m\n\u001b[1;32m    698\u001b[0m start \u001b[39m=\u001b[39m preferred_clock()\n\u001b[1;32m    700\u001b[0m \u001b[39m# Send the request\u001b[39;00m\n\u001b[0;32m--> 701\u001b[0m r \u001b[39m=\u001b[39m adapter\u001b[39m.\u001b[39;49msend(request, \u001b[39m*\u001b[39;49m\u001b[39m*\u001b[39;49mkwargs)\n\u001b[1;32m    703\u001b[0m \u001b[39m# Total elapsed time of the request (approximately)\u001b[39;00m\n\u001b[1;32m    704\u001b[0m elapsed \u001b[39m=\u001b[39m preferred_clock() \u001b[39m-\u001b[39m start\n",
      "File \u001b[0;32m~/.virtualenvs/selenium/lib/python3.11/site-packages/requests/adapters.py:486\u001b[0m, in \u001b[0;36mHTTPAdapter.send\u001b[0;34m(self, request, stream, timeout, verify, cert, proxies)\u001b[0m\n\u001b[1;32m    483\u001b[0m     timeout \u001b[39m=\u001b[39m TimeoutSauce(connect\u001b[39m=\u001b[39mtimeout, read\u001b[39m=\u001b[39mtimeout)\n\u001b[1;32m    485\u001b[0m \u001b[39mtry\u001b[39;00m:\n\u001b[0;32m--> 486\u001b[0m     resp \u001b[39m=\u001b[39m conn\u001b[39m.\u001b[39;49murlopen(\n\u001b[1;32m    487\u001b[0m         method\u001b[39m=\u001b[39;49mrequest\u001b[39m.\u001b[39;49mmethod,\n\u001b[1;32m    488\u001b[0m         url\u001b[39m=\u001b[39;49murl,\n\u001b[1;32m    489\u001b[0m         body\u001b[39m=\u001b[39;49mrequest\u001b[39m.\u001b[39;49mbody,\n\u001b[1;32m    490\u001b[0m         headers\u001b[39m=\u001b[39;49mrequest\u001b[39m.\u001b[39;49mheaders,\n\u001b[1;32m    491\u001b[0m         redirect\u001b[39m=\u001b[39;49m\u001b[39mFalse\u001b[39;49;00m,\n\u001b[1;32m    492\u001b[0m         assert_same_host\u001b[39m=\u001b[39;49m\u001b[39mFalse\u001b[39;49;00m,\n\u001b[1;32m    493\u001b[0m         preload_content\u001b[39m=\u001b[39;49m\u001b[39mFalse\u001b[39;49;00m,\n\u001b[1;32m    494\u001b[0m         decode_content\u001b[39m=\u001b[39;49m\u001b[39mFalse\u001b[39;49;00m,\n\u001b[1;32m    495\u001b[0m         retries\u001b[39m=\u001b[39;49m\u001b[39mself\u001b[39;49m\u001b[39m.\u001b[39;49mmax_retries,\n\u001b[1;32m    496\u001b[0m         timeout\u001b[39m=\u001b[39;49mtimeout,\n\u001b[1;32m    497\u001b[0m         chunked\u001b[39m=\u001b[39;49mchunked,\n\u001b[1;32m    498\u001b[0m     )\n\u001b[1;32m    500\u001b[0m \u001b[39mexcept\u001b[39;00m (ProtocolError, \u001b[39mOSError\u001b[39;00m) \u001b[39mas\u001b[39;00m err:\n\u001b[1;32m    501\u001b[0m     \u001b[39mraise\u001b[39;00m \u001b[39mConnectionError\u001b[39;00m(err, request\u001b[39m=\u001b[39mrequest)\n",
      "File \u001b[0;32m~/.virtualenvs/selenium/lib/python3.11/site-packages/urllib3/connectionpool.py:790\u001b[0m, in \u001b[0;36mHTTPConnectionPool.urlopen\u001b[0;34m(self, method, url, body, headers, retries, redirect, assert_same_host, timeout, pool_timeout, release_conn, chunked, body_pos, preload_content, decode_content, **response_kw)\u001b[0m\n\u001b[1;32m    787\u001b[0m response_conn \u001b[39m=\u001b[39m conn \u001b[39mif\u001b[39;00m \u001b[39mnot\u001b[39;00m release_conn \u001b[39melse\u001b[39;00m \u001b[39mNone\u001b[39;00m\n\u001b[1;32m    789\u001b[0m \u001b[39m# Make the request on the HTTPConnection object\u001b[39;00m\n\u001b[0;32m--> 790\u001b[0m response \u001b[39m=\u001b[39m \u001b[39mself\u001b[39;49m\u001b[39m.\u001b[39;49m_make_request(\n\u001b[1;32m    791\u001b[0m     conn,\n\u001b[1;32m    792\u001b[0m     method,\n\u001b[1;32m    793\u001b[0m     url,\n\u001b[1;32m    794\u001b[0m     timeout\u001b[39m=\u001b[39;49mtimeout_obj,\n\u001b[1;32m    795\u001b[0m     body\u001b[39m=\u001b[39;49mbody,\n\u001b[1;32m    796\u001b[0m     headers\u001b[39m=\u001b[39;49mheaders,\n\u001b[1;32m    797\u001b[0m     chunked\u001b[39m=\u001b[39;49mchunked,\n\u001b[1;32m    798\u001b[0m     retries\u001b[39m=\u001b[39;49mretries,\n\u001b[1;32m    799\u001b[0m     response_conn\u001b[39m=\u001b[39;49mresponse_conn,\n\u001b[1;32m    800\u001b[0m     preload_content\u001b[39m=\u001b[39;49mpreload_content,\n\u001b[1;32m    801\u001b[0m     decode_content\u001b[39m=\u001b[39;49mdecode_content,\n\u001b[1;32m    802\u001b[0m     \u001b[39m*\u001b[39;49m\u001b[39m*\u001b[39;49mresponse_kw,\n\u001b[1;32m    803\u001b[0m )\n\u001b[1;32m    805\u001b[0m \u001b[39m# Everything went great!\u001b[39;00m\n\u001b[1;32m    806\u001b[0m clean_exit \u001b[39m=\u001b[39m \u001b[39mTrue\u001b[39;00m\n",
      "File \u001b[0;32m~/.virtualenvs/selenium/lib/python3.11/site-packages/urllib3/connectionpool.py:536\u001b[0m, in \u001b[0;36mHTTPConnectionPool._make_request\u001b[0;34m(self, conn, method, url, body, headers, retries, timeout, chunked, response_conn, preload_content, decode_content, enforce_content_length)\u001b[0m\n\u001b[1;32m    534\u001b[0m \u001b[39m# Receive the response from the server\u001b[39;00m\n\u001b[1;32m    535\u001b[0m \u001b[39mtry\u001b[39;00m:\n\u001b[0;32m--> 536\u001b[0m     response \u001b[39m=\u001b[39m conn\u001b[39m.\u001b[39;49mgetresponse()\n\u001b[1;32m    537\u001b[0m \u001b[39mexcept\u001b[39;00m (BaseSSLError, \u001b[39mOSError\u001b[39;00m) \u001b[39mas\u001b[39;00m e:\n\u001b[1;32m    538\u001b[0m     \u001b[39mself\u001b[39m\u001b[39m.\u001b[39m_raise_timeout(err\u001b[39m=\u001b[39me, url\u001b[39m=\u001b[39murl, timeout_value\u001b[39m=\u001b[39mread_timeout)\n",
      "File \u001b[0;32m~/.virtualenvs/selenium/lib/python3.11/site-packages/urllib3/connection.py:454\u001b[0m, in \u001b[0;36mHTTPConnection.getresponse\u001b[0;34m(self)\u001b[0m\n\u001b[1;32m    451\u001b[0m \u001b[39mfrom\u001b[39;00m \u001b[39m.\u001b[39;00m\u001b[39mresponse\u001b[39;00m \u001b[39mimport\u001b[39;00m HTTPResponse\n\u001b[1;32m    453\u001b[0m \u001b[39m# Get the response from http.client.HTTPConnection\u001b[39;00m\n\u001b[0;32m--> 454\u001b[0m httplib_response \u001b[39m=\u001b[39m \u001b[39msuper\u001b[39;49m()\u001b[39m.\u001b[39;49mgetresponse()\n\u001b[1;32m    456\u001b[0m \u001b[39mtry\u001b[39;00m:\n\u001b[1;32m    457\u001b[0m     assert_header_parsing(httplib_response\u001b[39m.\u001b[39mmsg)\n",
      "File \u001b[0;32m/opt/homebrew/Cellar/python@3.11/3.11.3/Frameworks/Python.framework/Versions/3.11/lib/python3.11/http/client.py:1375\u001b[0m, in \u001b[0;36mHTTPConnection.getresponse\u001b[0;34m(self)\u001b[0m\n\u001b[1;32m   1373\u001b[0m \u001b[39mtry\u001b[39;00m:\n\u001b[1;32m   1374\u001b[0m     \u001b[39mtry\u001b[39;00m:\n\u001b[0;32m-> 1375\u001b[0m         response\u001b[39m.\u001b[39;49mbegin()\n\u001b[1;32m   1376\u001b[0m     \u001b[39mexcept\u001b[39;00m \u001b[39mConnectionError\u001b[39;00m:\n\u001b[1;32m   1377\u001b[0m         \u001b[39mself\u001b[39m\u001b[39m.\u001b[39mclose()\n",
      "File \u001b[0;32m/opt/homebrew/Cellar/python@3.11/3.11.3/Frameworks/Python.framework/Versions/3.11/lib/python3.11/http/client.py:318\u001b[0m, in \u001b[0;36mHTTPResponse.begin\u001b[0;34m(self)\u001b[0m\n\u001b[1;32m    316\u001b[0m \u001b[39m# read until we get a non-100 response\u001b[39;00m\n\u001b[1;32m    317\u001b[0m \u001b[39mwhile\u001b[39;00m \u001b[39mTrue\u001b[39;00m:\n\u001b[0;32m--> 318\u001b[0m     version, status, reason \u001b[39m=\u001b[39m \u001b[39mself\u001b[39;49m\u001b[39m.\u001b[39;49m_read_status()\n\u001b[1;32m    319\u001b[0m     \u001b[39mif\u001b[39;00m status \u001b[39m!=\u001b[39m CONTINUE:\n\u001b[1;32m    320\u001b[0m         \u001b[39mbreak\u001b[39;00m\n",
      "File \u001b[0;32m/opt/homebrew/Cellar/python@3.11/3.11.3/Frameworks/Python.framework/Versions/3.11/lib/python3.11/http/client.py:279\u001b[0m, in \u001b[0;36mHTTPResponse._read_status\u001b[0;34m(self)\u001b[0m\n\u001b[1;32m    278\u001b[0m \u001b[39mdef\u001b[39;00m \u001b[39m_read_status\u001b[39m(\u001b[39mself\u001b[39m):\n\u001b[0;32m--> 279\u001b[0m     line \u001b[39m=\u001b[39m \u001b[39mstr\u001b[39m(\u001b[39mself\u001b[39m\u001b[39m.\u001b[39mfp\u001b[39m.\u001b[39mreadline(_MAXLINE \u001b[39m+\u001b[39m \u001b[39m1\u001b[39m), \u001b[39m\"\u001b[39m\u001b[39miso-8859-1\u001b[39m\u001b[39m\"\u001b[39m)\n\u001b[1;32m    280\u001b[0m     \u001b[39mif\u001b[39;00m \u001b[39mlen\u001b[39m(line) \u001b[39m>\u001b[39m _MAXLINE:\n\u001b[1;32m    281\u001b[0m         \u001b[39mraise\u001b[39;00m LineTooLong(\u001b[39m\"\u001b[39m\u001b[39mstatus line\u001b[39m\u001b[39m\"\u001b[39m)\n",
      "File \u001b[0;32m/opt/homebrew/Cellar/python@3.11/3.11.3/Frameworks/Python.framework/Versions/3.11/lib/python3.11/socket.py:706\u001b[0m, in \u001b[0;36mSocketIO.readinto\u001b[0;34m(self, b)\u001b[0m\n\u001b[1;32m    704\u001b[0m \u001b[39mwhile\u001b[39;00m \u001b[39mTrue\u001b[39;00m:\n\u001b[1;32m    705\u001b[0m     \u001b[39mtry\u001b[39;00m:\n\u001b[0;32m--> 706\u001b[0m         \u001b[39mreturn\u001b[39;00m \u001b[39mself\u001b[39;49m\u001b[39m.\u001b[39;49m_sock\u001b[39m.\u001b[39;49mrecv_into(b)\n\u001b[1;32m    707\u001b[0m     \u001b[39mexcept\u001b[39;00m timeout:\n\u001b[1;32m    708\u001b[0m         \u001b[39mself\u001b[39m\u001b[39m.\u001b[39m_timeout_occurred \u001b[39m=\u001b[39m \u001b[39mTrue\u001b[39;00m\n",
      "File \u001b[0;32m/opt/homebrew/Cellar/python@3.11/3.11.3/Frameworks/Python.framework/Versions/3.11/lib/python3.11/ssl.py:1278\u001b[0m, in \u001b[0;36mSSLSocket.recv_into\u001b[0;34m(self, buffer, nbytes, flags)\u001b[0m\n\u001b[1;32m   1274\u001b[0m     \u001b[39mif\u001b[39;00m flags \u001b[39m!=\u001b[39m \u001b[39m0\u001b[39m:\n\u001b[1;32m   1275\u001b[0m         \u001b[39mraise\u001b[39;00m \u001b[39mValueError\u001b[39;00m(\n\u001b[1;32m   1276\u001b[0m           \u001b[39m\"\u001b[39m\u001b[39mnon-zero flags not allowed in calls to recv_into() on \u001b[39m\u001b[39m%s\u001b[39;00m\u001b[39m\"\u001b[39m \u001b[39m%\u001b[39m\n\u001b[1;32m   1277\u001b[0m           \u001b[39mself\u001b[39m\u001b[39m.\u001b[39m\u001b[39m__class__\u001b[39m)\n\u001b[0;32m-> 1278\u001b[0m     \u001b[39mreturn\u001b[39;00m \u001b[39mself\u001b[39;49m\u001b[39m.\u001b[39;49mread(nbytes, buffer)\n\u001b[1;32m   1279\u001b[0m \u001b[39melse\u001b[39;00m:\n\u001b[1;32m   1280\u001b[0m     \u001b[39mreturn\u001b[39;00m \u001b[39msuper\u001b[39m()\u001b[39m.\u001b[39mrecv_into(buffer, nbytes, flags)\n",
      "File \u001b[0;32m/opt/homebrew/Cellar/python@3.11/3.11.3/Frameworks/Python.framework/Versions/3.11/lib/python3.11/ssl.py:1134\u001b[0m, in \u001b[0;36mSSLSocket.read\u001b[0;34m(self, len, buffer)\u001b[0m\n\u001b[1;32m   1132\u001b[0m \u001b[39mtry\u001b[39;00m:\n\u001b[1;32m   1133\u001b[0m     \u001b[39mif\u001b[39;00m buffer \u001b[39mis\u001b[39;00m \u001b[39mnot\u001b[39;00m \u001b[39mNone\u001b[39;00m:\n\u001b[0;32m-> 1134\u001b[0m         \u001b[39mreturn\u001b[39;00m \u001b[39mself\u001b[39;49m\u001b[39m.\u001b[39;49m_sslobj\u001b[39m.\u001b[39;49mread(\u001b[39mlen\u001b[39;49m, buffer)\n\u001b[1;32m   1135\u001b[0m     \u001b[39melse\u001b[39;00m:\n\u001b[1;32m   1136\u001b[0m         \u001b[39mreturn\u001b[39;00m \u001b[39mself\u001b[39m\u001b[39m.\u001b[39m_sslobj\u001b[39m.\u001b[39mread(\u001b[39mlen\u001b[39m)\n",
      "\u001b[0;31mKeyboardInterrupt\u001b[0m: "
     ]
    }
   ],
   "source": [
    "from langchain.chat_models import ChatOpenAI\n",
    "docs = [Document(page_content=t) for t in texts]\n",
    "chain = load_summarize_chain(ChatOpenAI(), chain_type=\"map_reduce\")\n",
    "chain.run(docs)"
   ]
  },
  {
   "cell_type": "code",
   "execution_count": 81,
   "metadata": {},
   "outputs": [
    {
     "data": {
      "text/html": [
       "<div>\n",
       "<style scoped>\n",
       "    .dataframe tbody tr th:only-of-type {\n",
       "        vertical-align: middle;\n",
       "    }\n",
       "\n",
       "    .dataframe tbody tr th {\n",
       "        vertical-align: top;\n",
       "    }\n",
       "\n",
       "    .dataframe thead th {\n",
       "        text-align: right;\n",
       "    }\n",
       "</style>\n",
       "<table border=\"1\" class=\"dataframe\">\n",
       "  <thead>\n",
       "    <tr style=\"text-align: right;\">\n",
       "      <th></th>\n",
       "      <th>text</th>\n",
       "      <th>title</th>\n",
       "      <th>url</th>\n",
       "    </tr>\n",
       "  </thead>\n",
       "  <tbody>\n",
       "    <tr>\n",
       "      <th>0</th>\n",
       "      <td>Cocos (Keeling) Islands Act 1955 No.34, 1955 C...</td>\n",
       "      <td>Cocos (Keeling) Islands Act 1955</td>\n",
       "      <td>https://www.legislation.gov.au/Details/C2021C0...</td>\n",
       "    </tr>\n",
       "    <tr>\n",
       "      <th>1</th>\n",
       "      <td>CSL Sale Act 1993 No.88, 1993 Compilation No.7...</td>\n",
       "      <td>CSL Sale Act 1993</td>\n",
       "      <td>https://www.legislation.gov.au/Details/C2018C0...</td>\n",
       "    </tr>\n",
       "    <tr>\n",
       "      <th>2</th>\n",
       "      <td>Immigration (Guardianship of Children) Act 194...</td>\n",
       "      <td>Immigration (Guardianship of Children) Act 1946</td>\n",
       "      <td>https://www.legislation.gov.au/Details/C2016C0...</td>\n",
       "    </tr>\n",
       "    <tr>\n",
       "      <th>3</th>\n",
       "      <td>Air Navigation Act 1920 No.50, 1920 Compilatio...</td>\n",
       "      <td>Air Navigation Act 1920</td>\n",
       "      <td>https://www.legislation.gov.au/Details/C2016C0...</td>\n",
       "    </tr>\n",
       "    <tr>\n",
       "      <th>4</th>\n",
       "      <td>Telstra Corporation Act 1991 No.79, 1991 Compi...</td>\n",
       "      <td>Telstra Corporation Act 1991</td>\n",
       "      <td>https://www.legislation.gov.au/Details/C2022C0...</td>\n",
       "    </tr>\n",
       "    <tr>\n",
       "      <th>...</th>\n",
       "      <td>...</td>\n",
       "      <td>...</td>\n",
       "      <td>...</td>\n",
       "    </tr>\n",
       "    <tr>\n",
       "      <th>1203</th>\n",
       "      <td>Australian Defence Force Cover Act 2015 No.118...</td>\n",
       "      <td>Australian Defence Force Cover Act 2015</td>\n",
       "      <td>https://www.legislation.gov.au/Details/C2022C0...</td>\n",
       "    </tr>\n",
       "    <tr>\n",
       "      <th>1204</th>\n",
       "      <td>Domicile Act 1982 No.1, 1982 Compilation No.4 ...</td>\n",
       "      <td>Domicile Act 1982</td>\n",
       "      <td>https://www.legislation.gov.au/Details/C2019C0...</td>\n",
       "    </tr>\n",
       "    <tr>\n",
       "      <th>1205</th>\n",
       "      <td>Loan Act 1973   No. 19 of 1973       AN ACT To...</td>\n",
       "      <td>Loan Act 1973</td>\n",
       "      <td>https://www.legislation.gov.au/Details/C2004A0...</td>\n",
       "    </tr>\n",
       "    <tr>\n",
       "      <th>1206</th>\n",
       "      <td>Age Discrimination Act 2004 No.68, 2004 Compil...</td>\n",
       "      <td>Age Discrimination Act 2004</td>\n",
       "      <td>https://www.legislation.gov.au/Details/C2022C0...</td>\n",
       "    </tr>\n",
       "    <tr>\n",
       "      <th>1207</th>\n",
       "      <td>Great Barrier Reef Marine Park (Environmental ...</td>\n",
       "      <td>Great Barrier Reef Marine Park (Environmental ...</td>\n",
       "      <td>https://www.legislation.gov.au/Details/C2008C0...</td>\n",
       "    </tr>\n",
       "  </tbody>\n",
       "</table>\n",
       "<p>1208 rows × 3 columns</p>\n",
       "</div>"
      ],
      "text/plain": [
       "                                                   text   \n",
       "0     Cocos (Keeling) Islands Act 1955 No.34, 1955 C...  \\\n",
       "1     CSL Sale Act 1993 No.88, 1993 Compilation No.7...   \n",
       "2     Immigration (Guardianship of Children) Act 194...   \n",
       "3     Air Navigation Act 1920 No.50, 1920 Compilatio...   \n",
       "4     Telstra Corporation Act 1991 No.79, 1991 Compi...   \n",
       "...                                                 ...   \n",
       "1203  Australian Defence Force Cover Act 2015 No.118...   \n",
       "1204  Domicile Act 1982 No.1, 1982 Compilation No.4 ...   \n",
       "1205  Loan Act 1973   No. 19 of 1973       AN ACT To...   \n",
       "1206  Age Discrimination Act 2004 No.68, 2004 Compil...   \n",
       "1207  Great Barrier Reef Marine Park (Environmental ...   \n",
       "\n",
       "                                                  title   \n",
       "0                      Cocos (Keeling) Islands Act 1955  \\\n",
       "1                                     CSL Sale Act 1993   \n",
       "2       Immigration (Guardianship of Children) Act 1946   \n",
       "3                               Air Navigation Act 1920   \n",
       "4                          Telstra Corporation Act 1991   \n",
       "...                                                 ...   \n",
       "1203            Australian Defence Force Cover Act 2015   \n",
       "1204                                  Domicile Act 1982   \n",
       "1205                                      Loan Act 1973   \n",
       "1206                        Age Discrimination Act 2004   \n",
       "1207  Great Barrier Reef Marine Park (Environmental ...   \n",
       "\n",
       "                                                    url  \n",
       "0     https://www.legislation.gov.au/Details/C2021C0...  \n",
       "1     https://www.legislation.gov.au/Details/C2018C0...  \n",
       "2     https://www.legislation.gov.au/Details/C2016C0...  \n",
       "3     https://www.legislation.gov.au/Details/C2016C0...  \n",
       "4     https://www.legislation.gov.au/Details/C2022C0...  \n",
       "...                                                 ...  \n",
       "1203  https://www.legislation.gov.au/Details/C2022C0...  \n",
       "1204  https://www.legislation.gov.au/Details/C2019C0...  \n",
       "1205  https://www.legislation.gov.au/Details/C2004A0...  \n",
       "1206  https://www.legislation.gov.au/Details/C2022C0...  \n",
       "1207  https://www.legislation.gov.au/Details/C2008C0...  \n",
       "\n",
       "[1208 rows x 3 columns]"
      ]
     },
     "execution_count": 81,
     "metadata": {},
     "output_type": "execute_result"
    }
   ],
   "source": [
    "df"
   ]
  },
  {
   "cell_type": "code",
   "execution_count": 82,
   "metadata": {},
   "outputs": [
    {
     "data": {
      "text/plain": [
       "121878805"
      ]
     },
     "execution_count": 82,
     "metadata": {},
     "output_type": "execute_result"
    }
   ],
   "source": [
    "total_characters = df['text'].str.len().sum()\n",
    "total_characters"
   ]
  },
  {
   "cell_type": "code",
   "execution_count": 84,
   "metadata": {},
   "outputs": [],
   "source": [
    "total_tokens = total_characters / 4 * 3"
   ]
  },
  {
   "cell_type": "code",
   "execution_count": 86,
   "metadata": {},
   "outputs": [
    {
     "data": {
      "text/plain": [
       "36.5636415"
      ]
     },
     "execution_count": 86,
     "metadata": {},
     "output_type": "execute_result"
    }
   ],
   "source": [
    "total_cost = total_tokens * 0.0004 / 1000\n",
    "total_cost"
   ]
  }
 ],
 "metadata": {
  "kernelspec": {
   "display_name": "selenium",
   "language": "python",
   "name": "python3"
  },
  "language_info": {
   "codemirror_mode": {
    "name": "ipython",
    "version": 3
   },
   "file_extension": ".py",
   "mimetype": "text/x-python",
   "name": "python",
   "nbconvert_exporter": "python",
   "pygments_lexer": "ipython3",
   "version": "3.11.3"
  },
  "orig_nbformat": 4
 },
 "nbformat": 4,
 "nbformat_minor": 2
}
