{
 "cells": [
  {
   "attachments": {},
   "cell_type": "markdown",
   "metadata": {},
   "source": [
    "## Utils\n"
   ]
  },
  {
   "cell_type": "code",
   "execution_count": 4,
   "metadata": {},
   "outputs": [],
   "source": [
    "import os\n",
    "import shutil\n",
    "\n",
    "\n",
    "def copy_directory(src, dst):\n",
    "    try:\n",
    "        shutil.copytree(src, dst)\n",
    "    except OSError as e:\n",
    "        print('Directory not copied. Error: %s' % e)"
   ]
  },
  {
   "cell_type": "code",
   "execution_count": 5,
   "metadata": {},
   "outputs": [],
   "source": [
    "def copy_file(src, dst):\n",
    "    try:\n",
    "        shutil.copy(src, dst)\n",
    "    except OSError as e:\n",
    "        print('File not copied. Error: %s' % e)"
   ]
  },
  {
   "attachments": {},
   "cell_type": "markdown",
   "metadata": {},
   "source": [
    "## Remove anchors\n"
   ]
  },
  {
   "cell_type": "code",
   "execution_count": 8,
   "metadata": {},
   "outputs": [],
   "source": [
    "import os\n",
    "from bs4 import BeautifulSoup\n",
    "\n",
    "\n",
    "def remove_links(root_dir):\n",
    "    for legislation_folder in os.listdir(root_dir):\n",
    "        folder_path = os.path.join(root_dir, legislation_folder)\n",
    "        if os.path.isdir(folder_path):\n",
    "            for html_file in os.listdir(folder_path):\n",
    "                if html_file != 'index.html':\n",
    "                    html_file_path = os.path.join(folder_path, html_file)\n",
    "                    with open(html_file_path, 'r', errors='ignore') as f:  # ignore decode errors\n",
    "                        html = f.read()\n",
    "                        soup = BeautifulSoup(html, 'html.parser')\n",
    "\n",
    "                        for a in soup.find_all('a'):\n",
    "                            # Replace the 'a' tag with its text content\n",
    "                            a.replace_with(a.text)\n",
    "\n",
    "                    # Re-encode the file in UTF-8 while writing\n",
    "                    with open(html_file_path, 'w', encoding='utf-8') as f:\n",
    "                        f.write(str(soup))"
   ]
  },
  {
   "cell_type": "code",
   "execution_count": 30,
   "metadata": {},
   "outputs": [
    {
     "ename": "KeyboardInterrupt",
     "evalue": "",
     "output_type": "error",
     "traceback": [
      "\u001b[0;31m---------------------------------------------------------------------------\u001b[0m",
      "\u001b[0;31mKeyboardInterrupt\u001b[0m                         Traceback (most recent call last)",
      "Cell \u001b[0;32mIn[30], line 2\u001b[0m\n\u001b[1;32m      1\u001b[0m dst \u001b[39m=\u001b[39m \u001b[39m'\u001b[39m\u001b[39m../COPY_ACT-LEGISLATION_HTML/\u001b[39m\u001b[39m'\u001b[39m\n\u001b[0;32m----> 2\u001b[0m remove_links(dst)\n",
      "Cell \u001b[0;32mIn[8], line 20\u001b[0m, in \u001b[0;36mremove_links\u001b[0;34m(root_dir)\u001b[0m\n\u001b[1;32m     18\u001b[0m \u001b[39m# Re-encode the file in UTF-8 while writing\u001b[39;00m\n\u001b[1;32m     19\u001b[0m \u001b[39mwith\u001b[39;00m \u001b[39mopen\u001b[39m(html_file_path, \u001b[39m'\u001b[39m\u001b[39mw\u001b[39m\u001b[39m'\u001b[39m, encoding\u001b[39m=\u001b[39m\u001b[39m'\u001b[39m\u001b[39mutf-8\u001b[39m\u001b[39m'\u001b[39m) \u001b[39mas\u001b[39;00m f:\n\u001b[0;32m---> 20\u001b[0m     f\u001b[39m.\u001b[39mwrite(\u001b[39mstr\u001b[39m(soup))\n",
      "File \u001b[0;32m~/.virtualenvs/selenium/lib/python3.11/site-packages/bs4/element.py:1657\u001b[0m, in \u001b[0;36mTag.__unicode__\u001b[0;34m(self)\u001b[0m\n\u001b[1;32m   1654\u001b[0m     \u001b[39m# \"The return value must be a string object\", i.e. Unicode\u001b[39;00m\n\u001b[1;32m   1655\u001b[0m     \u001b[39mreturn\u001b[39;00m \u001b[39mself\u001b[39m\u001b[39m.\u001b[39mdecode()\n\u001b[0;32m-> 1657\u001b[0m \u001b[39mdef\u001b[39;00m \u001b[39m__unicode__\u001b[39m(\u001b[39mself\u001b[39m):\n\u001b[1;32m   1658\u001b[0m \u001b[39m    \u001b[39m\u001b[39m\"\"\"Renders this PageElement as a Unicode string.\"\"\"\u001b[39;00m\n\u001b[1;32m   1659\u001b[0m     \u001b[39mreturn\u001b[39;00m \u001b[39mself\u001b[39m\u001b[39m.\u001b[39mdecode()\n",
      "\u001b[0;31mKeyboardInterrupt\u001b[0m: "
     ]
    }
   ],
   "source": [
    "dst = '../COPY_ACT-LEGISLATION_HTML/'\n",
    "remove_links(dst)"
   ]
  },
  {
   "attachments": {},
   "cell_type": "markdown",
   "metadata": {},
   "source": [
    "## Change section_url format\n"
   ]
  },
  {
   "cell_type": "code",
   "execution_count": 10,
   "metadata": {},
   "outputs": [],
   "source": [
    "copy_file('../legislations.json', '../COPY_legislations.json')"
   ]
  },
  {
   "cell_type": "code",
   "execution_count": 11,
   "metadata": {},
   "outputs": [],
   "source": [
    "import json\n",
    "\n",
    "\n",
    "def remove_date_from_url(json_file_path):\n",
    "    with open(json_file_path, 'r') as f:\n",
    "        data = json.load(f)\n",
    "\n",
    "    # Iterate over each legislation and section\n",
    "    for legislation in data:\n",
    "        for section in legislation['sections']:\n",
    "            # Replace the date in the URL\n",
    "            section['section_url'] = section['section_url'].replace(\n",
    "                '2023-05-27__', '')\n",
    "\n",
    "    # Write the updated data back to the file\n",
    "    with open(json_file_path, 'w') as f:\n",
    "        json.dump(data, f, indent=2)"
   ]
  },
  {
   "cell_type": "code",
   "execution_count": 12,
   "metadata": {},
   "outputs": [],
   "source": [
    "remove_date_from_url('../COPY_legislations.json')"
   ]
  },
  {
   "attachments": {},
   "cell_type": "markdown",
   "metadata": {},
   "source": [
    "## Remove comments\n"
   ]
  },
  {
   "cell_type": "code",
   "execution_count": 1,
   "metadata": {},
   "outputs": [],
   "source": [
    "import os\n",
    "from bs4 import BeautifulSoup, Comment\n",
    "\n",
    "\n",
    "def remove_comments(root_dir):\n",
    "    for legislation_folder in os.listdir(root_dir):\n",
    "        folder_path = os.path.join(root_dir, legislation_folder)\n",
    "        if os.path.isdir(folder_path):\n",
    "            for html_file in os.listdir(folder_path):\n",
    "                html_file_path = os.path.join(folder_path, html_file)\n",
    "                with open(html_file_path, 'r+', errors='ignore') as f:\n",
    "                    html = f.read()\n",
    "                    soup = BeautifulSoup(html, 'html.parser')\n",
    "\n",
    "                    # find all comments and remove those matching \"<!--sino noindex-->\"\n",
    "                    comments = soup.findAll(\n",
    "                        text=lambda text: isinstance(text, Comment))\n",
    "                    for comment in comments:\n",
    "                        if 'sino noindex' in comment:\n",
    "                            comment.extract()\n",
    "\n",
    "                    # write the modified html back to the file\n",
    "                    f.seek(0)\n",
    "                    f.write(str(soup))\n",
    "                    f.truncate()"
   ]
  },
  {
   "cell_type": "code",
   "execution_count": 31,
   "metadata": {},
   "outputs": [
    {
     "name": "stderr",
     "output_type": "stream",
     "text": [
      "/var/folders/yd/3bdpyyb547s713ff43d7y8g40000gn/T/ipykernel_15241/3405341481.py:15: DeprecationWarning: The 'text' argument to find()-type methods is deprecated. Use 'string' instead.\n",
      "  comments = soup.findAll(text=lambda text: isinstance(text, Comment))\n"
     ]
    }
   ],
   "source": [
    "# copy_directory('../ACT-LEGISLATION_HTML/', '../COPY_ACT-LEGISLATION_HTML/')\n",
    "remove_comments(dst)"
   ]
  },
  {
   "attachments": {},
   "cell_type": "markdown",
   "metadata": {},
   "source": [
    "## Map section_order to numbers\n"
   ]
  },
  {
   "cell_type": "code",
   "execution_count": 1,
   "metadata": {},
   "outputs": [],
   "source": [
    "import json\n",
    "import re\n",
    "\n",
    "\n",
    "def edit_json(filename):\n",
    "    # Load JSON\n",
    "    with open(filename, 'r') as f:\n",
    "        data = json.load(f)\n",
    "\n",
    "    # Order mapping\n",
    "    order_mapping = {'index': 1, 'long_name': 2,\n",
    "                     'section': 3, 'schedule': 4, 'notes': 5}\n",
    "\n",
    "    # Edit JSON\n",
    "    for legislation in data:\n",
    "        for section in legislation['sections']:\n",
    "            # Determine category\n",
    "            if section['section_name'].lower() == 'index':\n",
    "                category = 'index'\n",
    "            elif section['section_name'].lower() == 'long title':\n",
    "                category = 'long_name'\n",
    "            elif section['section_name'].lower().startswith('schedule'):\n",
    "                category = 'schedule'\n",
    "            elif section['section_name'].lower() == 'notes':\n",
    "                category = 'notes'\n",
    "            else:\n",
    "                category = 'section'\n",
    "\n",
    "            # Assign order value\n",
    "            section['order_value'] = order_mapping[category]\n",
    "\n",
    "            # Split section_order into prefix and suffix parts\n",
    "            match = re.match(r\"([0-9]+)([a-z]*)\",\n",
    "                             section['section_order'], re.I)\n",
    "            if match:\n",
    "                items = match.groups()\n",
    "            else:\n",
    "                items = (section['section_order'],)\n",
    "            section['section_order_prefix'] = items[0]\n",
    "            section['section_order_suffix'] = items[1] if len(\n",
    "                items) > 1 else ''\n",
    "\n",
    "    # Save JSON\n",
    "    with open(filename, 'w') as f:\n",
    "        json.dump(data, f, indent=4)"
   ]
  },
  {
   "cell_type": "code",
   "execution_count": 6,
   "metadata": {},
   "outputs": [],
   "source": [
    "copy_file('/Users/home/gh/selenium/prisma/act_legislation.json',\n",
    "          '../COPY_act_legislation.json')\n",
    "edit_json('../COPY_act_legislation.json')"
   ]
  },
  {
   "attachments": {},
   "cell_type": "markdown",
   "metadata": {},
   "source": [
    "## Remove unnecessary line breaks\n"
   ]
  },
  {
   "cell_type": "code",
   "execution_count": 11,
   "metadata": {},
   "outputs": [],
   "source": [
    "import os\n",
    "\n",
    "\n",
    "def remove_string_from_files(root_directory, file_name, string_to_remove):\n",
    "    for directory_path, directory_names, file_names in os.walk(root_directory):\n",
    "        if file_name in file_names:\n",
    "            file_path = os.path.join(directory_path, file_name)\n",
    "            with open(file_path, 'r', encoding='utf-8') as file:\n",
    "                data = file.read()\n",
    "            data = data.replace(string_to_remove, \"\")\n",
    "            with open(file_path, 'w', encoding='utf-8') as file:\n",
    "                file.write(data)\n",
    "\n",
    "# use function"
   ]
  },
  {
   "cell_type": "code",
   "execution_count": 33,
   "metadata": {},
   "outputs": [],
   "source": [
    "a = '<p><br/><br/><font size=\"2\"></font><font size=\"1\"></font><br/><br/><font size=\"1\">\\n</font><br/><br/><font size=\"1\"> </font><br/><br/><font size=\"1\">\\n</font><br/><br/></p>'\n",
    "b = '<p><br/><br/><font size=\"2\"></font><font size=\"1\"></font><br/><br/><font size=\"1\">\\n</font><br/><br/><font size=\"1\"> </font><br/><br/><font size=\"1\"> </font></p><p align=\"right\"></p>'\n",
    "c = '<p><br/><br/><font size=\"2\"></font><font size=\"1\"></font><br/><br/><font size=\"1\"></font><br/><br/><font size=\"1\"> </font><br/><br/><font size=\"1\"></font><br/><br/><br/><br/></p>'\n",
    "remove_string_from_files(dst, 'LONG TITLE.html', a)\n",
    "remove_string_from_files(dst, 'LONG TITLE.html', b)\n",
    "remove_string_from_files(dst, 'LONG TITLE.html', c)"
   ]
  },
  {
   "attachments": {},
   "cell_type": "markdown",
   "metadata": {},
   "source": [
    "## Combine html files\n"
   ]
  },
  {
   "cell_type": "code",
   "execution_count": 34,
   "metadata": {},
   "outputs": [],
   "source": [
    "import os\n",
    "import re\n",
    "\n",
    "\n",
    "def concatenate_html_files(dir_path):\n",
    "    # define the regex pattern for s#.html and sch-#.html\n",
    "    s_pattern = re.compile(r'^s(\\d+)([a-zA-Z]*)\\.html$')\n",
    "    sch_pattern = re.compile(r'^sch-(\\d+)([a-zA-Z]*)\\.html$')\n",
    "\n",
    "    for root, dirs, files in os.walk(dir_path):\n",
    "        # sort all the html files\n",
    "        html_files = sorted(f for f in files if f.endswith('.html'))\n",
    "\n",
    "        ordered_files = []\n",
    "        if 'LONG TITLE.html' in html_files:\n",
    "            ordered_files.append('LONG TITLE.html')\n",
    "            html_files.remove('LONG TITLE.html')\n",
    "\n",
    "        s_files = sorted((f for f in html_files if s_pattern.match(f)),\n",
    "                         key=lambda x: (int(s_pattern.match(x).group(1)), s_pattern.match(x).group(2)))\n",
    "        ordered_files.extend(s_files)\n",
    "\n",
    "        sch_files = sorted((f for f in html_files if sch_pattern.match(f)),\n",
    "                           key=lambda x: (int(sch_pattern.match(x).group(1)), sch_pattern.match(x).group(2)))\n",
    "        ordered_files.extend(sch_files)\n",
    "\n",
    "        if 'NOTES.html' in html_files:\n",
    "            ordered_files.append('NOTES.html')\n",
    "\n",
    "        # combine all html files into one\n",
    "        with open(os.path.join(root, 'combined.html'), 'w') as outfile:\n",
    "            for fname in ordered_files:\n",
    "                with open(os.path.join(root, fname)) as infile:\n",
    "                    outfile.write(infile.read())"
   ]
  },
  {
   "cell_type": "code",
   "execution_count": 35,
   "metadata": {},
   "outputs": [],
   "source": [
    "dir_path = '../COPY_ACT-LEGISLATION_HTML/BAIL ACT 1992'\n",
    "concatenate_html_files(dir_path)"
   ]
  },
  {
   "cell_type": "code",
   "execution_count": 36,
   "metadata": {},
   "outputs": [],
   "source": [
    "dir_path = '../COPY_ACT-LEGISLATION_HTML'\n",
    "concatenate_html_files(dir_path)"
   ]
  },
  {
   "attachments": {},
   "cell_type": "markdown",
   "metadata": {},
   "source": [
    "## Remove redundant h3 and rename h1 to h2\n"
   ]
  },
  {
   "cell_type": "code",
   "execution_count": 37,
   "metadata": {},
   "outputs": [],
   "source": [
    "import os\n",
    "from bs4 import BeautifulSoup\n",
    "\n",
    "\n",
    "def modify_html_tags(directory):\n",
    "    # Walk the directory\n",
    "    for dirpath, dirnames, filenames in os.walk(directory):\n",
    "        for filename in filenames:\n",
    "            if filename.endswith('.html'):\n",
    "                filepath = os.path.join(dirpath, filename)\n",
    "\n",
    "                # Open and read the file\n",
    "                with open(filepath, 'r') as file:\n",
    "                    html_content = file.read()\n",
    "\n",
    "                # Parse the HTML with BeautifulSoup\n",
    "                soup = BeautifulSoup(html_content, 'html.parser')\n",
    "\n",
    "                # Find all h3 tags and remove them\n",
    "                for h3_tag in soup.find_all('h3'):\n",
    "                    h3_tag.decompose()\n",
    "\n",
    "                # Find all h1 tags and change them to h2\n",
    "                for h1_tag in soup.find_all('h1'):\n",
    "                    h1_tag.name = 'h2'\n",
    "\n",
    "                # Write the modified HTML back to the file\n",
    "                with open(filepath, 'w') as file:\n",
    "                    file.write(str(soup))"
   ]
  },
  {
   "cell_type": "code",
   "execution_count": 39,
   "metadata": {},
   "outputs": [],
   "source": [
    "copy_directory('../ACT-LEGISLATION_HTML/', '../COPY_ACT-LEGISLATION_HTML/')"
   ]
  },
  {
   "cell_type": "code",
   "execution_count": 40,
   "metadata": {},
   "outputs": [],
   "source": [
    "dir_path = '../COPY_ACT-LEGISLATION_HTML/BAIL ACT 1992'\n",
    "modify_html_tags(dir_path)"
   ]
  },
  {
   "cell_type": "code",
   "execution_count": 41,
   "metadata": {},
   "outputs": [],
   "source": [
    "modify_html_tags('../COPY_ACT-LEGISLATION_HTML')"
   ]
  },
  {
   "cell_type": "code",
   "execution_count": null,
   "metadata": {},
   "outputs": [],
   "source": []
  }
 ],
 "metadata": {
  "kernelspec": {
   "display_name": "selenium",
   "language": "python",
   "name": "python3"
  },
  "language_info": {
   "codemirror_mode": {
    "name": "ipython",
    "version": 3
   },
   "file_extension": ".py",
   "mimetype": "text/x-python",
   "name": "python",
   "nbconvert_exporter": "python",
   "pygments_lexer": "ipython3",
   "version": "3.11.3"
  },
  "orig_nbformat": 4
 },
 "nbformat": 4,
 "nbformat_minor": 2
}
