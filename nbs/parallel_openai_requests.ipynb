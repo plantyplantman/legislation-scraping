{
 "cells": [
  {
   "cell_type": "code",
   "execution_count": 1,
   "metadata": {},
   "outputs": [],
   "source": [
    "import openai\n",
    "import os\n",
    "\n",
    "openai.api_key = os.getenv(\"OPENAI_API_KEY\")"
   ]
  },
  {
   "cell_type": "code",
   "execution_count": 50,
   "metadata": {},
   "outputs": [],
   "source": [
    "# Function to generate text\n",
    "import time\n",
    "import random\n",
    "\n",
    "def generate_text(user_prompt,system_prompt,  max_retries=5, model=\"gpt-3.5-turbo\"):\n",
    "    if system_prompt:\n",
    "        messages = [{\"role\": \"system\", \"content\": system_prompt},{\"role\": \"user\", \"content\": user_prompt}]\n",
    "    else:\n",
    "        messages = [{\"role\": \"user\", \"content\": user_prompt}]\n",
    "    for i in range(max_retries):\n",
    "        try:\n",
    "            response = openai.ChatCompletion.create(\n",
    "                model=model,\n",
    "                messages=messages,\n",
    "                temperature=0.0,\n",
    "                top_p=1,\n",
    "            )\n",
    "            return response\n",
    "        except Exception as e:\n",
    "            wait_time = (2 ** i) + (random.randint(0, 1000) / 1000)\n",
    "            print(f\"Exception occurred: {e}, retrying in {wait_time} seconds...\")\n",
    "            time.sleep(wait_time)\n",
    "    raise Exception(f\"Failed to generate text after {max_retries} retries.\")"
   ]
  },
  {
   "cell_type": "code",
   "execution_count": 52,
   "metadata": {},
   "outputs": [],
   "source": [
    "# Function to generate text concurrently\n",
    "import concurrent.futures\n",
    "from typing import List, Tuple, Union\n",
    "\n",
    "def concurrent_generate_text(prompts: Union[List[str], List[Tuple[str, str]]]) -> List[str]:\n",
    "    responses = []\n",
    "    with concurrent.futures.ThreadPoolExecutor() as executor:\n",
    "        if isinstance(prompts[0], tuple):\n",
    "            futures = {executor.submit(generate_text, user_prompt, system_prompt) for system_prompt, user_prompt in prompts}\n",
    "        else:\n",
    "            futures = {executor.submit(generate_text, user_prompt) for user_prompt in prompts}\n",
    "        for future in concurrent.futures.as_completed(futures):\n",
    "            try:\n",
    "                response = future.result()\n",
    "                responses.append(response)\n",
    "            except Exception as exc:\n",
    "                print(f'Generated an exception: {exc}')\n",
    "    return responses"
   ]
  },
  {
   "cell_type": "code",
   "execution_count": 4,
   "metadata": {},
   "outputs": [],
   "source": [
    "# Function to read file to string -> string\n",
    "def read_file(file_path: str) -> str:\n",
    "    \"\"\"Reads file & returns contents as string\"\"\"\n",
    "    with open(file_path, 'r') as f:\n",
    "        return f.read()"
   ]
  },
  {
   "cell_type": "code",
   "execution_count": 59,
   "metadata": {},
   "outputs": [],
   "source": [
    "# Function to write string to file -> None\n",
    "def write_file(file_path: str, contents: str) -> None:\n",
    "    \"\"\"Writes string to file\"\"\"\n",
    "    with open(file_path, 'w') as f:\n",
    "        f.write(contents)"
   ]
  },
  {
   "cell_type": "code",
   "execution_count": 5,
   "metadata": {},
   "outputs": [],
   "source": [
    "# Function to calculate number of tokens -> int\n",
    "import tiktoken\n",
    "def get_tokens(text: str, model: str = \"gpt-3.5-turbo\") -> int:\n",
    "    \"\"\"Calculates number of tokens in text\"\"\"\n",
    "    encoding = tiktoken.encoding_for_model(model)\n",
    "    tokens = encoding.encode(text)\n",
    "    num_tokens = len(tokens)\n",
    "    return num_tokens"
   ]
  },
  {
   "cell_type": "code",
   "execution_count": 6,
   "metadata": {},
   "outputs": [],
   "source": [
    "# Function to calculate cost -> none\n",
    "from typing import List\n",
    "def calculate_cost(texts: List[str], model: \"gpt-3.5-turbo\") -> None:\n",
    "    \"\"\"Calculates cost of text\"\"\"\n",
    "\n",
    "    models = ['gpt-3.5-turbo', 'text-embedding-ada-002', 'gpt-4', 'davinci']\n",
    "    if model not in models:\n",
    "        raise Exception(f\"Model {model} not found. Available models: {models}\")\n",
    "    \n",
    "    if model == 'gpt-3.5-turbo':\n",
    "        dollar_per_1k_tokens = 0.002\n",
    "    elif model == 'text-embedding-ada-002':\n",
    "        dollar_per_1k_tokens = 0.0004\n",
    "    elif model == 'gpt-4':\n",
    "        dollar_per_1k_tokens = 0.03 \n",
    "    elif model == 'davinci':\n",
    "        dollar_per_1k_tokens = 0.02\n",
    "\n",
    "    num_tokens = 0\n",
    "    cost = 0\n",
    "    for t in texts:\n",
    "        num_tokens += get_tokens(t, model)\n",
    "        cost += num_tokens * dollar_per_1k_tokens / 1000\n",
    "    print(f\"Number of tokens: {num_tokens}\")\n",
    "    print(f\"Cost: US${cost:.4f}\")\n",
    "    print(f\"Cost: ~AU${cost * 1.5:.4f}\")\n",
    "    print(\"Warning: This cost does not account for completion costs, ONLY prompt cost.\")"
   ]
  },
  {
   "cell_type": "code",
   "execution_count": 7,
   "metadata": {},
   "outputs": [],
   "source": [
    "# Function to split text into chunks -> list\n",
    "import re\n",
    "def split_text_into_chunks(text: str, max_tokens=2048) -> List[str]:\n",
    "    \"\"\"Splits text into chunks of max_tokens length.\"\"\"\n",
    "    encoding = tiktoken.encoding_for_model(\"gpt-3.5-turbo-0301\")\n",
    "    tokens = encoding.encode(text)\n",
    "    chunks = []\n",
    "    i = 1\n",
    "    while len(tokens) > max_tokens:\n",
    "        chunk = encoding.decode(tokens[:max_tokens])\n",
    "        chunks.append(f\"Part {i} of <<PARTS>>\\n\\n\" + chunk)\n",
    "        tokens = tokens[max_tokens:]\n",
    "        i += 1\n",
    "    chunk = encoding.decode(tokens)\n",
    "    chunks.append(f\"Part {i} of <<PARTS>>\\n\\n\" + chunk)\n",
    "    chunks = [re.sub(r\"<<PARTS>>\", str(len(chunks)), chunk) for chunk in chunks]\n",
    "    return chunks"
   ]
  },
  {
   "cell_type": "code",
   "execution_count": 55,
   "metadata": {},
   "outputs": [],
   "source": [
    "# Functions to create system & user prompts\n",
    "\n",
    "USER_PROMPT_TEMPLATE = read_file(\"prompts/summary_user.txt\")\n",
    "def generate_user_summary_prompt(text: str) -> str:\n",
    "    \"\"\"Generates summary prompt from text\"\"\"\n",
    "    return re.sub(r\"<<EXCERPT>>\", text, USER_PROMPT_TEMPLATE)\n",
    "\n",
    "SYSTEM_PROMPT_TEMPLATE = read_file(\"prompts/summary_system.txt\")\n",
    "def generate_system_summary_prompt(document_name: str) -> str:\n",
    "    \"\"\"Generates summary prompt from text\"\"\"\n",
    "    return re.sub(r\"<<DOCUMENT_NAME>>\", document_name, SYSTEM_PROMPT_TEMPLATE)"
   ]
  },
  {
   "cell_type": "code",
   "execution_count": 56,
   "metadata": {},
   "outputs": [],
   "source": [
    "# Function to get text output from response -> str\n",
    "def get_text_from_response(response) -> str:\n",
    "    \"\"\"Gets text from response\"\"\"\n",
    "    return response['choices'][0]['message']['content']"
   ]
  },
  {
   "cell_type": "code",
   "execution_count": 44,
   "metadata": {},
   "outputs": [
    {
     "name": "stdout",
     "output_type": "stream",
     "text": [
      "Number of chunks: 14\n",
      "Number of tokens: 26842\n",
      "Cost: US$0.4277\n",
      "Cost: ~AU$0.6415\n",
      "Warning: This cost does not account for completion costs, ONLY prompt cost.\n"
     ]
    }
   ],
   "source": [
    "texts = read_file(file_path=\"2023_Australian_Constitution.txt\")\n",
    "texts = split_text_into_chunks(texts)\n",
    "print(f\"Number of chunks: { len(texts) }\")\n",
    "calculate_cost(texts, model=\"gpt-3.5-turbo\")"
   ]
  },
  {
   "cell_type": "code",
   "execution_count": 53,
   "metadata": {},
   "outputs": [
    {
     "data": {
      "text/plain": [
       "('Extract all key details in the excerpt from the legal document below below. Provide as much detail as possible.',\n",
       " 'Excerpt:\\nPart 1 of 14\\n\\nAUSTRALIA’S CONSTITUTION\\n\\nWith Overview and Notes by the Australian Government Solicitor\\n\\nProduced by the Parliamentary Education Office and Australian Government Solicitor, Canberra\\n\\nTable of contents\\n\\nOverview The Constitution\\n\\niii 1\\n\\nContents Covering clauses Chapter I—The Parliament\\n\\n3\\n\\n6\\n\\n8\\n\\nPart I—General\\n\\nPart II – The Senate\\n\\nPart III – The House of Representatives\\n\\nPart IV – Both Houses of the Parliament\\n\\nPart V – Powers of the Parliament Chapter II—The Executive Government Chapter III—The Judicature Chapter IV—Finance and Trade Chapter V—The States Chapter VI—New States Chapter VII—Miscellaneous Chapter VIII—Alteration of the Constitution\\n\\n8\\n\\n8\\n\\n11\\n\\n13\\n\\n15\\n\\n19\\n\\n21\\n\\n24\\n\\n29\\n\\n31\\n\\n32\\n\\n33\\n\\nNotes\\n\\n35\\n\\nAUSTRALIA’S CONSTITUTION\\n\\nii\\n\\nOverview\\n\\nby the Australian Government Solicitor\\n\\nThe Australian Constitution has properly been described as ‘the birth certificate of a nation’. It also provides the basic rules for the government of Australia. Indeed, the Constitution is the fundamental law of Australia binding everybody including the Commonwealth Parliament and the Parliament of each State. Accordingly, even an Act passed by a Parliament is invalid if it is contrary to the Constitution.\\n\\nBackground to the Constitution\\n\\nThe Constitution was drafted at a series of conventions held during the 1890s and attended by representatives of the colonies. Before the Constitution came into effect, its terms were approved, with one small exception, by the people of New South Wales, Victoria, Queensland, Western Australia, South Australia, and Tasmania.\\n\\nThe Australian Constitution was then passed as part of a British Act of Parliament in 1900, and took effect on 1 January 1901. A British Act was necessary because before 1901 Australia was a collection of six self-governing British colonies and ultimate power over those colonies rested with the British Parliament. In reality, however, the Constitution is a document which was conceived by Australians, drafted by Australians and approved by Australians.\\n\\nSince that time, Australia has become an independent nation, and the character of the Constitution as the fundamental law of Australia is now seen as resting predominantly, not on its status as an Act of the British Parliament, which no longer has any power over Australia, but on the Australian people’s decision to approve and be bound by the terms of the Constitution.\\n\\nWhat has been judicially described as ‘the sovereignty of the Australian people’ is also recognised by section 128 which provides that any change to the Constitution must be approved by the people of Australia.\\n\\nThe Constitution itself is contained in clause 9 of the British Act. The first eight clauses of the British Act are commonly referred to as the ‘covering clauses’. They contain mainly introductory, explanatory and consequential provisions. For example, covering clause 2 provides that references to ‘the Queen’ (meaning Queen Victoria, who was British sovereign at the time the British Act was enacted) shall include references to Queen Victoria’s heirs and successors. Following the death of Queen Elizabeth II in September 2022, references in the Constitution to ‘the Queen’ now include King Charles III.\\n\\nCreation of the Commonwealth of Australia\\n\\nOn the commencement of the British Act on 1 January 1901, the Commonwealth came into being and the six colonies became the six States of Australia (covering clauses 4 and 6).\\n\\nThe Federal Structure\\n\\nThe Constitution establishes a federal system of government. It is for this reason that the establishment of the Commonwealth in 1901 is often referred to as ‘federation’. Under a federal system, powers are distributed between a central government and regional governments. In Australia, that distribution is between the Commonwealth and the six States. (The relationship between the Commonwealth and the Territories is discussed below.)\\n\\nSeparation of Powers\\n\\nChapters I, II, and III of the Constitution confer the legislative, executive, and judicial powers of the Commonwealth on three different bodies which are established by the Constitution – the Parliament (Chapter I), the Executive Government (Chapter II), and the Judicature (Chapter III). Legislative power is the power to make laws. Executive power is the power to administer laws and carry out the business of government, through such bodies as government departments, statutory authorities and the defence forces. Judicial power is the power to conclusively determine legal disputes, traditionally exercised by courts in criminal trials and litigation about such things as contracts and motor accidents.\\n\\nDespite the structure of the Constitution there is no strict demarcation between the legislative and executive powers of the Commonwealth. Only the Parliament can pass Acts, but these Acts often confer on the\\n\\nAUSTRALIA’S CONSTITUTION\\n\\niii\\n\\nExecutive Government the power to make regulations, rules and by-laws in relation to matters relevant to the particular Acts.\\n\\nFor example, the Parliament may enact in the Customs Act that no person may bring a ‘prohibited import’ into Australia and then leave it to the Executive to specify in the Customs Regulations what is a ‘prohibited import’. This delegation of legislative power is not as extreme as it may appear, however, as both Houses of Parliament usually retain the power to ‘disallow’ (that is, reject), within a specified time, any regulation which has been made by the Executive.\\n\\nThe distinction between the Parliament and the Executive Government is further blurred by the fact that the Prime Minister and the other Government Ministers (who form part of the Executive) must be members of Parliament. This reflects the principle of responsible government (discussed below) under which Government Ministers must be members of, and accountable to, the Parliament.\\n\\nBy contrast, the separation between the Judicature on the one hand and the Parliament and the Executive Government on the other is strict. Only a court may exercise the judicial power of the Commonwealth, so that, for example, the question whether a person has contravened a law of the Parliament (for example, by bringing a ‘prohibited import’ into the country) can only be conclusively determined by a court.\\n\\nThe Crown and Responsible Government\\n\\nAs well as being a federation, Australia is a constitutional monarchy. Under this system of government, as the term suggests, the head of State of a country is a monarch whose functions are regulated by a constitution. The concept of ‘the Crown’ pervades the Constitution. For example, the Queen is part of the Parliament (section 1), and is empowered to appoint the Governor-General as her representative (section 2). The executive power of the Commonwealth is vested in the Queen and is exercisable by the Governor-General as her representative (section 61).\\n\\nDespite the terms of the Constitution, the Queen does not play a day-to-day role in the Commonwealth Government. Those few functions which the Queen does perform (for example, appointing the Governor-General) are done in accordance with advice from the Prime Minister.\\n\\nThe Governor-General performs a large number of functions. However, apart from exceptional circumstances (discussed below), the Governor-General acts in accordance with the advice of Commonwealth Ministers. The reason for this is the principle of ‘responsible government’ which is basic to our system of government and which underlies our Constitution. Under this principle, the Crown (represented by the Governor-General) acts on the advice of its Ministers who are in turn members of, and responsible to, the Parliament. It is for this reason that section 64 of the Constitution requires Ministers to be, or become, members of Parliament.\\n\\nThere is a small number of matters (probably only four) in relation to which the Governor-General is not required to act in accordance with Ministerial advice. The powers which the Governor-General has in this respect are known as ‘reserve powers’. The two most important reserve powers are the powers to appoint and to dismiss a Prime Minister. In exercising a reserve power, the Governor-General ordinarily acts in accordance with established and generally accepted rules of practice known as ‘conventions’. For example, when appointing a Prime Minister under section 64 of the Constitution, the Governor-General must, by convention, appoint the parliamentary leader of the party or coalition of parties which has a majority of seats in the House of Representatives.\\n\\nThere can be circumstances, however, where there is no generally agreed convention to control the exercise of the Governor-General’s reserve powers. Such a situation arose in 1975 when the Governor-General, Sir John Kerr, dismissed the Prime Minister, Mr E.G. Whitlam, after the Senate – controlled by Opposition parties – blocked the passage of the Supply Bill in an attempt to deprive the Whitlam Government of the funds needed to govern.\\n\\nSome people argue that Sir John acted properly in dismissing Mr Whitlam as it was consistent with a ‘convention’ that a Prime Minister who cannot obtain supply should either seek a general election or be dismissed. Others contend that the dismissal of Mr Whitlam breached the convention that a person who retains majority support of the House of Representatives, as Mr Whitlam did, is entitled to remain Prime Minister.\\n\\nAUSTRALIA’S CONSTITUTION\\n\\niv\\n\\nRepresentative Government\\n\\nAnother fundamental principle which underlies the Constitution is that of ‘representative government’ that is, government by representatives of the people who are chosen by the people. Consistently with this principle, sections 7 and 28 of the Constitution require regular elections for the House of Representatives and the Senate, and sections 7 and 24 require members of the Commonwealth Parliament to be directly chosen by the people.\\n\\nCommonwealth Parliament\\n\\nThe Constitution established the Commonwealth Parliament comprising the Queen, a House of Representatives and a Senate (sections 1–60). The people of each of the six States elect the same number of senators (currently 12), regardless of their State’s population, and the people of the Northern Territory and the Australian Capital Territory are each currently represented by two senators. This gives a total of 76 senators. In the House of Representatives the number of seats from each State (and Territory) depends on the population (although each State is guaranteed at least five seats). The current number of members of the House of Representatives is 151.\\n\\nBefore a proposed law (commonly referred to as a Bill) becomes an\\n\\n\\nWrite your response in the following format:\\nPart {n} of {N}\\nSection {section}: {key details of section}')"
      ]
     },
     "execution_count": 53,
     "metadata": {},
     "output_type": "execute_result"
    }
   ],
   "source": [
    "user_prompts = [generate_user_summary_prompt(text) for text in texts]\n",
    "system_prompts = [generate_system_summary_prompt(\"the legal document below\") for text in texts]\n",
    "prompts = list(zip(system_prompts, user_prompts))\n",
    "prompts[0]"
   ]
  },
  {
   "cell_type": "code",
   "execution_count": 9,
   "metadata": {},
   "outputs": [
    {
     "data": {
      "text/plain": [
       "<OpenAIObject chat.completion id=chatcmpl-7GzUaHiSrEORcr5lkzQWwtzKLrOk1 at 0x10d6ec530> JSON: {\n",
       "  \"choices\": [\n",
       "    {\n",
       "      \"finish_reason\": \"stop\",\n",
       "      \"index\": 0,\n",
       "      \"message\": {\n",
       "        \"content\": \"Act of Parliament, it must be passed by both Houses of Parliament and receive Royal Assent (section 58). The Parliament has the power to make laws with respect to a wide range of matters, including taxation, defence, trade and commerce, and immigration (Chapter I, Part V).\\n\\nExecutive Government\\n\\nThe Constitution vests the executive power of the Commonwealth in the Queen and provides for the Governor-General to exercise that power on behalf of the Queen (section 61). The Governor-General is appointed by the Queen on the advice of the Prime Minister (section 2). The Governor-General appoints Ministers to form the Executive Government, and those Ministers are responsible to the Parliament (section 64).\\n\\nJudicature\\n\\nThe Constitution establishes a federal judicature consisting of a High Court and such other federal courts as the Parliament creates (Chapter III). The High Court is the final court of appeal in Australia and has the power to interpret the Constitution and determine the validity of laws made by the Commonwealth and the States.\\n\\nFinance and Trade\\n\\nThe Constitution provides for the Commonwealth to have the power to impose taxes, borrow money, and regulate trade and commerce (Chapter IV). The Commonwealth also has the power to make grants to the States for specific purposes (section 96).\\n\\nThe States\\n\\nThe Constitution recognises the six States of Australia and provides for their continued existence (Chapter V). The States have their own constitutions and parliaments, and are responsible for a range of matters including education, health, and transport.\\n\\nAlteration of the Constitution\\n\\nThe Constitution can only be altered by a referendum in which a majority of voters in a majority of States, and a majority of all voters, approve the proposed amendment (section 128).\\n\\nOverall, the Australian Constitution is a complex document that sets out the basic rules for the government of Australia. It establishes a federal system of government, separates the powers of the legislative, executive, and judicial branches, and recognises the role of the Crown and the principle of representative government.\",\n",
       "        \"role\": \"assistant\"\n",
       "      }\n",
       "    }\n",
       "  ],\n",
       "  \"created\": 1684283980,\n",
       "  \"id\": \"chatcmpl-7GzUaHiSrEORcr5lkzQWwtzKLrOk1\",\n",
       "  \"model\": \"gpt-3.5-turbo-0301\",\n",
       "  \"object\": \"chat.completion\",\n",
       "  \"usage\": {\n",
       "    \"completion_tokens\": 401,\n",
       "    \"prompt_tokens\": 2063,\n",
       "    \"total_tokens\": 2464\n",
       "  }\n",
       "}"
      ]
     },
     "execution_count": 9,
     "metadata": {},
     "output_type": "execute_result"
    }
   ],
   "source": [
    "# base case\n",
    "response = generate_text(texts[0])\n",
    "response"
   ]
  },
  {
   "cell_type": "code",
   "execution_count": 57,
   "metadata": {},
   "outputs": [
    {
     "name": "stdout",
     "output_type": "stream",
     "text": [
      "14\n",
      "14\n"
     ]
    },
    {
     "data": {
      "text/plain": [
       "'Part 12 of 14\\nSection 51 (xxxvii): This section allows the Parliament to make laws for the people of any race, other than the aboriginal race in any State, for whom it is deemed necessary to make special laws. The excerpt also lists the Acts passed by the Parliaments of the States to refer matters to the Parliament or adopt a Commonwealth law under section 51 (xxxvii), including the short title, number, and how they are affected.'"
      ]
     },
     "execution_count": 57,
     "metadata": {},
     "output_type": "execute_result"
    }
   ],
   "source": [
    "responses = concurrent_generate_text(prompts=prompts)\n",
    "print(len(responses))\n",
    "responses_text = [get_text_from_response(response) for response in responses]\n",
    "print( len(responses_text) )\n",
    "responses_text[0]"
   ]
  },
  {
   "cell_type": "code",
   "execution_count": 64,
   "metadata": {},
   "outputs": [],
   "source": [
    "def merge_responses(responses_text: List[str]) -> str:\n",
    "    summary = ''\n",
    "    for response in responses_text:\n",
    "        summary += response\n",
    "        summary += '\\n\\n'\n",
    "    return summary"
   ]
  },
  {
   "cell_type": "code",
   "execution_count": 60,
   "metadata": {},
   "outputs": [],
   "source": [
    "write_file(\"Constitution summary.txt\", summary)"
   ]
  },
  {
   "cell_type": "code",
   "execution_count": 68,
   "metadata": {},
   "outputs": [],
   "source": [
    "summary = read_file(\"Constitution summary.txt\")"
   ]
  },
  {
   "cell_type": "code",
   "execution_count": 69,
   "metadata": {},
   "outputs": [
    {
     "name": "stdout",
     "output_type": "stream",
     "text": [
      "Number of tokens: 7125\n",
      "Cost: US$0.0143\n",
      "Cost: ~AU$0.0214\n",
      "Warning: This cost does not account for completion costs, ONLY prompt cost.\n"
     ]
    }
   ],
   "source": [
    "calculate_cost([summary], model=\"gpt-3.5-turbo\")"
   ]
  },
  {
   "cell_type": "code",
   "execution_count": 70,
   "metadata": {},
   "outputs": [
    {
     "name": "stdout",
     "output_type": "stream",
     "text": [
      "Number of chunks: 3\n"
     ]
    }
   ],
   "source": [
    "chunked_summary = split_text_into_chunks(summary, max_tokens=3000)\n",
    "print(f\"Number of chunks: { len(chunked_summary) }\")"
   ]
  },
  {
   "cell_type": "code",
   "execution_count": 71,
   "metadata": {},
   "outputs": [],
   "source": [
    "user_prompts = [generate_user_summary_prompt(text) for text in chunked_summary]\n",
    "system_prompts = [generate_system_summary_prompt(\"the legal document below\") for text in chunked_summary]\n",
    "prompts = list(zip(system_prompts, user_prompts))"
   ]
  },
  {
   "cell_type": "code",
   "execution_count": 72,
   "metadata": {},
   "outputs": [
    {
     "name": "stdout",
     "output_type": "stream",
     "text": [
      "3\n",
      "3\n"
     ]
    }
   ],
   "source": [
    "responses = concurrent_generate_text(prompts=prompts)\n",
    "print(len(responses))\n",
    "responses_text = [get_text_from_response(response) for response in responses]\n",
    "print( len(responses_text) )\n",
    "summary = merge_responses(responses_text)\n",
    "write_file(\"Constitution summary p2.txt\", summary)"
   ]
  },
  {
   "attachments": {},
   "cell_type": "markdown",
   "metadata": {},
   "source": [
    "Selenium is a TOOL.\n",
    "GPT 3.5 turbo is a tool.\n",
    "Sell it as a tool.\n",
    "Use it as a tool to make enhancements to the user experience\n",
    "\n",
    "**SUGGEST NEXT TEXT SEGMENT FOR WRITING LAW ARTICLES, CASES, REPORTS, etc whatever you can find that lawers use**\n"
   ]
  },
  {
   "attachments": {},
   "cell_type": "markdown",
   "metadata": {},
   "source": []
  },
  {
   "cell_type": "code",
   "execution_count": 73,
   "metadata": {},
   "outputs": [
    {
     "name": "stdout",
     "output_type": "stream",
     "text": [
      "Number of tokens: 2333\n",
      "Cost: US$0.0047\n",
      "Cost: ~AU$0.0070\n",
      "Warning: This cost does not account for completion costs, ONLY prompt cost.\n"
     ]
    }
   ],
   "source": [
    "text = read_file(\"Constitution summary p2.txt\")\n",
    "calculate_cost([text], model=\"gpt-3.5-turbo\")"
   ]
  },
  {
   "cell_type": "code",
   "execution_count": 74,
   "metadata": {},
   "outputs": [],
   "source": [
    "import re\n",
    "\n",
    "def sort_sections(text):\n",
    "    lines = text.split('\\n')\n",
    "    section_lines = [line for line in lines if not line.startswith('Part ')]\n",
    "\n",
    "    # Extract section numbers from the lines\n",
    "    section_dict = {}\n",
    "    for line in section_lines:\n",
    "        match = re.match(r'Section (\\d+)', line)\n",
    "        if match:\n",
    "            section_number = int(match.group(1))\n",
    "            if section_number in section_dict:\n",
    "                section_dict[section_number].append(line)\n",
    "            else:\n",
    "                section_dict[section_number] = [line]\n",
    "\n",
    "    # Sort the sections by section number and join them back into a string\n",
    "    sorted_text = '\\n'.join('\\n'.join(section_dict[section]) for section in sorted(section_dict.keys()))\n",
    "    return sorted_text"
   ]
  },
  {
   "cell_type": "code",
   "execution_count": 75,
   "metadata": {},
   "outputs": [],
   "source": [
    "text = sort_sections(text)\n",
    "write_file(\"Constitution summary p2.txt\", text)"
   ]
  },
  {
   "cell_type": "code",
   "execution_count": 78,
   "metadata": {},
   "outputs": [],
   "source": [
    "text = read_file(\"Constitution summary p2.txt\")\n",
    "system_prompt = (\"Write a cohesive, comprehensive, detailed, summary of the document provided.\")\n",
    "response = generate_text(user_prompt=text, system_prompt=system_prompt)\n",
    "summary = get_text_from_response(response)\n",
    "write_file(\"Constitution summary p3.txt\", summary)"
   ]
  },
  {
   "cell_type": "code",
   "execution_count": null,
   "metadata": {},
   "outputs": [],
   "source": []
  }
 ],
 "metadata": {
  "kernelspec": {
   "display_name": "selenium",
   "language": "python",
   "name": "python3"
  },
  "language_info": {
   "codemirror_mode": {
    "name": "ipython",
    "version": 3
   },
   "file_extension": ".py",
   "mimetype": "text/x-python",
   "name": "python",
   "nbconvert_exporter": "python",
   "pygments_lexer": "ipython3",
   "version": "3.11.3"
  },
  "orig_nbformat": 4
 },
 "nbformat": 4,
 "nbformat_minor": 2
}
